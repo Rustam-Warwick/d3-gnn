{
 "cells": [
  {
   "cell_type": "code",
   "execution_count": 2,
   "id": "f344b303-331f-4ca5-9146-68fd0f823657",
   "metadata": {},
   "outputs": [],
   "source": [
    "import sys\n",
    "\n",
    "sys.path.append('/home/rustambaku13/Documents/Warwick/flink-streaming-gnn/python')"
   ]
  },
  {
   "cell_type": "code",
   "execution_count": 3,
   "id": "40e20b1e-74b9-423e-8c2a-578cd0e2a5eb",
   "metadata": {},
   "outputs": [],
   "source": [
    "import jax\n",
    "from flax.linen import relu, softmax, sigmoid\n",
    "from nn.jax.multi_layer_dense import MultiLayerDense"
   ]
  },
  {
   "cell_type": "code",
   "execution_count": 4,
   "id": "04f95311-b849-4840-a4b7-78ab5fdd09f6",
   "metadata": {},
   "outputs": [],
   "source": [
    "predict_fn = MultiLayerDense(features=[16, 32, 7], activations=[relu, relu, softmax ])"
   ]
  },
  {
   "cell_type": "code",
   "execution_count": 5,
   "id": "e5d3a9a1-ce0d-41eb-9a07-dfc2cead25ff",
   "metadata": {},
   "outputs": [
    {
     "name": "stderr",
     "output_type": "stream",
     "text": [
      "WARNING:absl:No GPU/TPU found, falling back to CPU. (Set TF_CPP_MIN_LOG_LEVEL=0 and rerun for more info.)\n"
     ]
    }
   ],
   "source": [
    "predict_fn_params = predict_fn.init(jax.random.PRNGKey(0), jax.random.uniform(jax.random.PRNGKey(0), (7,)))"
   ]
  },
  {
   "cell_type": "code",
   "execution_count": 6,
   "id": "adffde2c-7519-4c12-bea5-ef4707db6c3b",
   "metadata": {},
   "outputs": [],
   "source": [
    "def loss(parameters, embedding, label):\n",
    "    prediction = predict_fn.apply(parameters, embedding)\n",
    "    label_probs = prediction * label + (1 - prediction) * (1 - label)\n",
    "    return -jax.numpy.sum(jax.numpy.log(label_probs))\n",
    "def batch_loss(parameters, batch_embeddings, batch_labels):\n",
    "    losses = jax.vmap(loss, (None, 0, 0))(parameters, batch_embeddings, batch_labels)\n",
    "    return jax.numpy.sum(losses)"
   ]
  },
  {
   "cell_type": "code",
   "execution_count": 7,
   "id": "30777158-0bbb-4254-8166-a44469541d40",
   "metadata": {},
   "outputs": [],
   "source": [
    "labels = jax.numpy.eye(7)"
   ]
  },
  {
   "cell_type": "code",
   "execution_count": 8,
   "id": "79a3ad5f-e741-4697-a1b6-00a9a8447030",
   "metadata": {},
   "outputs": [],
   "source": [
    "logits = jax.random.uniform(jax.random.PRNGKey(0), (7,7))"
   ]
  },
  {
   "cell_type": "code",
   "execution_count": 54,
   "id": "e58223f9-e890-42ef-97a1-e7b47bdace11",
   "metadata": {
    "collapsed": true,
    "jupyter": {
     "outputs_hidden": true
    },
    "tags": []
   },
   "outputs": [
    {
     "name": "stdout",
     "output_type": "stream",
     "text": [
      "23.153784\n",
      "23.079899\n",
      "23.007263\n",
      "22.935833\n",
      "22.86558\n",
      "22.796467\n",
      "22.72847\n",
      "22.66156\n",
      "22.595722\n",
      "22.530933\n",
      "22.467182\n",
      "22.404453\n",
      "22.342735\n",
      "22.28202\n",
      "22.222298\n",
      "22.163568\n",
      "22.105824\n",
      "22.049057\n",
      "21.993273\n",
      "21.938465\n",
      "21.884636\n",
      "21.83178\n",
      "21.7799\n",
      "21.728992\n",
      "21.679066\n",
      "21.630112\n",
      "21.58213\n",
      "21.535128\n",
      "21.489098\n",
      "21.444038\n",
      "21.399954\n",
      "21.356838\n",
      "21.314692\n",
      "21.273506\n",
      "21.233284\n",
      "21.19402\n",
      "21.155706\n",
      "21.11834\n",
      "21.081911\n",
      "21.04642\n",
      "21.011852\n",
      "20.978203\n",
      "20.945461\n",
      "20.91362\n",
      "20.882668\n",
      "20.852596\n",
      "20.823393\n",
      "20.795044\n",
      "20.76754\n",
      "20.740868\n",
      "20.715014\n",
      "20.689968\n",
      "20.66571\n",
      "20.642227\n",
      "20.619513\n",
      "20.597542\n",
      "20.576305\n",
      "20.55579\n",
      "20.535976\n",
      "20.51685\n",
      "20.498398\n",
      "20.4806\n",
      "20.463446\n",
      "20.446915\n",
      "20.431\n",
      "20.415676\n",
      "20.400932\n",
      "20.386753\n",
      "20.373127\n",
      "20.360031\n",
      "20.347454\n",
      "20.33538\n",
      "20.3238\n",
      "20.312689\n",
      "20.30204\n",
      "20.291838\n",
      "20.282066\n",
      "20.272713\n",
      "20.263767\n",
      "20.255207\n",
      "20.24703\n",
      "20.239216\n",
      "20.231754\n",
      "20.224632\n",
      "20.217834\n",
      "20.211355\n",
      "20.20518\n",
      "20.199295\n",
      "20.193691\n",
      "20.188358\n",
      "20.183285\n",
      "20.178461\n",
      "20.173874\n",
      "20.169518\n",
      "20.165379\n",
      "20.161453\n",
      "20.157726\n",
      "20.154192\n",
      "20.15084\n",
      "20.147665\n"
     ]
    }
   ],
   "source": [
    "for i in range(100):\n",
    "    \n",
    "\n",
    "    primals, f_vjp = jax.vjp(batch_loss, predict_fn_params, logits, labels)\n",
    "\n",
    "    print(primals)\n",
    "\n",
    "    delta = jax.grad(batch_loss)(predict_fn_params, logits, labels)\n",
    "\n",
    "    predict_fn_params = jax.tree_multimap(lambda x, y: jax.numpy.asarray(x - (y * 0.03)), predict_fn_params, delta)"
   ]
  },
  {
   "cell_type": "code",
   "execution_count": 56,
   "id": "5f311f0c-5a75-4afa-a5c5-5fc9944ee2b3",
   "metadata": {},
   "outputs": [],
   "source": [
    "a = (jax.numpy.ones(7), jax.numpy.ones(7), jax.numpy.ones(7))"
   ]
  },
  {
   "cell_type": "code",
   "execution_count": 62,
   "id": "e5dacee6-825f-4adf-a87b-4378c8812bf9",
   "metadata": {},
   "outputs": [],
   "source": [
    "b = jax.numpy.vstack(a)"
   ]
  },
  {
   "cell_type": "code",
   "execution_count": 72,
   "id": "e10741e9-a5d0-4c94-8eb3-15da053383bd",
   "metadata": {},
   "outputs": [],
   "source": [
    "s = jax.numpy.sum(b, axis=0)"
   ]
  },
  {
   "cell_type": "code",
   "execution_count": 75,
   "id": "5074d186-56cb-411f-a9b4-1946cc3ca7a3",
   "metadata": {},
   "outputs": [],
   "source": [
    "a = [(1,1), (2,2), (3,3)]"
   ]
  },
  {
   "cell_type": "code",
   "execution_count": 81,
   "id": "ec572ec8-1128-4f73-b58d-700c4d0cdc21",
   "metadata": {},
   "outputs": [
    {
     "data": {
      "text/plain": [
       "[1, 2, 3]"
      ]
     },
     "execution_count": 81,
     "metadata": {},
     "output_type": "execute_result"
    }
   ],
   "source": [
    "list(map(lambda x: x[0], a))"
   ]
  },
  {
   "cell_type": "code",
   "execution_count": 101,
   "id": "56071656-b3fd-474a-b55d-fab449651a82",
   "metadata": {},
   "outputs": [],
   "source": [
    "def f(x):\n",
    "    return jax.lax.log(x) * x**2"
   ]
  },
  {
   "cell_type": "code",
   "execution_count": 103,
   "id": "3d05af2b-9848-4a7b-b634-1b92dbb75748",
   "metadata": {},
   "outputs": [
    {
     "data": {
      "text/plain": [
       "DeviceArray([[1.       , 0.       , 0.       ],\n",
       "             [0.       , 4.7725887, 0.       ],\n",
       "             [0.       , 0.       , 9.591674 ]], dtype=float32)"
      ]
     },
     "execution_count": 103,
     "metadata": {},
     "output_type": "execute_result"
    }
   ],
   "source": [
    "jax.jacfwd(f)(jax.numpy.array([1.,2.,3.]))"
   ]
  },
  {
   "cell_type": "code",
   "execution_count": 89,
   "id": "da689db2-5124-45d5-b7d6-6df1c3f431f9",
   "metadata": {},
   "outputs": [
    {
     "data": {
      "text/plain": [
       "DeviceArray(9.88751, dtype=float32, weak_type=True)"
      ]
     },
     "execution_count": 89,
     "metadata": {},
     "output_type": "execute_result"
    }
   ],
   "source": [
    "f(3.)"
   ]
  },
  {
   "cell_type": "code",
   "execution_count": null,
   "id": "618ef4c4-cf14-4fa4-8b79-4c5a38dbae25",
   "metadata": {},
   "outputs": [],
   "source": []
  }
 ],
 "metadata": {
  "kernelspec": {
   "display_name": "Python 3",
   "language": "python",
   "name": "python3"
  },
  "language_info": {
   "codemirror_mode": {
    "name": "ipython",
    "version": 3
   },
   "file_extension": ".py",
   "mimetype": "text/x-python",
   "name": "python",
   "nbconvert_exporter": "python",
   "pygments_lexer": "ipython3",
   "version": "3.8.12"
  }
 },
 "nbformat": 4,
 "nbformat_minor": 5
}
