{
 "cells": [
  {
   "cell_type": "code",
   "execution_count": 1,
   "id": "d145a0b1",
   "metadata": {},
   "outputs": [],
   "source": [
    "import pandas as pd"
   ]
  },
  {
   "cell_type": "code",
   "execution_count": 22,
   "id": "78750f21",
   "metadata": {},
   "outputs": [],
   "source": [
    "import torch"
   ]
  },
  {
   "cell_type": "code",
   "execution_count": null,
   "id": "0b065c5b",
   "metadata": {},
   "outputs": [],
   "source": []
  },
  {
   "cell_type": "code",
   "execution_count": 42,
   "id": "eaa477d8",
   "metadata": {},
   "outputs": [],
   "source": [
    "one_hot_values = torch.eye(7)\n",
    "category_list = pd.unique(values[1]).tolist()"
   ]
  },
  {
   "cell_type": "code",
   "execution_count": 12,
   "id": "63999f6f",
   "metadata": {},
   "outputs": [],
   "source": [
    "edges = pd.read_csv(\"cora/edges.csv\", header=None)"
   ]
  },
  {
   "cell_type": "code",
   "execution_count": 53,
   "id": "6423ccf7",
   "metadata": {},
   "outputs": [],
   "source": [
    "values = pd.read_csv(\"cora/group-edges.csv\", header=None,index_col=0)"
   ]
  },
  {
   "cell_type": "code",
   "execution_count": 67,
   "id": "71d041fb",
   "metadata": {},
   "outputs": [
    {
     "data": {
      "text/plain": [
       "'Rule_Learning'"
      ]
     },
     "execution_count": 67,
     "metadata": {},
     "output_type": "execute_result"
    }
   ],
   "source": []
  },
  {
   "cell_type": "code",
   "execution_count": 72,
   "id": "2fefbe84",
   "metadata": {},
   "outputs": [],
   "source": [
    "added_dict = dict()"
   ]
  },
  {
   "cell_type": "code",
   "execution_count": 73,
   "id": "c70e4d97",
   "metadata": {},
   "outputs": [],
   "source": [
    "with open(\"cora/merged.csv\", \"w\") as f:\n",
    "    for i,j in edges.values:\n",
    "        f.write(\"%s\\t%s\\n\" % (i, j))\n",
    "        if i not in added_dict:\n",
    "            category = values.loc[i].values[0]\n",
    "            f.write(\"%s\\t%s\\n\" % (i,category))\n",
    "            added_dict[i] = True\n",
    "        if j not in added_dict:\n",
    "            category = values.loc[j].values[0]\n",
    "            f.write(\"%s\\t%s\\n\" % (j,category))\n",
    "            added_dict[j] = True"
   ]
  },
  {
   "cell_type": "code",
   "execution_count": null,
   "id": "45e8e202",
   "metadata": {},
   "outputs": [],
   "source": []
  },
  {
   "cell_type": "code",
   "execution_count": null,
   "id": "b6164e75",
   "metadata": {},
   "outputs": [],
   "source": []
  }
 ],
 "metadata": {
  "kernelspec": {
   "display_name": "Python 3 (ipykernel)",
   "language": "python",
   "name": "python3"
  },
  "language_info": {
   "codemirror_mode": {
    "name": "ipython",
    "version": 3
   },
   "file_extension": ".py",
   "mimetype": "text/x-python",
   "name": "python",
   "nbconvert_exporter": "python",
   "pygments_lexer": "ipython3",
   "version": "3.8.12"
  }
 },
 "nbformat": 4,
 "nbformat_minor": 5
}
