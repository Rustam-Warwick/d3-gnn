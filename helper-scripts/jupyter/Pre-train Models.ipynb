{
 "cells": [
  {
   "cell_type": "code",
   "execution_count": 11,
   "id": "c3865b84-b99f-472e-ac6e-59d84dd2eccd",
   "metadata": {},
   "outputs": [],
   "source": [
    "import pandas as pd\n",
    "import numpy as np\n",
    "import string\n",
    "import random\n",
    "import torch\n",
    "import collections\n",
    "import dgl\n",
    "import tqdm\n",
    "import sklearn.metrics as metrics\n",
    "import os\n",
    "os.environ[\"DATASET_DIR\"] = \"/Users/rustamwarwick/Documents/Warwick/d3-gnn/datasets\""
   ]
  },
  {
   "cell_type": "code",
   "execution_count": 92,
   "id": "dd707023-7067-4999-8ab4-1db1670cdb2a",
   "metadata": {},
   "outputs": [],
   "source": [
    "class ThreeLayerGraphSAGE(torch.nn.Module):\n",
    "    def __init__(self, in_features, hidden_features, out_features):\n",
    "        super().__init__()\n",
    "        self.conv1 = dgl.nn.SAGEConv(in_features, hidden_features, aggregator_type=\"mean\")\n",
    "        self.conv2 = dgl.nn.SAGEConv(hidden_features, hidden_features, aggregator_type=\"mean\")\n",
    "        self.conv3 = dgl.nn.SAGEConv(hidden_features, out_features, aggregator_type=\"mean\")\n",
    "        self.ff = torch.nn.Sequential(\n",
    "            torch.nn.Linear(out_features, out_features),\n",
    "            torch.nn.ReLU(),\n",
    "            torch.nn.Linear(out_features, out_features),\n",
    "            torch.nn.ReLU(),\n",
    "            torch.nn.Linear(out_features, out_features),\n",
    "            torch.nn.ReLU(),\n",
    "        )\n",
    "    def forward(self, g, x):\n",
    "        x = self.conv1(g[0], x)\n",
    "        x = self.conv2(g[1], x)\n",
    "        x = self.conv3(g[2], x)\n",
    "        return torch.nn.functional.softmax(self.ff(x), dim=1)\n"
   ]
  },
  {
   "cell_type": "code",
   "execution_count": 125,
   "id": "c669b1e7-0b0a-44fa-82e9-acf75c1947bf",
   "metadata": {},
   "outputs": [],
   "source": [
    "class SAGE(torch.nn.Module):\n",
    "    def __init__(self\n",
    "                 , in_channels\n",
    "                 , hidden_channels\n",
    "                 , out_channels\n",
    "                 , num_layers\n",
    "                 , dropout\n",
    "                 , batchnorm=True):\n",
    "        super(SAGE, self).__init__()\n",
    "\n",
    "        self.convs = torch.nn.ModuleList()\n",
    "        self.convs.append(dgl.nn.SAGEConv(in_channels, hidden_channels, aggregator_type=\"mean\"))\n",
    "        self.bns = torch.nn.ModuleList()\n",
    "        self.batchnorm = batchnorm\n",
    "        if self.batchnorm:\n",
    "            self.bns.append(torch.nn.BatchNorm1d(hidden_channels))\n",
    "        for _ in range(num_layers - 2):\n",
    "            self.convs.append(dgl.nn.SAGEConv(hidden_channels, hidden_channels, aggregator_type=\"mean\"))\n",
    "            if self.batchnorm:\n",
    "                self.bns.append(torch.nn.BatchNorm1d(hidden_channels))\n",
    "        self.convs.append(dgl.nn.SAGEConv(hidden_channels, out_channels, aggregator_type=\"mean\"))\n",
    "\n",
    "        self.dropout = dropout\n",
    "\n",
    "    def reset_parameters(self):\n",
    "        for conv in self.convs:\n",
    "            conv.reset_parameters()\n",
    "        if self.batchnorm:\n",
    "            for bn in self.bns:\n",
    "                bn.reset_parameters()\n",
    "\n",
    "    def forward(self, g, x):\n",
    "        for i, conv in enumerate(self.convs[:-1]):\n",
    "            x = conv(g[i],x)\n",
    "            if self.batchnorm: \n",
    "                x = self.bns[i](x)\n",
    "            x = torch.relu(x)\n",
    "            x = torch.dropout(x, p=self.dropout, train=self.training)\n",
    "        x = self.convs[-1](g[-1],x)\n",
    "        return x.log_softmax(dim=-1)"
   ]
  },
  {
   "cell_type": "markdown",
   "id": "5a83f2e4-3d1c-4f53-a124-a16e6a10d684",
   "metadata": {
    "tags": []
   },
   "source": [
    "# Get OGB-Products"
   ]
  },
  {
   "cell_type": "code",
   "execution_count": 37,
   "id": "d6397e27-eb14-4571-a9bb-c2ae671706b7",
   "metadata": {},
   "outputs": [],
   "source": [
    "def get_ogb(nedge=20000000):\n",
    "    topology = pd.read_csv(os.path.join(os.environ[\"DATASET_DIR\"], \"ogb-products\",\"edges.csv\"), header=None, nrows=nedge)\n",
    "    features = pd.read_csv(os.path.join(os.environ[\"DATASET_DIR\"], \"ogb-products\",\"node_features.csv\"), header=None, index_col=0)\n",
    "    labels = pd.read_csv(os.path.join(os.environ[\"DATASET_DIR\"], \"ogb-products\",\"node_labels.csv\"), header=None, index_col=0)\n",
    "    graph = dgl.graph((topology[0].values, topology[1].values))\n",
    "    graph.ndata['f'] = torch.tensor(features.values, dtype=torch.float32)\n",
    "    graph.ndata['l'] = torch.tensor(labels.values[:,0], dtype=torch.int64)\n",
    "    return graph\n",
    "\n",
    "def save_ogb_model(model):\n",
    "    os.mkdir(os.path.join(os.environ[\"DATASET_DIR\"], \"ogb-products\",\"graphSage\"))\n",
    "    for i, weight in enumerate(model.parameters()):\n",
    "        np.save(os.path.join(os.environ[\"DATASET_DIR\"], \"ogb-products\",\"graphSage\",str(i)), weight.data)\n",
    "    \n",
    "def load_ogb_model(model):\n",
    "    for i, j in enumerate(model.parameters()):\n",
    "        d = np.load(os.path.join(os.environ[\"DATASET_DIR\"], \"ogb-products\",\"graphSage\",str(i) + '.npy'))\n",
    "        j.data = torch.tensor(np.load(os.path.join(os.environ[\"DATASET_DIR\"], \"ogb-products\",\"graphSage\",str(i) + '.npy')), requires_grad=True)\n",
    "        \n",
    "    "
   ]
  },
  {
   "cell_type": "markdown",
   "id": "7b7152c8-88ec-442f-b7ed-f9cc12983749",
   "metadata": {},
   "source": [
    "# Get GRaphFin"
   ]
  },
  {
   "cell_type": "code",
   "execution_count": 88,
   "id": "a8dea674-ad85-48e3-a554-9fd722b3cbfe",
   "metadata": {},
   "outputs": [],
   "source": [
    "def get_dgraphFin():\n",
    "    # 0 non-fraud, 1-fraud\n",
    "    res = np.load(os.path.join(os.environ[\"DATASET_DIR\"], \"DGraphFin\",\"dgraphfin.npz\"))\n",
    "    edges = res['edge_index']\n",
    "    g = dgl.graph((edges[:,0], edges[:,1]))\n",
    "    g.ndata[\"x\"] = torch.tensor(res['x']).type(torch.float32)\n",
    "    g.ndata[\"y\"] = torch.tensor(res['y'])\n",
    "    return g, res['train_mask'], res['test_mask']"
   ]
  },
  {
   "cell_type": "code",
   "execution_count": 89,
   "id": "cdb0e91b-13a1-4d5b-bcca-35f35cbac4c0",
   "metadata": {
    "tags": []
   },
   "outputs": [],
   "source": [
    "g,train_mask, test_mask = get_dgraphFin()"
   ]
  },
  {
   "cell_type": "markdown",
   "id": "c28e0823-87fe-415f-8e52-1c11fe61ea72",
   "metadata": {},
   "source": [
    "# Train"
   ]
  },
  {
   "cell_type": "code",
   "execution_count": 133,
   "id": "3f3e7830-8c19-4e42-97a8-0f0c5db60cf5",
   "metadata": {},
   "outputs": [],
   "source": [
    "model = SAGE(17, 128, 2, 3, 0.3)\n",
    "sampler = dgl.dataloading.MultiLayerNeighborSampler([20,50, 100])\n",
    "sampler_full = dgl.dataloading.MultiLayerFullNeighborSampler(3)\n",
    "class_imbalance = (g.ndata['y'] == 1).sum() / (g.ndata['y'] == 0).sum()\n",
    "dataloader = dgl.dataloading.DataLoader(\n",
    "    g, train_mask, sampler,\n",
    "    batch_size=512,\n",
    "    shuffle=True,\n",
    "    drop_last=False,\n",
    "    num_workers=4)\n",
    "test_dataloader = dgl.dataloading.DataLoader(\n",
    "    g, test_mask, sampler_full,\n",
    "    batch_size=test_mask.shape[0],\n",
    "    shuffle=True,\n",
    "    drop_last=False,\n",
    "    num_workers=4)\n",
    "opt = torch.optim.Adam(model.parameters(),lr=1e-4, weight_decay=1e-5)\n",
    "loss = torch.nn.NLLLoss(weight=torch.tensor([1, 1/class_imbalance]))"
   ]
  },
  {
   "cell_type": "code",
   "execution_count": 139,
   "id": "663e6a6b-f969-489d-b7aa-3715674cf3d3",
   "metadata": {
    "tags": []
   },
   "outputs": [
    {
     "name": "stderr",
     "output_type": "stream",
     "text": [
      "  5%|██████████                                                                                                                                                                                                | 1/20 [00:31<10:00, 31.62s/it]"
     ]
    },
    {
     "name": "stdout",
     "output_type": "stream",
     "text": [
      "0.8355583029850286\n"
     ]
    },
    {
     "name": "stderr",
     "output_type": "stream",
     "text": [
      " 10%|████████████████████▏                                                                                                                                                                                     | 2/20 [01:04<09:40, 32.26s/it]"
     ]
    },
    {
     "name": "stdout",
     "output_type": "stream",
     "text": [
      "0.7248738753233719\n"
     ]
    },
    {
     "name": "stderr",
     "output_type": "stream",
     "text": [
      " 15%|██████████████████████████████▎                                                                                                                                                                           | 3/20 [01:36<09:04, 32.02s/it]"
     ]
    },
    {
     "name": "stdout",
     "output_type": "stream",
     "text": [
      "0.6827706554482262\n"
     ]
    },
    {
     "name": "stderr",
     "output_type": "stream",
     "text": [
      " 20%|████████████████████████████████████████▍                                                                                                                                                                 | 4/20 [02:05<08:17, 31.08s/it]"
     ]
    },
    {
     "name": "stdout",
     "output_type": "stream",
     "text": [
      "0.6626576129747177\n"
     ]
    },
    {
     "name": "stderr",
     "output_type": "stream",
     "text": [
      " 25%|██████████████████████████████████████████████████▌                                                                                                                                                       | 5/20 [02:34<07:31, 30.13s/it]"
     ]
    },
    {
     "name": "stdout",
     "output_type": "stream",
     "text": [
      "0.6408150126015087\n"
     ]
    },
    {
     "name": "stderr",
     "output_type": "stream",
     "text": [
      " 30%|████████████████████████████████████████████████████████████▌                                                                                                                                             | 6/20 [03:02<06:51, 29.36s/it]"
     ]
    },
    {
     "name": "stdout",
     "output_type": "stream",
     "text": [
      "0.6266052407659324\n"
     ]
    },
    {
     "name": "stderr",
     "output_type": "stream",
     "text": [
      " 35%|██████████████████████████████████████████████████████████████████████▋                                                                                                                                   | 7/20 [03:31<06:21, 29.34s/it]"
     ]
    },
    {
     "name": "stdout",
     "output_type": "stream",
     "text": [
      "0.6188045965956618\n"
     ]
    },
    {
     "name": "stderr",
     "output_type": "stream",
     "text": [
      " 40%|████████████████████████████████████████████████████████████████████████████████▊                                                                                                                         | 8/20 [04:00<05:51, 29.29s/it]"
     ]
    },
    {
     "name": "stdout",
     "output_type": "stream",
     "text": [
      "0.6089776192829547\n"
     ]
    },
    {
     "name": "stderr",
     "output_type": "stream",
     "text": [
      " 45%|██████████████████████████████████████████████████████████████████████████████████████████▉                                                                                                               | 9/20 [04:36<05:45, 31.45s/it]"
     ]
    },
    {
     "name": "stdout",
     "output_type": "stream",
     "text": [
      "0.6062948729371683\n"
     ]
    },
    {
     "name": "stderr",
     "output_type": "stream",
     "text": [
      " 50%|████████████████████████████████████████████████████████████████████████████████████████████████████▌                                                                                                    | 10/20 [05:06<05:09, 30.90s/it]"
     ]
    },
    {
     "name": "stdout",
     "output_type": "stream",
     "text": [
      "0.5997441907664472\n"
     ]
    },
    {
     "name": "stderr",
     "output_type": "stream",
     "text": [
      " 55%|██████████████████████████████████████████████████████████████████████████████████████████████████████████████▌                                                                                          | 11/20 [05:35<04:32, 30.26s/it]"
     ]
    },
    {
     "name": "stdout",
     "output_type": "stream",
     "text": [
      "0.596279803494565\n"
     ]
    },
    {
     "name": "stderr",
     "output_type": "stream",
     "text": [
      " 60%|████████████████████████████████████████████████████████████████████████████████████████████████████████████████████████▌                                                                                | 12/20 [06:03<03:57, 29.66s/it]"
     ]
    },
    {
     "name": "stdout",
     "output_type": "stream",
     "text": [
      "0.5938434517433364\n"
     ]
    },
    {
     "name": "stderr",
     "output_type": "stream",
     "text": [
      " 65%|██████████████████████████████████████████████████████████████████████████████████████████████████████████████████████████████████▋                                                                      | 13/20 [06:30<03:21, 28.76s/it]"
     ]
    },
    {
     "name": "stdout",
     "output_type": "stream",
     "text": [
      "0.5941638495586368\n"
     ]
    },
    {
     "name": "stderr",
     "output_type": "stream",
     "text": [
      " 70%|████████████████████████████████████████████████████████████████████████████████████████████████████████████████████████████████████████████▋                                                            | 14/20 [06:59<02:54, 29.01s/it]"
     ]
    },
    {
     "name": "stdout",
     "output_type": "stream",
     "text": [
      "0.5896549497093108\n"
     ]
    },
    {
     "name": "stderr",
     "output_type": "stream",
     "text": [
      " 75%|██████████████████████████████████████████████████████████████████████████████████████████████████████████████████████████████████████████████████████▊                                                  | 15/20 [07:30<02:26, 29.39s/it]"
     ]
    },
    {
     "name": "stdout",
     "output_type": "stream",
     "text": [
      "0.587369314437123\n"
     ]
    },
    {
     "name": "stderr",
     "output_type": "stream",
     "text": [
      " 80%|████████████████████████████████████████████████████████████████████████████████████████████████████████████████████████████████████████████████████████████████▊                                        | 16/20 [08:01<02:00, 30.16s/it]"
     ]
    },
    {
     "name": "stdout",
     "output_type": "stream",
     "text": [
      "0.586312262496971\n"
     ]
    },
    {
     "name": "stderr",
     "output_type": "stream",
     "text": [
      " 85%|██████████████████████████████████████████████████████████████████████████████████████████████████████████████████████████████████████████████████████████████████████████▊                              | 17/20 [08:32<01:30, 30.31s/it]"
     ]
    },
    {
     "name": "stdout",
     "output_type": "stream",
     "text": [
      "0.5831033951093871\n"
     ]
    },
    {
     "name": "stderr",
     "output_type": "stream",
     "text": [
      " 90%|████████████████████████████████████████████████████████████████████████████████████████████████████████████████████████████████████████████████████████████████████████████████████▉                    | 18/20 [09:00<00:59, 29.56s/it]"
     ]
    },
    {
     "name": "stdout",
     "output_type": "stream",
     "text": [
      "0.5816441583747226\n"
     ]
    },
    {
     "name": "stderr",
     "output_type": "stream",
     "text": [
      " 95%|██████████████████████████████████████████████████████████████████████████████████████████████████████████████████████████████████████████████████████████████████████████████████████████████▉          | 19/20 [09:27<00:28, 28.71s/it]"
     ]
    },
    {
     "name": "stdout",
     "output_type": "stream",
     "text": [
      "0.5814817412300725\n"
     ]
    },
    {
     "name": "stderr",
     "output_type": "stream",
     "text": [
      "100%|█████████████████████████████████████████████████████████████████████████████████████████████████████████████████████████████████████████████████████████████████████████████████████████████████████████| 20/20 [09:55<00:00, 29.80s/it]"
     ]
    },
    {
     "name": "stdout",
     "output_type": "stream",
     "text": [
      "0.5815178223292128\n"
     ]
    },
    {
     "name": "stderr",
     "output_type": "stream",
     "text": [
      "\n"
     ]
    }
   ],
   "source": [
    "for epoch in tqdm.tqdm(range(20)):\n",
    "    losses = list()\n",
    "    for input_nodes, output_nodes, blocks in dataloader:\n",
    "        input_features = blocks[0].srcdata['x']\n",
    "        output_labels = blocks[-1].dstdata['y']\n",
    "        output_predictions = model(blocks, input_features)\n",
    "        loss_value = loss(output_predictions, output_labels)\n",
    "        opt.zero_grad()\n",
    "        loss_value.backward()\n",
    "        losses.append(loss_value.item())\n",
    "        opt.step()\n",
    "    print(np.array(losses).sum() / len(losses))"
   ]
  },
  {
   "cell_type": "code",
   "execution_count": 144,
   "id": "00eddf6a-8416-4f48-b5f7-98b121a38305",
   "metadata": {},
   "outputs": [],
   "source": [
    "model.train(False)\n",
    "for input_nodes, output_nodes, blocks in test_dataloader:\n",
    "        input_features = blocks[0].srcdata['x']\n",
    "        output_labels = blocks[-1].dstdata['y']\n",
    "        output_predictions = model(blocks, input_features).exp()\n",
    "        "
   ]
  },
  {
   "cell_type": "code",
   "execution_count": 143,
   "id": "29103109-6197-45fa-8052-d78267b7af40",
   "metadata": {},
   "outputs": [
    {
     "data": {
      "text/plain": [
       "tensor([[0.6971, 0.3029],\n",
       "        [0.5382, 0.4618],\n",
       "        [0.8581, 0.1419],\n",
       "        ...,\n",
       "        [0.8084, 0.1916],\n",
       "        [0.4573, 0.5427],\n",
       "        [0.4743, 0.5257]], grad_fn=<ExpBackward0>)"
      ]
     },
     "execution_count": 143,
     "metadata": {},
     "output_type": "execute_result"
    }
   ],
   "source": [
    "output_predictions.exp()"
   ]
  },
  {
   "cell_type": "code",
   "execution_count": 145,
   "id": "18282f0e-3376-4952-915b-a40085f936cb",
   "metadata": {},
   "outputs": [
    {
     "name": "stdout",
     "output_type": "stream",
     "text": [
      "Accuracy: 0.6778013489991297\n",
      "recall: 0.026934011671405057\n",
      "precision: 0.6964746345657782\n",
      "f1_score: 0.051862404558769386\n"
     ]
    }
   ],
   "source": [
    "print(\"Accuracy:\",metrics.accuracy_score(output_predictions.argmax(axis=1),output_labels))\n",
    "\n",
    "print(\"recall:\", metrics.recall_score(output_predictions.argmax(axis=1),output_labels))\n",
    "\n",
    "print(\"precision:\", metrics.precision_score(output_predictions.argmax(axis=1),output_labels))\n",
    "\n",
    "print(\"f1_score:\", metrics.f1_score(output_predictions.argmax(axis=1),output_labels))"
   ]
  },
  {
   "cell_type": "code",
   "execution_count": null,
   "id": "bd17056d-9049-4fd9-ba9a-02f6eafa4f90",
   "metadata": {},
   "outputs": [],
   "source": []
  }
 ],
 "metadata": {
  "kernelspec": {
   "display_name": "Python 3 (ipykernel)",
   "language": "python",
   "name": "python3"
  },
  "language_info": {
   "codemirror_mode": {
    "name": "ipython",
    "version": 3
   },
   "file_extension": ".py",
   "mimetype": "text/x-python",
   "name": "python",
   "nbconvert_exporter": "python",
   "pygments_lexer": "ipython3",
   "version": "3.8.15"
  }
 },
 "nbformat": 4,
 "nbformat_minor": 5
}
