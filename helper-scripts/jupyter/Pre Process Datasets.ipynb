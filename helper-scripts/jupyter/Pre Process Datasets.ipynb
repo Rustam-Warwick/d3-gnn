{
 "cells": [
  {
   "cell_type": "code",
   "execution_count": 3,
   "id": "ea79a907-4d81-447a-a81e-a0925d998822",
   "metadata": {},
   "outputs": [
    {
     "name": "stderr",
     "output_type": "stream",
     "text": [
      "/home/rustambaku13/miniconda3/envs/ml/lib/python3.8/site-packages/tqdm/auto.py:22: TqdmWarning: IProgress not found. Please update jupyter and ipywidgets. See https://ipywidgets.readthedocs.io/en/stable/user_install.html\n",
      "  from .autonotebook import tqdm as notebook_tqdm\n"
     ]
    }
   ],
   "source": [
    "import pandas as pd\n",
    "import dgl\n",
    "import numpy as np\n",
    "import os\n",
    "if \"DATASET_DIR\" not in os.environ:\n",
    "    os.environ[\"DATASET_DIR\"] =  \"/home/rustambaku13/Documents/Warwick/flink-streaming-gnn/jupyter/datasets\""
   ]
  },
  {
   "cell_type": "code",
   "execution_count": 53,
   "outputs": [],
   "source": [
    "def get_out_degree(data):\n",
    "    \"\"\" data Array of size D, 2. Where d is number of edges and src, dest \"\"\"\n",
    "    v = {}\n",
    "    for src, dest in data:\n",
    "        v[src] = v.get(dest,0) + 1\n",
    "    return sum(v.values()) / len(v) if len(v) > 0 else 0\n",
    "\n",
    "def get_running_out_degree(data):\n",
    "    l = []\n",
    "    for i in range(1000, data.shape[0], 1000):\n",
    "        if i % 10000 == 0:\n",
    "            print(i)\n",
    "        l.append(get_out_degree(data[[0,1]][:i].values))\n",
    "    return sum(l) / len(l) if len(l) > 0 else 0"
   ],
   "metadata": {
    "collapsed": false,
    "pycharm": {
     "name": "#%%\n"
    }
   }
  },
  {
   "cell_type": "markdown",
   "id": "7ba7e090-f702-447e-a85b-6b2d5ce98f32",
   "metadata": {
    "jp-MarkdownHeadingCollapsed": true,
    "tags": []
   },
   "source": [
    "# Reddit Hyperlinks"
   ]
  },
  {
   "cell_type": "code",
   "execution_count": 51,
   "id": "0b23044c-1531-4e9d-bb0a-ae1ac759eda1",
   "metadata": {},
   "outputs": [],
   "source": [
    "body = pd.read_csv(os.path.join(os.getenv(\"DATASET_DIR\"), \"RedditHyperlinks/soc-redditHyperlinks-body.tsv\"), header=None, delimiter=\"\\t\", usecols=[0,1,2])"
   ]
  },
  {
   "cell_type": "code",
   "execution_count": 54,
   "outputs": [
    {
     "name": "stdout",
     "output_type": "stream",
     "text": [
      "10000\n",
      "20000\n",
      "30000\n",
      "40000\n",
      "50000\n",
      "60000\n",
      "70000\n",
      "80000\n",
      "90000\n",
      "100000\n",
      "110000\n",
      "120000\n",
      "130000\n",
      "140000\n",
      "150000\n",
      "160000\n",
      "170000\n",
      "180000\n",
      "190000\n",
      "200000\n",
      "210000\n",
      "220000\n",
      "230000\n",
      "240000\n",
      "250000\n",
      "260000\n",
      "270000\n",
      "280000\n",
      "5.275899257287914\n"
     ]
    }
   ],
   "source": [
    "avg_out_degree = get_running_out_degree(body)\n",
    "print(avg_out_degree)"
   ],
   "metadata": {
    "collapsed": false,
    "pycharm": {
     "name": "#%%\n"
    }
   }
  },
  {
   "cell_type": "markdown",
   "id": "023199b6-6529-48a2-b574-816e7b514856",
   "metadata": {
    "jp-MarkdownHeadingCollapsed": true,
    "tags": []
   },
   "source": [
    "# StackOverflow"
   ]
  },
  {
   "cell_type": "code",
   "execution_count": 5,
   "id": "d99fee52-04c9-4dc0-81d4-69550b5e1ae6",
   "metadata": {},
   "outputs": [],
   "source": [
    "data = pd.read_csv(\"../datasets/StackOverflow/sx-stackoverflow.txt\", header=None, delimiter=\" \")\n",
    "data.to_csv(\"../datasets/StackOverflow/sx-stackoverflow.tsv\", index=False, header=False)"
   ]
  },
  {
   "cell_type": "markdown",
   "source": [],
   "metadata": {
    "collapsed": false,
    "pycharm": {
     "name": "#%% md\n"
    }
   }
  },
  {
   "cell_type": "code",
   "execution_count": 4,
   "outputs": [],
   "source": [
    "dataset = dgl.data.RedditDataset()\n",
    "graph = dataset[0]"
   ],
   "metadata": {
    "collapsed": false,
    "pycharm": {
     "name": "#%%\n"
    }
   }
  },
  {
   "cell_type": "code",
   "execution_count": 7,
   "outputs": [
    {
     "data": {
      "text/plain": "560979720"
     },
     "execution_count": 7,
     "metadata": {},
     "output_type": "execute_result"
    }
   ],
   "source": [
    "graph.ndata[\"feat\"].element_size() * graph.ndata[\"feat\"].nelement()"
   ],
   "metadata": {
    "collapsed": false,
    "pycharm": {
     "name": "#%%\n"
    }
   }
  },
  {
   "cell_type": "code",
   "execution_count": null,
   "outputs": [],
   "source": [
    "\n",
    "os.environ[\"DATASET_DIR\"] = \"/home/rustambaku13/Documents/Warwick/flink-streaming-gnn/jupyter/datasets\"\n",
    "frame = pd.DataFrame({\"src\":graph.edges()[0], \"dest\":graph.edges()[1]})\n",
    "frame.to_csv(os.path.join(os.getenv(\"DATASET_DIR\"), \"reddit\", \"graph.tsv\"), header=None, index=None, sep=\"\\t\")\n",
    "np.save(os.path.join(os.getenv(\"DATASET_DIR\"), \"reddit\", \"node_features\"), graph.ndata[\"feat\"])\n",
    "np.save(os.path.join(os.getenv(\"DATASET_DIR\"), \"reddit\", \"node_labels\"), graph.ndata[\"label\"])"
   ],
   "metadata": {
    "collapsed": false,
    "pycharm": {
     "name": "#%%\n"
    }
   }
  }
 ],
 "metadata": {
  "kernelspec": {
   "name": "ml",
   "language": "python",
   "display_name": "ml"
  },
  "language_info": {
   "codemirror_mode": {
    "name": "ipython",
    "version": 3
   },
   "file_extension": ".py",
   "mimetype": "text/x-python",
   "name": "python",
   "nbconvert_exporter": "python",
   "pygments_lexer": "ipython3",
   "version": "3.8.12"
  }
 },
 "nbformat": 4,
 "nbformat_minor": 5
}