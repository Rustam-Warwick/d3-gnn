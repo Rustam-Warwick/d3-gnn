{
 "cells": [
  {
   "cell_type": "code",
   "execution_count": 34,
   "id": "ea79a907-4d81-447a-a81e-a0925d998822",
   "metadata": {},
   "outputs": [],
   "source": [
    "import pandas as pd\n",
    "import numpy as np\n",
    "import string\n",
    "import random\n",
    "from scipy.io import loadmat\n",
    "import matplotlib.pyplot as plt\n",
    "import metis\n",
    "import collections\n",
    "import os\n",
    "# os.environ[\"DATASET_DIR\"] = \"/Users/rustamwarwick/Documents/Warwick/d3-gnn/datasets\"\n",
    "os.environ[\"DATASET_DIR\"] = \"/home/rustambaku13/Documents/Warwick/d3-gnn/datasets\"\n"
   ]
  },
  {
   "cell_type": "markdown",
   "id": "064c8174-3680-4853-8037-d7d588432902",
   "metadata": {
    "jp-MarkdownHeadingCollapsed": true,
    "tags": []
   },
   "source": [
    "# Tag-Ask-Ubuntu 3029 tags, 271233 simplexes, 1468584 star-expansion"
   ]
  },
  {
   "cell_type": "code",
   "execution_count": 4,
   "id": "b0d9bb7a-0271-4931-ab6a-ef71452bfae2",
   "metadata": {},
   "outputs": [],
   "source": [
    "class TagAskUbuntu:\n",
    "    def __init__(self):\n",
    "        n_vertices = pd.read_csv(os.path.join(os.environ[\"DATASET_DIR\"], \"tags-ask-ubuntu\",\"tags-ask-ubuntu-nverts.txt\"), header=None)[0].values\n",
    "        simplices = pd.read_csv(os.path.join(os.environ[\"DATASET_DIR\"], \"tags-ask-ubuntu\",\"tags-ask-ubuntu-simplices.txt\"), header=None)[0].values\n",
    "        n_labels = pd.read_csv(os.path.join(os.environ[\"DATASET_DIR\"], \"tags-ask-ubuntu\",\"tags-ask-ubuntu-node-labels.txt\"), header=None, delimiter=\" \", usecols=[1])[1].values\n",
    "        simplex_labels = pd.read_csv(os.path.join(os.environ[\"DATASET_DIR\"], \"tags-ask-ubuntu\",\"tags-ask-ubuntu-simplex-labels.txt\"), header=None, delimiter=\" \")[0].values\n",
    "        self.q2t = collections.defaultdict(list) # simplex -> [nodes]\n",
    "        self.t2q = collections.defaultdict(list) # nodes -> [simplex]\n",
    "        index = 0\n",
    "        for simplex_idx in range(n_vertices.shape[0]):\n",
    "            s = str(simplex_labels[simplex_idx])\n",
    "            for j in simplices[index:index+n_vertices[simplex_idx]]:\n",
    "                n_label = n_labels[j-1]\n",
    "                self.t2q[n_label].append(s)\n",
    "                self.q2t[s].append(n_label)\n",
    "            index+=n_vertices[simplex_idx]\n",
    "            \n",
    "    def create_files(self):\n",
    "        def create_file(my_dict, destination):\n",
    "            with open(destination,\"w\") as f:\n",
    "                for key, val in my_dict.items():\n",
    "                    f.write(f'{key},{\",\".join(val)}\\n')\n",
    "        create_file(self.q2t, os.path.join(os.environ[\"DATASET_DIR\"], \"tags-ask-ubuntu\",\"tags-ask-ubuntu[question-tag].txt\"))\n",
    "        create_file(self.t2q, os.path.join(os.environ[\"DATASET_DIR\"], \"tags-ask-ubuntu\",\"tags-ask-ubuntu[tag-question].txt\"))\n",
    "        \n",
    "    def generate_statistics(self):\n",
    "        num_nodes = len(self.t2q)\n",
    "        num_hyperedges = len(self.q2t)\n",
    "        "
   ]
  },
  {
   "cell_type": "code",
   "execution_count": 7,
   "id": "93c90664-ef88-4cf2-95e1-1ad8e668a5f9",
   "metadata": {},
   "outputs": [
    {
     "data": {
      "text/plain": [
       "(121.25355857915069, 10.28464271614686)"
      ]
     },
     "execution_count": 7,
     "metadata": {},
     "output_type": "execute_result"
    }
   ],
   "source": [
    "acc = 0unique i,j in res.iterrows():\n",
    "    acc += res[:i][res[:i][0] == j[1]].shape[0]\n",
    "acc = acc / res.shape[0]\n",
    "acc, res.groupby(0).count()[1].mean()"
   ]
  },
  {
   "cell_type": "code",
   "execution_count": null,
   "id": "350cc484-599a-4909-b125-3af4bad072b1",
   "metadata": {},
   "outputs": [],
   "source": []
  },
  {
   "cell_type": "markdown",
   "id": "b7008431-77d3-4989-a873-c0cbd8e4abd2",
   "metadata": {
    "jp-MarkdownHeadingCollapsed": true,
    "tags": []
   },
   "source": [
    "# DBLP "
   ]
  },
  {
   "cell_type": "code",
   "execution_count": 63,
   "id": "43a50d3a-7831-4e4c-bcfc-74f27984f029",
   "metadata": {},
   "outputs": [],
   "source": [
    "class DBLP:\n",
    "    def __init__(self):\n",
    "        n_vertices = pd.read_csv(os.path.join(os.environ[\"DATASET_DIR\"], \"coauth-DBLP-full\",\"coauth-DBLP-full-nverts.txt\"), header=None)[0].values\n",
    "        simplices = pd.read_csv(os.path.join(os.environ[\"DATASET_DIR\"], \"coauth-DBLP-full\",\"coauth-DBLP-full-simplices.txt\"), header=None)[0].values\n",
    "        self.p2a = collections.defaultdict(list) # simplex[publication] -> nodes[author]\n",
    "        self.a2p = collections.defaultdict(list) # nodes[author] -> simplex[publication]\n",
    "        index = 0\n",
    "        for simplex_idx in range(n_vertices.shape[0]):\n",
    "            ids = \"h\"+str(simplex_idx)\n",
    "            for j in simplices[index:index+n_vertices[simplex_idx]]:\n",
    "                self.a2p[j].append(ids)\n",
    "                self.p2a[ids].append(j)\n",
    "            index+=n_vertices[simplex_idx]\n",
    "            \n",
    "    def create_files(self):\n",
    "        def create_file(my_dict, destination):\n",
    "            with open(destination,\"w\") as f:\n",
    "                for key, val in my_dict.items():\n",
    "                    f.write(f'{str(key)},{\",\".join(map(str, val))}\\n')\n",
    "        create_file(self.p2a, os.path.join(os.environ[\"DATASET_DIR\"], \"coauth-DBLP-full\",\"coauth-DBLP-full[publication-author].txt\"))\n",
    "        create_file(self.a2p, os.path.join(os.environ[\"DATASET_DIR\"], \"coauth-DBLP-full\",\"coauth-DBLP-full[author-publication].txt\"))\n",
    "        \n",
    "    def generate_statistics(self):\n",
    "        return len(self.p2a),len(self.a2p)\n",
    "        "
   ]
  },
  {
   "cell_type": "code",
   "execution_count": 64,
   "id": "604efb76-643d-49b4-befc-a7c5556c26c6",
   "metadata": {},
   "outputs": [],
   "source": [
    "a = DBLP()"
   ]
  },
  {
   "cell_type": "code",
   "execution_count": 65,
   "id": "73f7ab89-1aea-4425-8431-5a720d7943a2",
   "metadata": {},
   "outputs": [],
   "source": [
    "a.create_files()"
   ]
  },
  {
   "cell_type": "markdown",
   "id": "eb43b0bd-7304-4ea8-b533-156ef7066513",
   "metadata": {
    "jp-MarkdownHeadingCollapsed": true,
    "tags": []
   },
   "source": [
    "# OGB-Products"
   ]
  },
  {
   "cell_type": "code",
   "execution_count": 7,
   "id": "a3dd2588-8eaa-4f9d-ae4d-ad88a484c3a7",
   "metadata": {},
   "outputs": [],
   "source": [
    "class OGBProducts:\n",
    "    def __init__(self):\n",
    "        dataset = NodePropPredDataset(name = \"ogbn-products\", root = 'dataset/')\n",
    "        shuffled_topology = pd.DataFrame(dataset.graph['edge_index'].T).sample(frac=1)\n",
    "        features = pd.DataFrame(dataset.graph[\"node_feat\"])\n",
    "        labels = pd.DataFrame(dataset.labels)\n",
    "    def save():\n",
    "        shuffled_topology.to_csv(os.path.join(os.environ[\"DATASET_DIR\"], \"ogb-products\",\"edges.csv\"), header=None, index=False)\n",
    "        features.to_csv(os.path.join(os.environ[\"DATASET_DIR\"], \"ogb-products\",\"node_features.csv\"), header=None)\n",
    "        labels.to_csv(os.path.join(os.environ[\"DATASET_DIR\"], \"ogb-products\",\"node_labels.csv\"), header=None)"
   ]
  },
  {
   "cell_type": "markdown",
   "id": "0b25e19f-ddd4-4070-a53b-7e6de85e542a",
   "metadata": {
    "jp-MarkdownHeadingCollapsed": true,
    "tags": []
   },
   "source": [
    "# Stackoverflow"
   ]
  },
  {
   "cell_type": "code",
   "execution_count": 25,
   "id": "0df92fbf-a50f-43c8-8f8a-679179101a20",
   "metadata": {},
   "outputs": [],
   "source": [
    "class Stackoverflow:\n",
    "    def __init__(self, ending=\"a2q\", sep=' '):\n",
    "        self.ending = ending\n",
    "        self.dataset = pd.read_csv(os.path.join(os.environ[\"DATASET_DIR\"], \"sx-stackoverflow\", f\"sx-stackoverflow-{ending}.txt\"), header=None, sep=sep)\n",
    "        \n",
    "    def save(self):\n",
    "        self.dataset.to_csv(os.path.join(os.environ[\"DATASET_DIR\"], \"sx-stackoverflow\", f\"sx-stackoverflow-{self.ending}.tsv\"),sep='\\t', index=False, header=False)"
   ]
  },
  {
   "cell_type": "code",
   "execution_count": 26,
   "id": "9ec570c8-2f21-4bcf-a95d-e70f8ef761db",
   "metadata": {},
   "outputs": [],
   "source": [
    "a = Stackoverflow()"
   ]
  },
  {
   "cell_type": "code",
   "execution_count": 35,
   "id": "c86fb63b-c721-4978-a290-e2465e2ffad4",
   "metadata": {},
   "outputs": [],
   "source": [
    "out_degrees = a.dataset.groupby(0).apply(lambda x: x.shape[0]).values"
   ]
  },
  {
   "cell_type": "code",
   "execution_count": 39,
   "id": "201550c6-cf19-46e9-8832-0fd34086ea41",
   "metadata": {
    "collapsed": true,
    "jupyter": {
     "outputs_hidden": true
    },
    "tags": []
   },
   "outputs": [
    {
     "data": {
      "text/plain": [
       "(array([6.16814814e-03, 4.39266493e-05, 1.29409688e-05, 6.40761893e-06,\n",
       "        3.66016605e-06, 2.14673861e-06, 1.52739754e-06, 9.77906959e-07,\n",
       "        7.26445170e-07, 6.51937973e-07, 4.33073082e-07, 3.95819483e-07,\n",
       "        3.25968986e-07, 2.60775189e-07, 2.28178290e-07, 1.95581392e-07,\n",
       "        1.49014394e-07, 1.39700994e-07, 1.25730895e-07, 1.07104096e-07,\n",
       "        5.12236979e-08, 7.91638967e-08, 6.51937973e-08, 4.65669980e-08,\n",
       "        6.98504971e-08, 5.58803977e-08, 4.19102982e-08, 3.25968986e-08,\n",
       "        9.31339961e-09, 4.65669980e-08, 2.32834990e-08, 3.72535984e-08,\n",
       "        9.31339961e-09, 4.65669980e-09, 1.86267992e-08, 1.86267992e-08,\n",
       "        1.86267992e-08, 9.31339961e-09, 9.31339961e-09, 1.86267992e-08,\n",
       "        9.31339961e-09, 1.39700994e-08, 4.65669980e-09, 4.65669980e-09,\n",
       "        4.65669980e-09, 4.65669980e-09, 9.31339961e-09, 4.65669980e-09,\n",
       "        4.65669980e-09, 4.65669980e-09, 4.65669980e-09, 0.00000000e+00,\n",
       "        4.65669980e-09, 4.65669980e-09, 0.00000000e+00, 4.65669980e-09,\n",
       "        0.00000000e+00, 0.00000000e+00, 0.00000000e+00, 0.00000000e+00,\n",
       "        0.00000000e+00, 0.00000000e+00, 4.65669980e-09, 9.31339961e-09,\n",
       "        4.65669980e-09, 0.00000000e+00, 9.31339961e-09, 4.65669980e-09,\n",
       "        0.00000000e+00, 0.00000000e+00, 4.65669980e-09, 4.65669980e-09,\n",
       "        9.31339961e-09, 9.31339961e-09, 0.00000000e+00, 0.00000000e+00,\n",
       "        0.00000000e+00, 0.00000000e+00, 0.00000000e+00, 0.00000000e+00,\n",
       "        4.65669980e-09, 0.00000000e+00, 0.00000000e+00, 0.00000000e+00,\n",
       "        0.00000000e+00, 0.00000000e+00, 0.00000000e+00, 9.31339961e-09,\n",
       "        0.00000000e+00, 4.65669980e-09, 0.00000000e+00, 0.00000000e+00,\n",
       "        0.00000000e+00, 4.65669980e-09, 0.00000000e+00, 0.00000000e+00,\n",
       "        4.65669980e-09, 0.00000000e+00, 0.00000000e+00, 0.00000000e+00,\n",
       "        0.00000000e+00, 0.00000000e+00, 0.00000000e+00, 9.31339961e-09,\n",
       "        0.00000000e+00, 4.65669980e-09, 0.00000000e+00, 0.00000000e+00,\n",
       "        0.00000000e+00, 0.00000000e+00, 0.00000000e+00, 0.00000000e+00,\n",
       "        0.00000000e+00, 0.00000000e+00, 0.00000000e+00, 0.00000000e+00,\n",
       "        0.00000000e+00, 0.00000000e+00, 0.00000000e+00, 0.00000000e+00,\n",
       "        0.00000000e+00, 0.00000000e+00, 0.00000000e+00, 0.00000000e+00,\n",
       "        0.00000000e+00, 0.00000000e+00, 0.00000000e+00, 0.00000000e+00,\n",
       "        0.00000000e+00, 0.00000000e+00, 4.65669980e-09, 0.00000000e+00,\n",
       "        0.00000000e+00, 0.00000000e+00, 0.00000000e+00, 0.00000000e+00,\n",
       "        0.00000000e+00, 0.00000000e+00, 0.00000000e+00, 0.00000000e+00,\n",
       "        0.00000000e+00, 0.00000000e+00, 0.00000000e+00, 0.00000000e+00,\n",
       "        0.00000000e+00, 0.00000000e+00, 0.00000000e+00, 0.00000000e+00,\n",
       "        0.00000000e+00, 0.00000000e+00, 0.00000000e+00, 0.00000000e+00,\n",
       "        0.00000000e+00, 0.00000000e+00, 0.00000000e+00, 0.00000000e+00,\n",
       "        0.00000000e+00, 4.65669980e-09, 0.00000000e+00, 0.00000000e+00,\n",
       "        0.00000000e+00, 0.00000000e+00, 0.00000000e+00, 0.00000000e+00,\n",
       "        0.00000000e+00, 0.00000000e+00, 0.00000000e+00, 0.00000000e+00,\n",
       "        0.00000000e+00, 0.00000000e+00, 0.00000000e+00, 0.00000000e+00,\n",
       "        0.00000000e+00, 0.00000000e+00, 0.00000000e+00, 0.00000000e+00,\n",
       "        0.00000000e+00, 0.00000000e+00, 0.00000000e+00, 0.00000000e+00,\n",
       "        0.00000000e+00, 0.00000000e+00, 0.00000000e+00, 0.00000000e+00,\n",
       "        0.00000000e+00, 0.00000000e+00, 0.00000000e+00, 0.00000000e+00,\n",
       "        0.00000000e+00, 0.00000000e+00, 0.00000000e+00, 0.00000000e+00,\n",
       "        0.00000000e+00, 0.00000000e+00, 0.00000000e+00, 0.00000000e+00,\n",
       "        0.00000000e+00, 0.00000000e+00, 0.00000000e+00, 4.65669980e-09]),\n",
       " array([1.0000000e+00, 1.6114500e+02, 3.2129000e+02, 4.8143500e+02,\n",
       "        6.4158000e+02, 8.0172500e+02, 9.6187000e+02, 1.1220150e+03,\n",
       "        1.2821600e+03, 1.4423050e+03, 1.6024500e+03, 1.7625950e+03,\n",
       "        1.9227400e+03, 2.0828850e+03, 2.2430300e+03, 2.4031750e+03,\n",
       "        2.5633200e+03, 2.7234650e+03, 2.8836100e+03, 3.0437550e+03,\n",
       "        3.2039000e+03, 3.3640450e+03, 3.5241900e+03, 3.6843350e+03,\n",
       "        3.8444800e+03, 4.0046250e+03, 4.1647700e+03, 4.3249150e+03,\n",
       "        4.4850600e+03, 4.6452050e+03, 4.8053500e+03, 4.9654950e+03,\n",
       "        5.1256400e+03, 5.2857850e+03, 5.4459300e+03, 5.6060750e+03,\n",
       "        5.7662200e+03, 5.9263650e+03, 6.0865100e+03, 6.2466550e+03,\n",
       "        6.4068000e+03, 6.5669450e+03, 6.7270900e+03, 6.8872350e+03,\n",
       "        7.0473800e+03, 7.2075250e+03, 7.3676700e+03, 7.5278150e+03,\n",
       "        7.6879600e+03, 7.8481050e+03, 8.0082500e+03, 8.1683950e+03,\n",
       "        8.3285400e+03, 8.4886850e+03, 8.6488300e+03, 8.8089750e+03,\n",
       "        8.9691200e+03, 9.1292650e+03, 9.2894100e+03, 9.4495550e+03,\n",
       "        9.6097000e+03, 9.7698450e+03, 9.9299900e+03, 1.0090135e+04,\n",
       "        1.0250280e+04, 1.0410425e+04, 1.0570570e+04, 1.0730715e+04,\n",
       "        1.0890860e+04, 1.1051005e+04, 1.1211150e+04, 1.1371295e+04,\n",
       "        1.1531440e+04, 1.1691585e+04, 1.1851730e+04, 1.2011875e+04,\n",
       "        1.2172020e+04, 1.2332165e+04, 1.2492310e+04, 1.2652455e+04,\n",
       "        1.2812600e+04, 1.2972745e+04, 1.3132890e+04, 1.3293035e+04,\n",
       "        1.3453180e+04, 1.3613325e+04, 1.3773470e+04, 1.3933615e+04,\n",
       "        1.4093760e+04, 1.4253905e+04, 1.4414050e+04, 1.4574195e+04,\n",
       "        1.4734340e+04, 1.4894485e+04, 1.5054630e+04, 1.5214775e+04,\n",
       "        1.5374920e+04, 1.5535065e+04, 1.5695210e+04, 1.5855355e+04,\n",
       "        1.6015500e+04, 1.6175645e+04, 1.6335790e+04, 1.6495935e+04,\n",
       "        1.6656080e+04, 1.6816225e+04, 1.6976370e+04, 1.7136515e+04,\n",
       "        1.7296660e+04, 1.7456805e+04, 1.7616950e+04, 1.7777095e+04,\n",
       "        1.7937240e+04, 1.8097385e+04, 1.8257530e+04, 1.8417675e+04,\n",
       "        1.8577820e+04, 1.8737965e+04, 1.8898110e+04, 1.9058255e+04,\n",
       "        1.9218400e+04, 1.9378545e+04, 1.9538690e+04, 1.9698835e+04,\n",
       "        1.9858980e+04, 2.0019125e+04, 2.0179270e+04, 2.0339415e+04,\n",
       "        2.0499560e+04, 2.0659705e+04, 2.0819850e+04, 2.0979995e+04,\n",
       "        2.1140140e+04, 2.1300285e+04, 2.1460430e+04, 2.1620575e+04,\n",
       "        2.1780720e+04, 2.1940865e+04, 2.2101010e+04, 2.2261155e+04,\n",
       "        2.2421300e+04, 2.2581445e+04, 2.2741590e+04, 2.2901735e+04,\n",
       "        2.3061880e+04, 2.3222025e+04, 2.3382170e+04, 2.3542315e+04,\n",
       "        2.3702460e+04, 2.3862605e+04, 2.4022750e+04, 2.4182895e+04,\n",
       "        2.4343040e+04, 2.4503185e+04, 2.4663330e+04, 2.4823475e+04,\n",
       "        2.4983620e+04, 2.5143765e+04, 2.5303910e+04, 2.5464055e+04,\n",
       "        2.5624200e+04, 2.5784345e+04, 2.5944490e+04, 2.6104635e+04,\n",
       "        2.6264780e+04, 2.6424925e+04, 2.6585070e+04, 2.6745215e+04,\n",
       "        2.6905360e+04, 2.7065505e+04, 2.7225650e+04, 2.7385795e+04,\n",
       "        2.7545940e+04, 2.7706085e+04, 2.7866230e+04, 2.8026375e+04,\n",
       "        2.8186520e+04, 2.8346665e+04, 2.8506810e+04, 2.8666955e+04,\n",
       "        2.8827100e+04, 2.8987245e+04, 2.9147390e+04, 2.9307535e+04,\n",
       "        2.9467680e+04, 2.9627825e+04, 2.9787970e+04, 2.9948115e+04,\n",
       "        3.0108260e+04, 3.0268405e+04, 3.0428550e+04, 3.0588695e+04,\n",
       "        3.0748840e+04, 3.0908985e+04, 3.1069130e+04, 3.1229275e+04,\n",
       "        3.1389420e+04, 3.1549565e+04, 3.1709710e+04, 3.1869855e+04,\n",
       "        3.2030000e+04]),\n",
       " <BarContainer object of 200 artists>)"
      ]
     },
     "execution_count": 39,
     "metadata": {},
     "output_type": "execute_result"
    },
    {
     "data": {
      "image/png": "[encoded data removed]",
      "text/plain": [
       "<Figure size 432x288 with 1 Axes>"
      ]
     },
     "metadata": {
      "needs_background": "light"
     },
     "output_type": "display_data"
    }
   ],
   "source": [
    "plt.hist(out_degrees, bins=200, density=True, alpha=0.5, log=True)"
   ]
  },
  {
   "cell_type": "markdown",
   "id": "b718f905-ff07-476b-8c2e-915cb3ff3b26",
   "metadata": {
    "jp-MarkdownHeadingCollapsed": true,
    "tags": []
   },
   "source": [
    "# Wikitalk "
   ]
  },
  {
   "cell_type": "code",
   "execution_count": 49,
   "id": "442e746a-b7e6-4a20-9a79-96a478566a2c",
   "metadata": {},
   "outputs": [],
   "source": [
    "class Wikitalk:\n",
    "    def __init__(self, sep=' '):\n",
    "        self.dataset = pd.read_csv(os.path.join(os.environ[\"DATASET_DIR\"], \"wikitalk\", \"wiki-talk-temporal.txt\"), header=None, sep=sep)\n",
    "        \n",
    "    def save(self):\n",
    "        self.dataset.to_csv(os.path.join(os.environ[\"DATASET_DIR\"], \"wikitalk\", \"wiki-talk-temporal.tsv\"),sep='\\t', index=False, header=False)"
   ]
  },
  {
   "cell_type": "code",
   "execution_count": 50,
   "id": "b5acc2f1-f0c7-4421-9c24-ad6c284dc304",
   "metadata": {},
   "outputs": [],
   "source": [
    "a = Wikitalk()"
   ]
  },
  {
   "cell_type": "code",
   "execution_count": 46,
   "id": "20120f8d-4224-4bd5-8c44-1a2b161192f5",
   "metadata": {},
   "outputs": [],
   "source": [
    "out_degrees = a.dataset.groupby(0).apply(lambda x: x.shape[0]).values"
   ]
  },
  {
   "cell_type": "code",
   "execution_count": 48,
   "id": "82f5f71d-490b-47ae-80df-cb94371b5e76",
   "metadata": {
    "collapsed": true,
    "jupyter": {
     "outputs_hidden": true
    },
    "tags": []
   },
   "outputs": [
    {
     "data": {
      "text/plain": [
       "(array([7.52020474e-04, 1.78260891e-06, 5.98211085e-07, 2.85578156e-07,\n",
       "        1.11225177e-07, 6.91399747e-08, 3.60730303e-08, 9.01825757e-09,\n",
       "        1.50304293e-08, 9.01825757e-09, 6.01217171e-09, 0.00000000e+00,\n",
       "        3.00608586e-09, 3.00608586e-09, 3.00608586e-09, 0.00000000e+00,\n",
       "        0.00000000e+00, 0.00000000e+00, 0.00000000e+00, 3.00608586e-09,\n",
       "        6.01217171e-09, 6.01217171e-09, 3.00608586e-09, 0.00000000e+00,\n",
       "        3.00608586e-09, 6.01217171e-09, 0.00000000e+00, 0.00000000e+00,\n",
       "        0.00000000e+00, 0.00000000e+00, 0.00000000e+00, 3.00608586e-09,\n",
       "        0.00000000e+00, 0.00000000e+00, 0.00000000e+00, 0.00000000e+00,\n",
       "        0.00000000e+00, 0.00000000e+00, 0.00000000e+00, 3.00608586e-09,\n",
       "        0.00000000e+00, 0.00000000e+00, 0.00000000e+00, 0.00000000e+00,\n",
       "        0.00000000e+00, 0.00000000e+00, 0.00000000e+00, 0.00000000e+00,\n",
       "        0.00000000e+00, 0.00000000e+00, 0.00000000e+00, 0.00000000e+00,\n",
       "        0.00000000e+00, 0.00000000e+00, 0.00000000e+00, 0.00000000e+00,\n",
       "        0.00000000e+00, 0.00000000e+00, 0.00000000e+00, 0.00000000e+00,\n",
       "        0.00000000e+00, 0.00000000e+00, 0.00000000e+00, 0.00000000e+00,\n",
       "        0.00000000e+00, 0.00000000e+00, 0.00000000e+00, 0.00000000e+00,\n",
       "        0.00000000e+00, 0.00000000e+00, 0.00000000e+00, 0.00000000e+00,\n",
       "        0.00000000e+00, 0.00000000e+00, 0.00000000e+00, 0.00000000e+00,\n",
       "        0.00000000e+00, 0.00000000e+00, 0.00000000e+00, 0.00000000e+00,\n",
       "        0.00000000e+00, 0.00000000e+00, 0.00000000e+00, 0.00000000e+00,\n",
       "        0.00000000e+00, 0.00000000e+00, 0.00000000e+00, 0.00000000e+00,\n",
       "        0.00000000e+00, 0.00000000e+00, 0.00000000e+00, 0.00000000e+00,\n",
       "        0.00000000e+00, 0.00000000e+00, 0.00000000e+00, 0.00000000e+00,\n",
       "        0.00000000e+00, 0.00000000e+00, 0.00000000e+00, 0.00000000e+00,\n",
       "        0.00000000e+00, 0.00000000e+00, 0.00000000e+00, 0.00000000e+00,\n",
       "        0.00000000e+00, 0.00000000e+00, 0.00000000e+00, 0.00000000e+00,\n",
       "        0.00000000e+00, 0.00000000e+00, 0.00000000e+00, 0.00000000e+00,\n",
       "        0.00000000e+00, 0.00000000e+00, 0.00000000e+00, 0.00000000e+00,\n",
       "        0.00000000e+00, 0.00000000e+00, 0.00000000e+00, 0.00000000e+00,\n",
       "        0.00000000e+00, 0.00000000e+00, 0.00000000e+00, 0.00000000e+00,\n",
       "        0.00000000e+00, 0.00000000e+00, 0.00000000e+00, 0.00000000e+00,\n",
       "        0.00000000e+00, 0.00000000e+00, 0.00000000e+00, 0.00000000e+00,\n",
       "        0.00000000e+00, 0.00000000e+00, 0.00000000e+00, 0.00000000e+00,\n",
       "        0.00000000e+00, 0.00000000e+00, 0.00000000e+00, 0.00000000e+00,\n",
       "        0.00000000e+00, 0.00000000e+00, 0.00000000e+00, 0.00000000e+00,\n",
       "        0.00000000e+00, 0.00000000e+00, 0.00000000e+00, 0.00000000e+00,\n",
       "        0.00000000e+00, 0.00000000e+00, 0.00000000e+00, 0.00000000e+00,\n",
       "        0.00000000e+00, 0.00000000e+00, 0.00000000e+00, 0.00000000e+00,\n",
       "        3.00608586e-09, 0.00000000e+00, 0.00000000e+00, 0.00000000e+00,\n",
       "        0.00000000e+00, 0.00000000e+00, 0.00000000e+00, 0.00000000e+00,\n",
       "        0.00000000e+00, 0.00000000e+00, 0.00000000e+00, 0.00000000e+00,\n",
       "        0.00000000e+00, 0.00000000e+00, 0.00000000e+00, 0.00000000e+00,\n",
       "        0.00000000e+00, 0.00000000e+00, 0.00000000e+00, 0.00000000e+00,\n",
       "        0.00000000e+00, 0.00000000e+00, 0.00000000e+00, 0.00000000e+00,\n",
       "        0.00000000e+00, 0.00000000e+00, 0.00000000e+00, 0.00000000e+00,\n",
       "        0.00000000e+00, 0.00000000e+00, 0.00000000e+00, 0.00000000e+00,\n",
       "        0.00000000e+00, 0.00000000e+00, 0.00000000e+00, 0.00000000e+00,\n",
       "        0.00000000e+00, 0.00000000e+00, 0.00000000e+00, 0.00000000e+00,\n",
       "        0.00000000e+00, 0.00000000e+00, 0.00000000e+00, 3.00608586e-09]),\n",
       " array([1.0000000e+00, 1.3255200e+03, 2.6500400e+03, 3.9745600e+03,\n",
       "        5.2990800e+03, 6.6236000e+03, 7.9481200e+03, 9.2726400e+03,\n",
       "        1.0597160e+04, 1.1921680e+04, 1.3246200e+04, 1.4570720e+04,\n",
       "        1.5895240e+04, 1.7219760e+04, 1.8544280e+04, 1.9868800e+04,\n",
       "        2.1193320e+04, 2.2517840e+04, 2.3842360e+04, 2.5166880e+04,\n",
       "        2.6491400e+04, 2.7815920e+04, 2.9140440e+04, 3.0464960e+04,\n",
       "        3.1789480e+04, 3.3114000e+04, 3.4438520e+04, 3.5763040e+04,\n",
       "        3.7087560e+04, 3.8412080e+04, 3.9736600e+04, 4.1061120e+04,\n",
       "        4.2385640e+04, 4.3710160e+04, 4.5034680e+04, 4.6359200e+04,\n",
       "        4.7683720e+04, 4.9008240e+04, 5.0332760e+04, 5.1657280e+04,\n",
       "        5.2981800e+04, 5.4306320e+04, 5.5630840e+04, 5.6955360e+04,\n",
       "        5.8279880e+04, 5.9604400e+04, 6.0928920e+04, 6.2253440e+04,\n",
       "        6.3577960e+04, 6.4902480e+04, 6.6227000e+04, 6.7551520e+04,\n",
       "        6.8876040e+04, 7.0200560e+04, 7.1525080e+04, 7.2849600e+04,\n",
       "        7.4174120e+04, 7.5498640e+04, 7.6823160e+04, 7.8147680e+04,\n",
       "        7.9472200e+04, 8.0796720e+04, 8.2121240e+04, 8.3445760e+04,\n",
       "        8.4770280e+04, 8.6094800e+04, 8.7419320e+04, 8.8743840e+04,\n",
       "        9.0068360e+04, 9.1392880e+04, 9.2717400e+04, 9.4041920e+04,\n",
       "        9.5366440e+04, 9.6690960e+04, 9.8015480e+04, 9.9340000e+04,\n",
       "        1.0066452e+05, 1.0198904e+05, 1.0331356e+05, 1.0463808e+05,\n",
       "        1.0596260e+05, 1.0728712e+05, 1.0861164e+05, 1.0993616e+05,\n",
       "        1.1126068e+05, 1.1258520e+05, 1.1390972e+05, 1.1523424e+05,\n",
       "        1.1655876e+05, 1.1788328e+05, 1.1920780e+05, 1.2053232e+05,\n",
       "        1.2185684e+05, 1.2318136e+05, 1.2450588e+05, 1.2583040e+05,\n",
       "        1.2715492e+05, 1.2847944e+05, 1.2980396e+05, 1.3112848e+05,\n",
       "        1.3245300e+05, 1.3377752e+05, 1.3510204e+05, 1.3642656e+05,\n",
       "        1.3775108e+05, 1.3907560e+05, 1.4040012e+05, 1.4172464e+05,\n",
       "        1.4304916e+05, 1.4437368e+05, 1.4569820e+05, 1.4702272e+05,\n",
       "        1.4834724e+05, 1.4967176e+05, 1.5099628e+05, 1.5232080e+05,\n",
       "        1.5364532e+05, 1.5496984e+05, 1.5629436e+05, 1.5761888e+05,\n",
       "        1.5894340e+05, 1.6026792e+05, 1.6159244e+05, 1.6291696e+05,\n",
       "        1.6424148e+05, 1.6556600e+05, 1.6689052e+05, 1.6821504e+05,\n",
       "        1.6953956e+05, 1.7086408e+05, 1.7218860e+05, 1.7351312e+05,\n",
       "        1.7483764e+05, 1.7616216e+05, 1.7748668e+05, 1.7881120e+05,\n",
       "        1.8013572e+05, 1.8146024e+05, 1.8278476e+05, 1.8410928e+05,\n",
       "        1.8543380e+05, 1.8675832e+05, 1.8808284e+05, 1.8940736e+05,\n",
       "        1.9073188e+05, 1.9205640e+05, 1.9338092e+05, 1.9470544e+05,\n",
       "        1.9602996e+05, 1.9735448e+05, 1.9867900e+05, 2.0000352e+05,\n",
       "        2.0132804e+05, 2.0265256e+05, 2.0397708e+05, 2.0530160e+05,\n",
       "        2.0662612e+05, 2.0795064e+05, 2.0927516e+05, 2.1059968e+05,\n",
       "        2.1192420e+05, 2.1324872e+05, 2.1457324e+05, 2.1589776e+05,\n",
       "        2.1722228e+05, 2.1854680e+05, 2.1987132e+05, 2.2119584e+05,\n",
       "        2.2252036e+05, 2.2384488e+05, 2.2516940e+05, 2.2649392e+05,\n",
       "        2.2781844e+05, 2.2914296e+05, 2.3046748e+05, 2.3179200e+05,\n",
       "        2.3311652e+05, 2.3444104e+05, 2.3576556e+05, 2.3709008e+05,\n",
       "        2.3841460e+05, 2.3973912e+05, 2.4106364e+05, 2.4238816e+05,\n",
       "        2.4371268e+05, 2.4503720e+05, 2.4636172e+05, 2.4768624e+05,\n",
       "        2.4901076e+05, 2.5033528e+05, 2.5165980e+05, 2.5298432e+05,\n",
       "        2.5430884e+05, 2.5563336e+05, 2.5695788e+05, 2.5828240e+05,\n",
       "        2.5960692e+05, 2.6093144e+05, 2.6225596e+05, 2.6358048e+05,\n",
       "        2.6490500e+05]),\n",
       " <BarContainer object of 200 artists>)"
      ]
     },
     "execution_count": 48,
     "metadata": {},
     "output_type": "execute_result"
    },
    {
     "data": {
      "image/png": "[encoded data removed]",
      "text/plain": [
       "<Figure size 432x288 with 1 Axes>"
      ]
     },
     "metadata": {
      "needs_background": "light"
     },
     "output_type": "display_data"
    }
   ],
   "source": [
    "plt.hist(out_degrees, bins=200, density=True, alpha=0.5)"
   ]
  },
  {
   "cell_type": "markdown",
   "id": "ebe6d791-b98f-424f-af70-a747513cfeb0",
   "metadata": {
    "jp-MarkdownHeadingCollapsed": true,
    "tags": []
   },
   "source": [
    "# Sx-Superuser"
   ]
  },
  {
   "cell_type": "code",
   "execution_count": 57,
   "id": "5f470c12-40f3-4f02-99de-fb83380b6b12",
   "metadata": {},
   "outputs": [],
   "source": [
    "class SuperUser:\n",
    "    def __init__(self, sep=' '):\n",
    "        self.dataset = pd.read_csv(os.path.join(os.environ[\"DATASET_DIR\"], \"sx-superuser\", \"sx-superuser.txt\"), header=None, sep=sep)\n",
    "        \n",
    "    def save(self):\n",
    "        self.dataset.to_csv(os.path.join(os.environ[\"DATASET_DIR\"], \"sx-superuser\", \"sx-superuser.tsv\"),sep='\\t', index=False, header=False)"
   ]
  },
  {
   "cell_type": "code",
   "execution_count": 56,
   "id": "38a2293d-49d0-4969-8939-9e9d25165cd5",
   "metadata": {
    "collapsed": true,
    "jupyter": {
     "outputs_hidden": true
    },
    "tags": []
   },
   "outputs": [
    {
     "data": {
      "text/plain": [
       "(array([7.35563424e-03, 2.68513145e-05, 9.70921235e-06, 4.50618947e-06,\n",
       "        2.83378925e-06, 1.85822246e-06, 1.25430016e-06, 9.29111230e-07,\n",
       "        4.18100054e-07, 7.89744546e-07, 4.64555615e-07, 1.39366685e-07,\n",
       "        2.78733369e-07, 2.32277808e-07, 2.78733369e-07, 1.39366685e-07,\n",
       "        2.32277808e-07, 3.25188931e-07, 9.29111230e-08, 4.64555615e-08,\n",
       "        9.29111230e-08, 9.29111230e-08, 4.64555615e-08, 9.29111230e-08,\n",
       "        9.29111230e-08, 9.29111230e-08, 9.29111230e-08, 4.64555615e-08,\n",
       "        1.85822246e-07, 9.29111230e-08, 0.00000000e+00, 4.64555615e-08,\n",
       "        0.00000000e+00, 4.64555615e-08, 0.00000000e+00, 4.64555615e-08,\n",
       "        0.00000000e+00, 0.00000000e+00, 0.00000000e+00, 0.00000000e+00,\n",
       "        0.00000000e+00, 0.00000000e+00, 4.64555615e-08, 4.64555615e-08,\n",
       "        4.64555615e-08, 4.64555615e-08, 0.00000000e+00, 0.00000000e+00,\n",
       "        4.64555615e-08, 4.64555615e-08, 0.00000000e+00, 0.00000000e+00,\n",
       "        4.64555615e-08, 0.00000000e+00, 0.00000000e+00, 0.00000000e+00,\n",
       "        0.00000000e+00, 4.64555615e-08, 0.00000000e+00, 0.00000000e+00,\n",
       "        0.00000000e+00, 4.64555615e-08, 0.00000000e+00, 4.64555615e-08,\n",
       "        0.00000000e+00, 0.00000000e+00, 0.00000000e+00, 4.64555615e-08,\n",
       "        0.00000000e+00, 0.00000000e+00, 0.00000000e+00, 0.00000000e+00,\n",
       "        0.00000000e+00, 0.00000000e+00, 0.00000000e+00, 4.64555615e-08,\n",
       "        0.00000000e+00, 4.64555615e-08, 0.00000000e+00, 0.00000000e+00,\n",
       "        0.00000000e+00, 0.00000000e+00, 0.00000000e+00, 0.00000000e+00,\n",
       "        0.00000000e+00, 0.00000000e+00, 0.00000000e+00, 0.00000000e+00,\n",
       "        0.00000000e+00, 0.00000000e+00, 0.00000000e+00, 0.00000000e+00,\n",
       "        0.00000000e+00, 0.00000000e+00, 4.64555615e-08, 0.00000000e+00,\n",
       "        0.00000000e+00, 0.00000000e+00, 0.00000000e+00, 0.00000000e+00,\n",
       "        0.00000000e+00, 0.00000000e+00, 0.00000000e+00, 0.00000000e+00,\n",
       "        0.00000000e+00, 0.00000000e+00, 0.00000000e+00, 0.00000000e+00,\n",
       "        0.00000000e+00, 0.00000000e+00, 0.00000000e+00, 0.00000000e+00,\n",
       "        0.00000000e+00, 0.00000000e+00, 0.00000000e+00, 0.00000000e+00,\n",
       "        0.00000000e+00, 0.00000000e+00, 0.00000000e+00, 0.00000000e+00,\n",
       "        0.00000000e+00, 0.00000000e+00, 0.00000000e+00, 0.00000000e+00,\n",
       "        0.00000000e+00, 0.00000000e+00, 0.00000000e+00, 0.00000000e+00,\n",
       "        0.00000000e+00, 0.00000000e+00, 0.00000000e+00, 0.00000000e+00,\n",
       "        0.00000000e+00, 0.00000000e+00, 0.00000000e+00, 0.00000000e+00,\n",
       "        0.00000000e+00, 0.00000000e+00, 0.00000000e+00, 0.00000000e+00,\n",
       "        0.00000000e+00, 0.00000000e+00, 0.00000000e+00, 0.00000000e+00,\n",
       "        0.00000000e+00, 0.00000000e+00, 0.00000000e+00, 0.00000000e+00,\n",
       "        0.00000000e+00, 0.00000000e+00, 0.00000000e+00, 0.00000000e+00,\n",
       "        0.00000000e+00, 0.00000000e+00, 0.00000000e+00, 0.00000000e+00,\n",
       "        0.00000000e+00, 0.00000000e+00, 0.00000000e+00, 0.00000000e+00,\n",
       "        0.00000000e+00, 0.00000000e+00, 0.00000000e+00, 0.00000000e+00,\n",
       "        0.00000000e+00, 0.00000000e+00, 0.00000000e+00, 0.00000000e+00,\n",
       "        0.00000000e+00, 0.00000000e+00, 0.00000000e+00, 0.00000000e+00,\n",
       "        0.00000000e+00, 0.00000000e+00, 0.00000000e+00, 0.00000000e+00,\n",
       "        0.00000000e+00, 0.00000000e+00, 0.00000000e+00, 0.00000000e+00,\n",
       "        0.00000000e+00, 0.00000000e+00, 0.00000000e+00, 0.00000000e+00,\n",
       "        0.00000000e+00, 0.00000000e+00, 0.00000000e+00, 0.00000000e+00,\n",
       "        0.00000000e+00, 0.00000000e+00, 0.00000000e+00, 0.00000000e+00,\n",
       "        0.00000000e+00, 0.00000000e+00, 0.00000000e+00, 0.00000000e+00,\n",
       "        0.00000000e+00, 0.00000000e+00, 0.00000000e+00, 4.64555615e-08]),\n",
       " array([1.0000000e+00, 1.3597500e+02, 2.7095000e+02, 4.0592500e+02,\n",
       "        5.4090000e+02, 6.7587500e+02, 8.1085000e+02, 9.4582500e+02,\n",
       "        1.0808000e+03, 1.2157750e+03, 1.3507500e+03, 1.4857250e+03,\n",
       "        1.6207000e+03, 1.7556750e+03, 1.8906500e+03, 2.0256250e+03,\n",
       "        2.1606000e+03, 2.2955750e+03, 2.4305500e+03, 2.5655250e+03,\n",
       "        2.7005000e+03, 2.8354750e+03, 2.9704500e+03, 3.1054250e+03,\n",
       "        3.2404000e+03, 3.3753750e+03, 3.5103500e+03, 3.6453250e+03,\n",
       "        3.7803000e+03, 3.9152750e+03, 4.0502500e+03, 4.1852250e+03,\n",
       "        4.3202000e+03, 4.4551750e+03, 4.5901500e+03, 4.7251250e+03,\n",
       "        4.8601000e+03, 4.9950750e+03, 5.1300500e+03, 5.2650250e+03,\n",
       "        5.4000000e+03, 5.5349750e+03, 5.6699500e+03, 5.8049250e+03,\n",
       "        5.9399000e+03, 6.0748750e+03, 6.2098500e+03, 6.3448250e+03,\n",
       "        6.4798000e+03, 6.6147750e+03, 6.7497500e+03, 6.8847250e+03,\n",
       "        7.0197000e+03, 7.1546750e+03, 7.2896500e+03, 7.4246250e+03,\n",
       "        7.5596000e+03, 7.6945750e+03, 7.8295500e+03, 7.9645250e+03,\n",
       "        8.0995000e+03, 8.2344750e+03, 8.3694500e+03, 8.5044250e+03,\n",
       "        8.6394000e+03, 8.7743750e+03, 8.9093500e+03, 9.0443250e+03,\n",
       "        9.1793000e+03, 9.3142750e+03, 9.4492500e+03, 9.5842250e+03,\n",
       "        9.7192000e+03, 9.8541750e+03, 9.9891500e+03, 1.0124125e+04,\n",
       "        1.0259100e+04, 1.0394075e+04, 1.0529050e+04, 1.0664025e+04,\n",
       "        1.0799000e+04, 1.0933975e+04, 1.1068950e+04, 1.1203925e+04,\n",
       "        1.1338900e+04, 1.1473875e+04, 1.1608850e+04, 1.1743825e+04,\n",
       "        1.1878800e+04, 1.2013775e+04, 1.2148750e+04, 1.2283725e+04,\n",
       "        1.2418700e+04, 1.2553675e+04, 1.2688650e+04, 1.2823625e+04,\n",
       "        1.2958600e+04, 1.3093575e+04, 1.3228550e+04, 1.3363525e+04,\n",
       "        1.3498500e+04, 1.3633475e+04, 1.3768450e+04, 1.3903425e+04,\n",
       "        1.4038400e+04, 1.4173375e+04, 1.4308350e+04, 1.4443325e+04,\n",
       "        1.4578300e+04, 1.4713275e+04, 1.4848250e+04, 1.4983225e+04,\n",
       "        1.5118200e+04, 1.5253175e+04, 1.5388150e+04, 1.5523125e+04,\n",
       "        1.5658100e+04, 1.5793075e+04, 1.5928050e+04, 1.6063025e+04,\n",
       "        1.6198000e+04, 1.6332975e+04, 1.6467950e+04, 1.6602925e+04,\n",
       "        1.6737900e+04, 1.6872875e+04, 1.7007850e+04, 1.7142825e+04,\n",
       "        1.7277800e+04, 1.7412775e+04, 1.7547750e+04, 1.7682725e+04,\n",
       "        1.7817700e+04, 1.7952675e+04, 1.8087650e+04, 1.8222625e+04,\n",
       "        1.8357600e+04, 1.8492575e+04, 1.8627550e+04, 1.8762525e+04,\n",
       "        1.8897500e+04, 1.9032475e+04, 1.9167450e+04, 1.9302425e+04,\n",
       "        1.9437400e+04, 1.9572375e+04, 1.9707350e+04, 1.9842325e+04,\n",
       "        1.9977300e+04, 2.0112275e+04, 2.0247250e+04, 2.0382225e+04,\n",
       "        2.0517200e+04, 2.0652175e+04, 2.0787150e+04, 2.0922125e+04,\n",
       "        2.1057100e+04, 2.1192075e+04, 2.1327050e+04, 2.1462025e+04,\n",
       "        2.1597000e+04, 2.1731975e+04, 2.1866950e+04, 2.2001925e+04,\n",
       "        2.2136900e+04, 2.2271875e+04, 2.2406850e+04, 2.2541825e+04,\n",
       "        2.2676800e+04, 2.2811775e+04, 2.2946750e+04, 2.3081725e+04,\n",
       "        2.3216700e+04, 2.3351675e+04, 2.3486650e+04, 2.3621625e+04,\n",
       "        2.3756600e+04, 2.3891575e+04, 2.4026550e+04, 2.4161525e+04,\n",
       "        2.4296500e+04, 2.4431475e+04, 2.4566450e+04, 2.4701425e+04,\n",
       "        2.4836400e+04, 2.4971375e+04, 2.5106350e+04, 2.5241325e+04,\n",
       "        2.5376300e+04, 2.5511275e+04, 2.5646250e+04, 2.5781225e+04,\n",
       "        2.5916200e+04, 2.6051175e+04, 2.6186150e+04, 2.6321125e+04,\n",
       "        2.6456100e+04, 2.6591075e+04, 2.6726050e+04, 2.6861025e+04,\n",
       "        2.6996000e+04]),\n",
       " <BarContainer object of 200 artists>)"
      ]
     },
     "execution_count": 56,
     "metadata": {},
     "output_type": "execute_result"
    },
    {
     "data": {
      "image/png": "[encoded data removed]",
      "text/plain": [
       "<Figure size 432x288 with 1 Axes>"
      ]
     },
     "metadata": {
      "needs_background": "light"
     },
     "output_type": "display_data"
    }
   ],
   "source": [
    "out_degrees = a.dataset.groupby(0).apply(lambda x: x.shape[0]).values\n",
    "plt.hist(out_degrees, bins=200, density=True, alpha=0.5)"
   ]
  },
  {
   "cell_type": "markdown",
   "id": "97a87cc5-ca4f-4087-b958-1660d3c2b75c",
   "metadata": {
    "jp-MarkdownHeadingCollapsed": true,
    "tags": []
   },
   "source": [
    "# Reddit Hyperlinks"
   ]
  },
  {
   "cell_type": "code",
   "execution_count": 112,
   "id": "7a7fa820-b785-4a1a-9fe4-8a5a40cd9d4f",
   "metadata": {},
   "outputs": [],
   "source": [
    "class RedditHyperlinks:\n",
    "    def __init__(self, ending='body', sep=',', usecols=None):\n",
    "        self.ending = ending\n",
    "        self.dataset = pd.read_csv(os.path.join(os.environ[\"DATASET_DIR\"], \"RedditHyperlinks\", f\"soc-redditHyperlinks-{ending}.tsv\"), usecols=usecols, sep=sep, header=None)\n",
    "        nodes = set(a.dataset[0].unique())\n",
    "        nodes.update(a.dataset[1].unique())\n",
    "        self.nodes_2_index = dict(zip(nodes, range(len(nodes))))\n",
    "        \n",
    "    def partition(self, num_partitions):\n",
    "        src = self.dataset[0].map(self.nodes_2_index).values\n",
    "        dest = self.dataset[1].map(self.nodes_2_index).values\n",
    "        adj_list = [[] for _ in range(len(self.nodes_2_index))]\n",
    "        for i in range(len(src)):\n",
    "            found = False\n",
    "            for j in adj_list[src[i]]:\n",
    "                if j[0] == dest[i]:\n",
    "                    j[1]+=1\n",
    "                    found = True\n",
    "                    break\n",
    "            if not found:\n",
    "                adj_list[src[i]].append([dest[i], 1])\n",
    "        parts = metis.part_graph(adj_list, num_partitions)[1]\n",
    "        self.dataset[3] = self.dataset[0].map(self.nodes_2_index).map(lambda x: parts[x])\n",
    "        return parts\n",
    "    def save(self):\n",
    "        self.dataset.to_csv(os.path.join(os.environ[\"DATASET_DIR\"], \"RedditHyperlinks\", f\"soc-redditHyperlinks-{self.ending}.tsv\"),sep='\\t', index=False, header=False)"
   ]
  },
  {
   "cell_type": "code",
   "execution_count": 113,
   "id": "7adac2ba-88e9-43a0-b2f7-cbed02e717f8",
   "metadata": {},
   "outputs": [],
   "source": [
    "a = RedditHyperlinks(sep='\\t', usecols=[0,1,2])"
   ]
  },
  {
   "cell_type": "code",
   "execution_count": 115,
   "id": "d25cc94c-3f67-4f08-a04f-684f70574899",
   "metadata": {
    "tags": []
   },
   "outputs": [
    {
     "data": {
      "text/plain": [
       "<pandas.core.groupby.generic.DataFrameGroupBy object at 0x28c8f7160>"
      ]
     },
     "execution_count": 115,
     "metadata": {},
     "output_type": "execute_result"
    }
   ],
   "source": [
    "parts = a.partition(10)\n"
   ]
  },
  {
   "cell_type": "code",
   "execution_count": 141,
   "id": "cb9d0b54-d806-4b1f-b4d4-ba5c21ccc9df",
   "metadata": {},
   "outputs": [
    {
     "data": {
      "text/plain": [
       "0           teamredditteams\n",
       "1                    soccer\n",
       "2                    bikela\n",
       "3                       cfb\n",
       "4                   gamedev\n",
       "                ...        \n",
       "286556        debatefascism\n",
       "286557            justnomil\n",
       "286558    blackdesertonline\n",
       "286559            askreddit\n",
       "286560      dataisbeautiful\n",
       "Name: 1, Length: 286561, dtype: object"
      ]
     },
     "execution_count": 141,
     "metadata": {},
     "output_type": "execute_result"
    }
   ],
   "source": [
    "a.dataset[1]"
   ]
  },
  {
   "cell_type": "code",
   "execution_count": 133,
   "id": "f182062a-d7fc-4417-a43d-6b7f6e84dc8c",
   "metadata": {
    "tags": []
   },
   "outputs": [
    {
     "data": {
      "text/plain": [
       "array([9, 0, 1, ..., 2, 5, 1])"
      ]
     },
     "execution_count": 133,
     "metadata": {},
     "output_type": "execute_result"
    }
   ],
   "source": [
    "np.append(a.dataset[3].values,[1])"
   ]
  },
  {
   "cell_type": "code",
   "execution_count": 135,
   "id": "5c22b158-a71a-481b-9d10-b87ae9481119",
   "metadata": {},
   "outputs": [
    {
     "data": {
      "text/plain": [
       "'teamredditteams'"
      ]
     },
     "execution_count": 135,
     "metadata": {},
     "output_type": "execute_result"
    }
   ],
   "source": [
    "a.dataset[1][0]"
   ]
  },
  {
   "cell_type": "markdown",
   "id": "44837386-0ffd-4d65-b9a6-727916e7494e",
   "metadata": {
    "jp-MarkdownHeadingCollapsed": true,
    "tags": []
   },
   "source": [
    "# DGraph"
   ]
  },
  {
   "cell_type": "code",
   "execution_count": null,
   "id": "fa3d33fa-1fe9-4867-a8ec-1998ffec68ea",
   "metadata": {},
   "outputs": [],
   "source": [
    "npzarr = np.load(os.path.join(os.environ[\"DATASET_DIR\"], \"DGraphFin\", \"dgraphfin.npz\"))"
   ]
  },
  {
   "cell_type": "code",
   "execution_count": 72,
   "id": "33b99e5d-d7a2-41bf-aa30-ba30e4e226ad",
   "metadata": {},
   "outputs": [],
   "source": [
    "def create_edge_list_file(npzarr):\n",
    "    order = npzarr['edge_timestamp'].argsort()\n",
    "    edges_ts = np.hstack((npzarr['edge_index'][order], npzarr['edge_timestamp'][order].reshape((1, -1)).T))\n",
    "    pd.DataFrame(edges_ts).to_csv(os.path.join(os.environ[\"DATASET_DIR\"], \"DGraphFin\", \"edge-list.csv\"), index=False, header=False)"
   ]
  },
  {
   "cell_type": "code",
   "execution_count": 6,
   "id": "57808c0b-bbae-458e-a524-c9564ed06ea2",
   "metadata": {},
   "outputs": [],
   "source": [
    "def create_feature_and_labels(npzarr):\n",
    "    np.save(os.path.join(os.environ[\"DATASET_DIR\"], \"DGraphFin\", \"node_features\"), npzarr['x'].astype(\"float32\"))\n",
    "    np.save(os.path.join(os.environ[\"DATASET_DIR\"], \"DGraphFin\", \"node_labels\"), npzarr['y'].astype(\"int8\"))"
   ]
  },
  {
   "cell_type": "code",
   "execution_count": 7,
   "id": "bc6b39d1-afed-4e85-a667-03edd427395f",
   "metadata": {},
   "outputs": [],
   "source": [
    "create_feature_and_labels(npzarr)"
   ]
  }
 ],
 "metadata": {
  "kernelspec": {
   "display_name": "Python 3 (ipykernel)",
   "language": "python",
   "name": "python3"
  },
  "language_info": {
   "codemirror_mode": {
    "name": "ipython",
    "version": 3
   },
   "file_extension": ".py",
   "mimetype": "text/x-python",
   "name": "python",
   "nbconvert_exporter": "python",
   "pygments_lexer": "ipython3",
   "version": "3.9.12"
  }
 },
 "nbformat": 4,
 "nbformat_minor": 5
}
