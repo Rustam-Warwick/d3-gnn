{
 "cells": [
  {
   "cell_type": "code",
   "execution_count": 6,
   "id": "ea79a907-4d81-447a-a81e-a0925d998822",
   "metadata": {},
   "outputs": [],
   "source": [
    "import pandas as pd\n",
    "\n",
    "import numpy as np\n",
    "import string\n",
    "import random\n",
    "import collections\n",
    "import os\n",
    "if \"DATASET_DIR\" not in os.environ:\n",
    "    # os.environ[\"DATASET_DIR\"] =  \"/Users/rustamwarwick/Documents/Projects/d3-gnn/jupyter/datasets\"\n",
    "    os.environ['DATASET_DIR'] = \"/home/rustambaku13/Documents/Warwick/d3-gnn/jupyter/datasets/\""
   ]
  },
  {
   "cell_type": "markdown",
   "id": "d4e955d7-d59c-4025-a058-a940620d0332",
   "metadata": {
    "tags": []
   },
   "source": [
    "# Helpers"
   ]
  },
  {
   "cell_type": "code",
   "execution_count": 3,
   "id": "f4d661dd",
   "metadata": {
    "collapsed": false,
    "jupyter": {
     "outputs_hidden": false
    },
    "pycharm": {
     "name": "#%%\n"
    }
   },
   "outputs": [],
   "source": [
    "def get_out_degree(data):\n",
    "    \"\"\" data Array of size D, 2. Where d is number of uniEdges and src, dest \"\"\"\n",
    "    v = {}\n",
    "    for src, dest in data:\n",
    "        v[src] = v.get(dest,0) + 1\n",
    "    return sum(v.values()) / len(v) if len(v) > 0 else 0\n",
    "\n",
    "def get_running_out_degree(data):\n",
    "    l = []\n",
    "    for i in range(1000, data.shape[0], 1000):\n",
    "        if i % 10000 == 0:\n",
    "            print(i)\n",
    "        l.append(get_out_degree(data[[0,1]][:i].values))\n",
    "    return sum(l) / len(l) if len(l) > 0 else 0\n",
    "\n",
    "def get_random_string(length):\n",
    "    # choose from all lowercase letter\n",
    "    letters = string.ascii_lowercase\n",
    "    result_str = ''.join(random.choice(letters) for i in range(length))\n",
    "    return result_str"
   ]
  },
  {
   "cell_type": "markdown",
   "id": "064c8174-3680-4853-8037-d7d588432902",
   "metadata": {
    "jp-MarkdownHeadingCollapsed": true,
    "tags": []
   },
   "source": [
    "# Tag-Ask-Ubuntu"
   ]
  },
  {
   "cell_type": "code",
   "execution_count": 141,
   "id": "2b6e276f-5cce-40b4-bdef-e9650c88a2df",
   "metadata": {},
   "outputs": [],
   "source": [
    "def create_tag_ask_ubuntu(cap=70000):\n",
    "    n_vertices = pd.read_csv(os.path.join(os.environ[\"DATASET_DIR\"], \"tags-ask-ubuntu\",\"tags-ask-ubuntu-nverts.txt\"), header=None)[0].values\n",
    "    simplices = pd.read_csv(os.path.join(os.environ[\"DATASET_DIR\"], \"tags-ask-ubuntu\",\"tags-ask-ubuntu-simplices.txt\"), header=None)[0].values\n",
    "    n_labels = pd.read_csv(os.path.join(os.environ[\"DATASET_DIR\"], \"tags-ask-ubuntu\",\"tags-ask-ubuntu-node-labels.txt\"), header=None, delimiter=\" \", usecols=[1])[1].values\n",
    "    simplex_labels = pd.read_csv(os.path.join(os.environ[\"DATASET_DIR\"], \"tags-ask-ubuntu\",\"tags-ask-ubuntu-simplex-labels.txt\"), header=None, delimiter=\" \")[0].values\n",
    "    simplex_dict = collections.defaultdict(list) # simplex -> [nodes]\n",
    "    reverse_dict = collections.defaultdict(list) # nodes -> [simplex]\n",
    "    index = 0\n",
    "    for simplex_idx in range(n_vertices.shape[0]):\n",
    "        if simplex_idx > cap:\n",
    "            break\n",
    "        s = str(simplex_labels[simplex_idx])\n",
    "        for j in simplices[index:index+n_vertices[simplex_idx]]:\n",
    "            n_label = n_labels[j-1]\n",
    "            reverse_dict[n_label].append(s)\n",
    "            simplex_dict[s].append(n_label)\n",
    "        index+=n_vertices[simplex_idx]\n",
    "    return (reverse_dict, simplex_dict, index)\n",
    "\n",
    "def create_file(my_dict, destination):\n",
    "    with open(destination,\"w\") as f:\n",
    "        for key, val in my_dict.items():\n",
    "            f.write(f'{key},{\",\".join(val)}\\n')"
   ]
  },
  {
   "cell_type": "code",
   "execution_count": 142,
   "id": "b328ff0f-da53-4158-b89a-04db2a02996d",
   "metadata": {},
   "outputs": [],
   "source": [
    "a,b,c = create_tag_ask_ubuntu()\n",
    "create_file(b, os.path.join(os.environ[\"DATASET_DIR\"], \"tags-ask-ubuntu\",\"tags-ask-ubuntu-simplex-node.txt\"))\n",
    "create_file(a, os.path.join(os.environ[\"DATASET_DIR\"], \"tags-ask-ubuntu\",\"tags-ask-ubuntu-node-simplex.txt\"))"
   ]
  },
  {
   "cell_type": "markdown",
   "id": "546d2a5d-e767-49eb-8f21-fcf322629e6d",
   "metadata": {
    "jp-MarkdownHeadingCollapsed": true,
    "tags": []
   },
   "source": [
    "# Reddit-hyperlink"
   ]
  },
  {
   "cell_type": "code",
   "execution_count": 118,
   "id": "e0c07f1a-e515-465d-a748-7931e3e475bc",
   "metadata": {},
   "outputs": [],
   "source": [
    "res = pd.read_csv(os.path.join(os.environ[\"DATASET_DIR\"], \"RedditHyperlinks\",\"soc-redditHyperlinks-body.tsv\"), header=None, delimiter=\"\\t\", nrows=10000, usecols=[0,1])"
   ]
  },
  {
   "cell_type": "markdown",
   "id": "7614c684-d18e-4f1c-ac3a-707eb6d5e5f5",
   "metadata": {
    "tags": []
   },
   "source": [
    "## Means"
   ]
  },
  {
   "cell_type": "code",
   "execution_count": 119,
   "id": "93c90664-ef88-4cf2-95e1-1ad8e668a5f9",
   "metadata": {},
   "outputs": [
    {
     "data": {
      "text/plain": [
       "(9.4792, 3.461405330564209)"
      ]
     },
     "execution_count": 119,
     "metadata": {},
     "output_type": "execute_result"
    }
   ],
   "source": [
    "acc = 0\n",
    "for i,j in res.iterrows():\n",
    "    acc += res[:i][res[:i][0] == j[1]].shape[0]\n",
    "acc = acc / res.shape[0]\n",
    "acc, res.groupby(0).count()[1].mean()"
   ]
  },
  {
   "cell_type": "markdown",
   "id": "023199b6-6529-48a2-b574-816e7b514856",
   "metadata": {
    "jp-MarkdownHeadingCollapsed": true,
    "tags": []
   },
   "source": [
    "# StackOverflow"
   ]
  },
  {
   "cell_type": "code",
   "execution_count": 5,
   "id": "d99fee52-04c9-4dc0-81d4-69550b5e1ae6",
   "metadata": {},
   "outputs": [],
   "source": [
    "data = pd.read_csv(\"../datasets/StackOverflow/sx-stackoverflow.txt\", header=None, delimiter=\" \")\n",
    "data.to_csv(\"../datasets/StackOverflow/sx-stackoverflow.tsv\", index=False, header=False)"
   ]
  },
  {
   "cell_type": "markdown",
   "id": "50d4d2af",
   "metadata": {
    "pycharm": {
     "name": "#%% md\n"
    }
   },
   "source": []
  },
  {
   "cell_type": "code",
   "execution_count": 4,
   "id": "bf2cfc34",
   "metadata": {
    "collapsed": false,
    "jupyter": {
     "outputs_hidden": false
    },
    "pycharm": {
     "name": "#%%\n"
    }
   },
   "outputs": [],
   "source": [
    "dataset = dgl.data.RedditDataset()\n",
    "graph = dataset[0]"
   ]
  },
  {
   "cell_type": "code",
   "execution_count": 7,
   "id": "7310934f",
   "metadata": {
    "collapsed": false,
    "jupyter": {
     "outputs_hidden": false
    },
    "pycharm": {
     "name": "#%%\n"
    }
   },
   "outputs": [
    {
     "data": {
      "text/plain": [
       "560979720"
      ]
     },
     "execution_count": 7,
     "metadata": {},
     "output_type": "execute_result"
    }
   ],
   "source": [
    "graph.ndata[\"feat\"].element_size() * graph.ndata[\"feat\"].nelement()"
   ]
  },
  {
   "cell_type": "code",
   "execution_count": null,
   "id": "27eae8ce",
   "metadata": {
    "collapsed": false,
    "jupyter": {
     "outputs_hidden": false
    },
    "pycharm": {
     "name": "#%%\n"
    }
   },
   "outputs": [],
   "source": [
    "\n",
    "os.environ[\"DATASET_DIR\"] = \"/home/rustambaku13/Documents/Warwick/flink-streaming-gnn/jupyter/datasets\"\n",
    "frame = pd.DataFrame({\"src\":graph.uniEdges()[0], \"dest\":graph.uniEdges()[1]})\n",
    "frame.to_csv(os.path.join(os.getenv(\"DATASET_DIR\"), \"reddit\", \"graph.tsv\"), header=None, index=None, sep=\"\\t\")\n",
    "np.save(os.path.join(os.getenv(\"DATASET_DIR\"), \"reddit\", \"node_features\"), graph.ndata[\"feat\"])\n",
    "np.save(os.path.join(os.getenv(\"DATASET_DIR\"), \"reddit\", \"node_labels\"), graph.ndata[\"label\"])"
   ]
  }
 ],
 "metadata": {
  "kernelspec": {
   "display_name": "Python 3 (ipykernel)",
   "language": "python",
   "name": "python3"
  },
  "language_info": {
   "codemirror_mode": {
    "name": "ipython",
    "version": 3
   },
   "file_extension": ".py",
   "mimetype": "text/x-python",
   "name": "python",
   "nbconvert_exporter": "python",
   "pygments_lexer": "ipython3",
   "version": "3.9.12"
  }
 },
 "nbformat": 4,
 "nbformat_minor": 5
}
