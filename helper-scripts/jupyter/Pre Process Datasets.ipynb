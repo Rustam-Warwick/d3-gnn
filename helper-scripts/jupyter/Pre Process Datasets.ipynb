{
 "cells": [
  {
   "cell_type": "code",
   "execution_count": 1,
   "id": "ea79a907-4d81-447a-a81e-a0925d998822",
   "metadata": {},
   "outputs": [],
   "source": [
    "import pandas as pd\n",
    "import numpy as np\n",
    "import string\n",
    "import random\n",
    "import collections\n",
    "import os\n",
    "os.environ[\"DATASET_DIR\"] = \"/home/rustambaku13/Documents/Warwick/d3-gnn/datasets\""
   ]
  },
  {
   "cell_type": "markdown",
   "id": "064c8174-3680-4853-8037-d7d588432902",
   "metadata": {
    "tags": []
   },
   "source": [
    "# Tag-Ask-Ubuntu"
   ]
  },
  {
   "cell_type": "code",
   "execution_count": 3,
   "id": "b0d9bb7a-0271-4931-ab6a-ef71452bfae2",
   "metadata": {},
   "outputs": [],
   "source": [
    "class TagAskUbuntu:\n",
    "    def __init__(self):\n",
    "        n_vertices = pd.read_csv(os.path.join(os.environ[\"DATASET_DIR\"], \"tags-ask-ubuntu\",\"tags-ask-ubuntu-nverts.txt\"), header=None)[0].values\n",
    "        simplices = pd.read_csv(os.path.join(os.environ[\"DATASET_DIR\"], \"tags-ask-ubuntu\",\"tags-ask-ubuntu-simplices.txt\"), header=None)[0].values\n",
    "        n_labels = pd.read_csv(os.path.join(os.environ[\"DATASET_DIR\"], \"tags-ask-ubuntu\",\"tags-ask-ubuntu-node-labels.txt\"), header=None, delimiter=\" \", usecols=[1])[1].values\n",
    "        simplex_labels = pd.read_csv(os.path.join(os.environ[\"DATASET_DIR\"], \"tags-ask-ubuntu\",\"tags-ask-ubuntu-simplex-labels.txt\"), header=None, delimiter=\" \")[0].values\n",
    "        self.q2t = collections.defaultdict(list) # simplex -> [nodes]\n",
    "        self.t2q = collections.defaultdict(list) # nodes -> [simplex]\n",
    "        index = 0\n",
    "        for simplex_idx in range(n_vertices.shape[0]):\n",
    "            s = str(simplex_labels[simplex_idx])\n",
    "            for j in simplices[index:index+n_vertices[simplex_idx]]:\n",
    "                n_label = n_labels[j-1]\n",
    "                self.t2q[n_label].append(s)\n",
    "                self.q2t[s].append(n_label)\n",
    "            index+=n_vertices[simplex_idx]\n",
    "            \n",
    "    def create_files(self):\n",
    "        def create_file(my_dict, destination):\n",
    "            with open(destination,\"w\") as f:\n",
    "                for key, val in my_dict.items():\n",
    "                    f.write(f'{key},{\",\".join(val)}\\n')\n",
    "        create_file(self.q2t, os.path.join(os.environ[\"DATASET_DIR\"], \"tags-ask-ubuntu\",\"tags-ask-ubuntu[question-tag].txt\"))\n",
    "        create_file(self.t2q, os.path.join(os.environ[\"DATASET_DIR\"], \"tags-ask-ubuntu\",\"tags-ask-ubuntu[tag-question].txt\"))\n",
    "        \n",
    "    def generate_statistics(self):\n",
    "        num_nodes = len(self.t2q)\n",
    "        num_hyperedges = len(self.q2t)\n",
    "        \n",
    "        "
   ]
  },
  {
   "cell_type": "code",
   "execution_count": 4,
   "id": "8c1f5a3f-285f-4ae6-b551-9e7d65951812",
   "metadata": {},
   "outputs": [],
   "source": [
    "TagAskUbuntu().create_files()"
   ]
  },
  {
   "cell_type": "markdown",
   "id": "546d2a5d-e767-49eb-8f21-fcf322629e6d",
   "metadata": {
    "tags": []
   },
   "source": [
    "# Reddit-hyperlink"
   ]
  },
  {
   "cell_type": "code",
   "execution_count": 5,
   "id": "e0c07f1a-e515-465d-a748-7931e3e475bc",
   "metadata": {},
   "outputs": [],
   "source": [
    "res = pd.read_csv(os.path.join(os.environ[\"DATASET_DIR\"], \"RedditHyperlinks\",\"soc-redditHyperlinks-body.tsv\"), header=None, delimiter=\"\\t\", usecols=[0,1])"
   ]
  },
  {
   "cell_type": "markdown",
   "id": "7614c684-d18e-4f1c-ac3a-707eb6d5e5f5",
   "metadata": {
    "tags": []
   },
   "source": [
    "## Means"
   ]
  },
  {
   "cell_type": "code",
   "execution_count": 6,
   "id": "36563d02-23fe-4e83-b975-18a5bdd1afec",
   "metadata": {},
   "outputs": [
    {
     "data": {
      "text/html": [
       "<div>\n",
       "<style scoped>\n",
       "    .dataframe tbody tr th:only-of-type {\n",
       "        vertical-align: middle;\n",
       "    }\n",
       "\n",
       "    .dataframe tbody tr th {\n",
       "        vertical-align: top;\n",
       "    }\n",
       "\n",
       "    .dataframe thead th {\n",
       "        text-align: right;\n",
       "    }\n",
       "</style>\n",
       "<table border=\"1\" class=\"dataframe\">\n",
       "  <thead>\n",
       "    <tr style=\"text-align: right;\">\n",
       "      <th></th>\n",
       "      <th>0</th>\n",
       "      <th>1</th>\n",
       "    </tr>\n",
       "  </thead>\n",
       "  <tbody>\n",
       "    <tr>\n",
       "      <th>0</th>\n",
       "      <td>leagueoflegends</td>\n",
       "      <td>teamredditteams</td>\n",
       "    </tr>\n",
       "    <tr>\n",
       "      <th>1</th>\n",
       "      <td>theredlion</td>\n",
       "      <td>soccer</td>\n",
       "    </tr>\n",
       "    <tr>\n",
       "      <th>2</th>\n",
       "      <td>inlandempire</td>\n",
       "      <td>bikela</td>\n",
       "    </tr>\n",
       "    <tr>\n",
       "      <th>3</th>\n",
       "      <td>nfl</td>\n",
       "      <td>cfb</td>\n",
       "    </tr>\n",
       "    <tr>\n",
       "      <th>4</th>\n",
       "      <td>playmygame</td>\n",
       "      <td>gamedev</td>\n",
       "    </tr>\n",
       "    <tr>\n",
       "      <th>...</th>\n",
       "      <td>...</td>\n",
       "      <td>...</td>\n",
       "    </tr>\n",
       "    <tr>\n",
       "      <th>286556</th>\n",
       "      <td>negareddit</td>\n",
       "      <td>debatefascism</td>\n",
       "    </tr>\n",
       "    <tr>\n",
       "      <th>286557</th>\n",
       "      <td>mildlynomil</td>\n",
       "      <td>justnomil</td>\n",
       "    </tr>\n",
       "    <tr>\n",
       "      <th>286558</th>\n",
       "      <td>mmorpg</td>\n",
       "      <td>blackdesertonline</td>\n",
       "    </tr>\n",
       "    <tr>\n",
       "      <th>286559</th>\n",
       "      <td>electricskateboards</td>\n",
       "      <td>askreddit</td>\n",
       "    </tr>\n",
       "    <tr>\n",
       "      <th>286560</th>\n",
       "      <td>mgtow</td>\n",
       "      <td>dataisbeautiful</td>\n",
       "    </tr>\n",
       "  </tbody>\n",
       "</table>\n",
       "<p>286561 rows × 2 columns</p>\n",
       "</div>"
      ],
      "text/plain": [
       "                          0                  1\n",
       "0           leagueoflegends    teamredditteams\n",
       "1                theredlion             soccer\n",
       "2              inlandempire             bikela\n",
       "3                       nfl                cfb\n",
       "4                playmygame            gamedev\n",
       "...                     ...                ...\n",
       "286556           negareddit      debatefascism\n",
       "286557          mildlynomil          justnomil\n",
       "286558               mmorpg  blackdesertonline\n",
       "286559  electricskateboards          askreddit\n",
       "286560                mgtow    dataisbeautiful\n",
       "\n",
       "[286561 rows x 2 columns]"
      ]
     },
     "execution_count": 6,
     "metadata": {},
     "output_type": "execute_result"
    }
   ],
   "source": [
    "res"
   ]
  },
  {
   "cell_type": "code",
   "execution_count": 7,
   "id": "93c90664-ef88-4cf2-95e1-1ad8e668a5f9",
   "metadata": {},
   "outputs": [
    {
     "data": {
      "text/plain": [
       "(121.25355857915069, 10.28464271614686)"
      ]
     },
     "execution_count": 7,
     "metadata": {},
     "output_type": "execute_result"
    }
   ],
   "source": [
    "acc = 0unique i,j in res.iterrows():\n",
    "    acc += res[:i][res[:i][0] == j[1]].shape[0]\n",
    "acc = acc / res.shape[0]\n",
    "acc, res.groupby(0).count()[1].mean()"
   ]
  },
  {
   "cell_type": "code",
   "execution_count": null,
   "id": "1af59d88-55c3-4afc-9ec5-95b25ca8b64d",
   "metadata": {},
   "outputs": [],
   "source": [
    "res[0].uniq"
   ]
  },
  {
   "cell_type": "markdown",
   "id": "023199b6-6529-48a2-b574-816e7b514856",
   "metadata": {
    "tags": []
   },
   "source": [
    "# StackOverflow"
   ]
  },
  {
   "cell_type": "code",
   "execution_count": 5,
   "id": "d99fee52-04c9-4dc0-81d4-69550b5e1ae6",
   "metadata": {},
   "outputs": [],
   "source": [
    "data = pd.read_csv(\"../datasets/StackOverflow/sx-stackoverflow.txt\", header=None, delimiter=\" \")\n",
    "data.to_csv(\"../datasets/StackOverflow/sx-stackoverflow.tsv\", index=False, header=False)"
   ]
  },
  {
   "cell_type": "markdown",
   "id": "50d4d2af",
   "metadata": {
    "pycharm": {
     "name": "#%% md\n"
    }
   },
   "source": []
  },
  {
   "cell_type": "code",
   "execution_count": 4,
   "id": "bf2cfc34",
   "metadata": {
    "collapsed": false,
    "jupyter": {
     "outputs_hidden": false
    },
    "pycharm": {
     "name": "#%%\n"
    }
   },
   "outputs": [],
   "source": [
    "dataset = dgl.data.RedditDataset()\n",
    "graph = dataset[0]"
   ]
  },
  {
   "cell_type": "code",
   "execution_count": 7,
   "id": "7310934f",
   "metadata": {
    "collapsed": false,
    "jupyter": {
     "outputs_hidden": false
    },
    "pycharm": {
     "name": "#%%\n"
    }
   },
   "outputs": [
    {
     "data": {
      "text/plain": [
       "560979720"
      ]
     },
     "execution_count": 7,
     "metadata": {},
     "output_type": "execute_result"
    }
   ],
   "source": [
    "graph.ndata[\"feat\"].element_size() * graph.ndata[\"feat\"].nelement()"
   ]
  },
  {
   "cell_type": "code",
   "execution_count": null,
   "id": "27eae8ce",
   "metadata": {
    "collapsed": false,
    "jupyter": {
     "outputs_hidden": false
    },
    "pycharm": {
     "name": "#%%\n"
    }
   },
   "outputs": [],
   "source": [
    "\n",
    "os.environ[\"DATASET_DIR\"] = \"/home/rustambaku13/Documents/Warwick/flink-streaming-gnn/jupyter/datasets\"\n",
    "frame = pd.DataFrame({\"src\":graph.uniEdges()[0], \"dest\":graph.uniEdges()[1]})\n",
    "frame.to_csv(os.path.join(os.getenv(\"DATASET_DIR\"), \"reddit\", \"graph.tsv\"), header=None, index=None, sep=\"\\t\")\n",
    "np.save(os.path.join(os.getenv(\"DATASET_DIR\"), \"reddit\", \"node_features\"), graph.ndata[\"feat\"])\n",
    "np.save(os.path.join(os.getenv(\"DATASET_DIR\"), \"reddit\", \"node_labels\"), graph.ndata[\"label\"])"
   ]
  }
 ],
 "metadata": {
  "kernelspec": {
   "display_name": "Python 3 (ipykernel)",
   "language": "python",
   "name": "python3"
  },
  "language_info": {
   "codemirror_mode": {
    "name": "ipython",
    "version": 3
   },
   "file_extension": ".py",
   "mimetype": "text/x-python",
   "name": "python",
   "nbconvert_exporter": "python",
   "pygments_lexer": "ipython3",
   "version": "3.9.12"
  }
 },
 "nbformat": 4,
 "nbformat_minor": 5
}
