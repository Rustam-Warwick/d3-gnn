{
 "cells": [
  {
   "cell_type": "code",
   "execution_count": 1,
   "id": "ea79a907-4d81-447a-a81e-a0925d998822",
   "metadata": {},
   "outputs": [],
   "source": [
    "import pandas as pd\n",
    "import numpy as np\n",
    "import string\n",
    "import random\n",
    "import collections\n",
    "import os\n",
    "os.environ['DATASET_DIR'] = \"/home/rustambaku13/Documents/Warwick/d3-gnn/jupyter/datasets/\""
   ]
  },
  {
   "cell_type": "markdown",
   "id": "d4e955d7-d59c-4025-a058-a940620d0332",
   "metadata": {
    "tags": []
   },
   "source": [
    "# Helpers"
   ]
  },
  {
   "cell_type": "code",
   "execution_count": 2,
   "id": "f4d661dd",
   "metadata": {
    "collapsed": false,
    "jupyter": {
     "outputs_hidden": false
    },
    "pycharm": {
     "name": "#%%\n"
    }
   },
   "outputs": [],
   "source": [
    "def get_out_degree(data):\n",
    "    \"\"\" data Array of size D, 2. Where d is number of uniEdges and src, dest \"\"\"\n",
    "    v = {}\n",
    "    for src, dest in data:\n",
    "        v[src] = v.get(dest,0) + 1\n",
    "    return sum(v.values()) / len(v) if len(v) > 0 else 0\n",
    "\n",
    "def get_running_out_degree(data):\n",
    "    l = []\n",
    "    for i in range(1000, data.shape[0], 1000):\n",
    "        if i % 10000 == 0:\n",
    "            print(i)\n",
    "        l.append(get_out_degree(data[[0,1]][:i].values))\n",
    "    return sum(l) / len(l) if len(l) > 0 else 0\n",
    "\n",
    "def get_random_string(length):\n",
    "    # choose from all lowercase letter\n",
    "    letters = string.ascii_lowercase\n",
    "    result_str = ''.join(random.choice(letters) for i in range(length))\n",
    "    return result_str"
   ]
  },
  {
   "cell_type": "markdown",
   "id": "064c8174-3680-4853-8037-d7d588432902",
   "metadata": {
    "tags": []
   },
   "source": [
    "# Tag-Ask-Ubuntu"
   ]
  },
  {
   "cell_type": "code",
   "execution_count": 25,
   "id": "2b6e276f-5cce-40b4-bdef-e9650c88a2df",
   "metadata": {},
   "outputs": [],
   "source": [
    "def create_tag_ask_ubuntu(cap=70000):\n",
    "    n_vertices = pd.read_csv(os.path.join(os.environ[\"DATASET_DIR\"], \"tags-ask-ubuntu\",\"tags-ask-ubuntu-nverts.txt\"), header=None)[0].values\n",
    "    simplices = pd.read_csv(os.path.join(os.environ[\"DATASET_DIR\"], \"tags-ask-ubuntu\",\"tags-ask-ubuntu-simplices.txt\"), header=None)[0].values\n",
    "    n_labels = pd.read_csv(os.path.join(os.environ[\"DATASET_DIR\"], \"tags-ask-ubuntu\",\"tags-ask-ubuntu-node-labels.txt\"), header=None, delimiter=\" \", usecols=[1])[1].values\n",
    "    simplex_labels = pd.read_csv(os.path.join(os.environ[\"DATASET_DIR\"], \"tags-ask-ubuntu\",\"tags-ask-ubuntu-simplex-labels.txt\"), header=None, delimiter=\" \")[0].values\n",
    "    simplex_dict = collections.defaultdict(list) # simplex -> [nodes]\n",
    "    reverse_dict = collections.defaultdict(list) # nodes -> [simplex]\n",
    "    index = 0\n",
    "    for simplex_idx in range(n_vertices.shape[0]):\n",
    "        if simplex_idx > cap:\n",
    "            break\n",
    "        s = str(simplex_labels[simplex_idx])\n",
    "        for j in simplices[index:index+n_vertices[simplex_idx]]:\n",
    "            n_label = n_labels[j-1]\n",
    "            reverse_dict[n_label].append(s)\n",
    "            simplex_dict[s].append(n_label)\n",
    "        index+=n_vertices[simplex_idx]\n",
    "    return (reverse_dict, simplex_dict, index)\n",
    "\n",
    "def create_file_pairwise_edges(my_dict, destination):\n",
    "    connections = list()\n",
    "    with open(destination,\"w\") as f:\n",
    "        for key, values in my_dict.items():\n",
    "            for value in values:\n",
    "                f.write(f'{key},{value}\\n')\n",
    "                f.write(f'{value},{key}\\n')\n",
    "\n",
    "\n",
    "def create_file(my_dict, destination):\n",
    "    with open(destination,\"w\") as f:\n",
    "        for key, val in my_dict.items():\n",
    "            f.write(f'{key},{\",\".join(val)}\\n')"
   ]
  },
  {
   "cell_type": "code",
   "execution_count": 33,
   "id": "b328ff0f-da53-4158-b89a-04db2a02996d",
   "metadata": {},
   "outputs": [],
   "source": [
    "a,b,c = create_tag_ask_ubuntu(1000000000)\n",
    "create_file(b, os.path.join(os.environ[\"DATASET_DIR\"], \"tags-ask-ubuntu\",\"tags-ask-ubuntu-simplex-node.txt\"))\n",
    "create_file(a, os.path.join(os.environ[\"DATASET_DIR\"], \"tags-ask-ubuntu\",\"tags-ask-ubuntu-node-simplex.txt\"))"
   ]
  },
  {
   "cell_type": "code",
   "execution_count": null,
   "id": "87d7369f-a189-48f8-ac6a-bd7eac1cc06f",
   "metadata": {},
   "outputs": [],
   "source": []
  },
  {
   "cell_type": "code",
   "execution_count": 24,
   "id": "e652c6bb-3760-4c8c-9687-da1592f986b7",
   "metadata": {},
   "outputs": [],
   "source": [
    "create_file_pairwise_edges(a, os.path.join(os.environ[\"DATASET_DIR\"], \"tags-ask-ubuntu\",\"tags-ask-ubuntu-pairwise-edges.csv\"))"
   ]
  },
  {
   "cell_type": "markdown",
   "id": "546d2a5d-e767-49eb-8f21-fcf322629e6d",
   "metadata": {
    "tags": []
   },
   "source": [
    "# Reddit-hyperlink"
   ]
  },
  {
   "cell_type": "code",
   "execution_count": 5,
   "id": "e0c07f1a-e515-465d-a748-7931e3e475bc",
   "metadata": {},
   "outputs": [],
   "source": [
    "res = pd.read_csv(os.path.join(os.environ[\"DATASET_DIR\"], \"RedditHyperlinks\",\"soc-redditHyperlinks-body.tsv\"), header=None, delimiter=\"\\t\", usecols=[0,1])"
   ]
  },
  {
   "cell_type": "markdown",
   "id": "7614c684-d18e-4f1c-ac3a-707eb6d5e5f5",
   "metadata": {
    "tags": []
   },
   "source": [
    "## Means"
   ]
  },
  {
   "cell_type": "code",
   "execution_count": 6,
   "id": "36563d02-23fe-4e83-b975-18a5bdd1afec",
   "metadata": {},
   "outputs": [
    {
     "data": {
      "text/html": [
       "<div>\n",
       "<style scoped>\n",
       "    .dataframe tbody tr th:only-of-type {\n",
       "        vertical-align: middle;\n",
       "    }\n",
       "\n",
       "    .dataframe tbody tr th {\n",
       "        vertical-align: top;\n",
       "    }\n",
       "\n",
       "    .dataframe thead th {\n",
       "        text-align: right;\n",
       "    }\n",
       "</style>\n",
       "<table border=\"1\" class=\"dataframe\">\n",
       "  <thead>\n",
       "    <tr style=\"text-align: right;\">\n",
       "      <th></th>\n",
       "      <th>0</th>\n",
       "      <th>1</th>\n",
       "    </tr>\n",
       "  </thead>\n",
       "  <tbody>\n",
       "    <tr>\n",
       "      <th>0</th>\n",
       "      <td>leagueoflegends</td>\n",
       "      <td>teamredditteams</td>\n",
       "    </tr>\n",
       "    <tr>\n",
       "      <th>1</th>\n",
       "      <td>theredlion</td>\n",
       "      <td>soccer</td>\n",
       "    </tr>\n",
       "    <tr>\n",
       "      <th>2</th>\n",
       "      <td>inlandempire</td>\n",
       "      <td>bikela</td>\n",
       "    </tr>\n",
       "    <tr>\n",
       "      <th>3</th>\n",
       "      <td>nfl</td>\n",
       "      <td>cfb</td>\n",
       "    </tr>\n",
       "    <tr>\n",
       "      <th>4</th>\n",
       "      <td>playmygame</td>\n",
       "      <td>gamedev</td>\n",
       "    </tr>\n",
       "    <tr>\n",
       "      <th>...</th>\n",
       "      <td>...</td>\n",
       "      <td>...</td>\n",
       "    </tr>\n",
       "    <tr>\n",
       "      <th>286556</th>\n",
       "      <td>negareddit</td>\n",
       "      <td>debatefascism</td>\n",
       "    </tr>\n",
       "    <tr>\n",
       "      <th>286557</th>\n",
       "      <td>mildlynomil</td>\n",
       "      <td>justnomil</td>\n",
       "    </tr>\n",
       "    <tr>\n",
       "      <th>286558</th>\n",
       "      <td>mmorpg</td>\n",
       "      <td>blackdesertonline</td>\n",
       "    </tr>\n",
       "    <tr>\n",
       "      <th>286559</th>\n",
       "      <td>electricskateboards</td>\n",
       "      <td>askreddit</td>\n",
       "    </tr>\n",
       "    <tr>\n",
       "      <th>286560</th>\n",
       "      <td>mgtow</td>\n",
       "      <td>dataisbeautiful</td>\n",
       "    </tr>\n",
       "  </tbody>\n",
       "</table>\n",
       "<p>286561 rows × 2 columns</p>\n",
       "</div>"
      ],
      "text/plain": [
       "                          0                  1\n",
       "0           leagueoflegends    teamredditteams\n",
       "1                theredlion             soccer\n",
       "2              inlandempire             bikela\n",
       "3                       nfl                cfb\n",
       "4                playmygame            gamedev\n",
       "...                     ...                ...\n",
       "286556           negareddit      debatefascism\n",
       "286557          mildlynomil          justnomil\n",
       "286558               mmorpg  blackdesertonline\n",
       "286559  electricskateboards          askreddit\n",
       "286560                mgtow    dataisbeautiful\n",
       "\n",
       "[286561 rows x 2 columns]"
      ]
     },
     "execution_count": 6,
     "metadata": {},
     "output_type": "execute_result"
    }
   ],
   "source": [
    "res"
   ]
  },
  {
   "cell_type": "code",
   "execution_count": 7,
   "id": "93c90664-ef88-4cf2-95e1-1ad8e668a5f9",
   "metadata": {},
   "outputs": [
    {
     "data": {
      "text/plain": [
       "(121.25355857915069, 10.28464271614686)"
      ]
     },
     "execution_count": 7,
     "metadata": {},
     "output_type": "execute_result"
    }
   ],
   "source": [
    "acc = 0unique i,j in res.iterrows():\n",
    "    acc += res[:i][res[:i][0] == j[1]].shape[0]\n",
    "acc = acc / res.shape[0]\n",
    "acc, res.groupby(0).count()[1].mean()"
   ]
  },
  {
   "cell_type": "code",
   "execution_count": null,
   "id": "1af59d88-55c3-4afc-9ec5-95b25ca8b64d",
   "metadata": {},
   "outputs": [],
   "source": [
    "res[0].uniq"
   ]
  },
  {
   "cell_type": "markdown",
   "id": "023199b6-6529-48a2-b574-816e7b514856",
   "metadata": {
    "tags": []
   },
   "source": [
    "# StackOverflow"
   ]
  },
  {
   "cell_type": "code",
   "execution_count": 5,
   "id": "d99fee52-04c9-4dc0-81d4-69550b5e1ae6",
   "metadata": {},
   "outputs": [],
   "source": [
    "data = pd.read_csv(\"../datasets/StackOverflow/sx-stackoverflow.txt\", header=None, delimiter=\" \")\n",
    "data.to_csv(\"../datasets/StackOverflow/sx-stackoverflow.tsv\", index=False, header=False)"
   ]
  },
  {
   "cell_type": "markdown",
   "id": "50d4d2af",
   "metadata": {
    "pycharm": {
     "name": "#%% md\n"
    }
   },
   "source": []
  },
  {
   "cell_type": "code",
   "execution_count": 4,
   "id": "bf2cfc34",
   "metadata": {
    "collapsed": false,
    "jupyter": {
     "outputs_hidden": false
    },
    "pycharm": {
     "name": "#%%\n"
    }
   },
   "outputs": [],
   "source": [
    "dataset = dgl.data.RedditDataset()\n",
    "graph = dataset[0]"
   ]
  },
  {
   "cell_type": "code",
   "execution_count": 7,
   "id": "7310934f",
   "metadata": {
    "collapsed": false,
    "jupyter": {
     "outputs_hidden": false
    },
    "pycharm": {
     "name": "#%%\n"
    }
   },
   "outputs": [
    {
     "data": {
      "text/plain": [
       "560979720"
      ]
     },
     "execution_count": 7,
     "metadata": {},
     "output_type": "execute_result"
    }
   ],
   "source": [
    "graph.ndata[\"feat\"].element_size() * graph.ndata[\"feat\"].nelement()"
   ]
  },
  {
   "cell_type": "code",
   "execution_count": null,
   "id": "27eae8ce",
   "metadata": {
    "collapsed": false,
    "jupyter": {
     "outputs_hidden": false
    },
    "pycharm": {
     "name": "#%%\n"
    }
   },
   "outputs": [],
   "source": [
    "\n",
    "os.environ[\"DATASET_DIR\"] = \"/home/rustambaku13/Documents/Warwick/flink-streaming-gnn/jupyter/datasets\"\n",
    "frame = pd.DataFrame({\"src\":graph.uniEdges()[0], \"dest\":graph.uniEdges()[1]})\n",
    "frame.to_csv(os.path.join(os.getenv(\"DATASET_DIR\"), \"reddit\", \"graph.tsv\"), header=None, index=None, sep=\"\\t\")\n",
    "np.save(os.path.join(os.getenv(\"DATASET_DIR\"), \"reddit\", \"node_features\"), graph.ndata[\"feat\"])\n",
    "np.save(os.path.join(os.getenv(\"DATASET_DIR\"), \"reddit\", \"node_labels\"), graph.ndata[\"label\"])"
   ]
  }
 ],
 "metadata": {
  "kernelspec": {
   "display_name": "Python 3 (ipykernel)",
   "language": "python",
   "name": "python3"
  },
  "language_info": {
   "codemirror_mode": {
    "name": "ipython",
    "version": 3
   },
   "file_extension": ".py",
   "mimetype": "text/x-python",
   "name": "python",
   "nbconvert_exporter": "python",
   "pygments_lexer": "ipython3",
   "version": "3.9.12"
  }
 },
 "nbformat": 4,
 "nbformat_minor": 5
}
