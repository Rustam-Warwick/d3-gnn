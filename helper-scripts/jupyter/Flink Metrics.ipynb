{
 "cells": [
  {
   "cell_type": "markdown",
   "id": "f4cf4759-c209-44a8-ab40-f2e67580c68e",
   "metadata": {
    "tags": []
   },
   "source": [
    "# Definitions"
   ]
  },
  {
   "cell_type": "code",
   "execution_count": 116,
   "id": "7bdfbfa2-9919-4faf-922c-7a638efb53e7",
   "metadata": {},
   "outputs": [],
   "source": [
    "# Metrics\n",
    "import os\n",
    "import pandas as pd\n",
    "import numpy as np\n",
    "from collections import defaultdict\n",
    "from itertools import zip_longest\n",
    "import re\n",
    "import matplotlib.pyplot as plt\n",
    "import matplotlib.ticker as tkr\n",
    "np.set_printoptions(threshold=1000)"
   ]
  },
  {
   "cell_type": "markdown",
   "id": "0ed9c15a-fe9a-4762-9928-d8c4bab4cb92",
   "metadata": {},
   "source": [
    "## Formatter"
   ]
  },
  {
   "cell_type": "code",
   "execution_count": 4,
   "id": "40424fbc-62ec-46dd-9a65-d1348653ff5a",
   "metadata": {},
   "outputs": [],
   "source": [
    "def fmt(x, pos): # your custom formatter function: divide y axis tick labels by 100000.0\n",
    "    s = '{}'.format(x / 100000)\n",
    "    return s\n",
    "\n",
    "yfmt = tkr.FuncFormatter(numfmt)\n",
    "\n",
    "def numfmt2(x, pos): # your custom formatter function: divide y axis tick labels by 1000.0\n",
    "    s = '{}'.format(x / 1000)\n",
    "    return s\n",
    "\n",
    "yfmt2 = tkr.FuncFormatter(numfmt2)\n",
    "\n",
    "def numfmt3(x, pos): # your custom formatter function: divide y axis tick labels by 10000000.0\n",
    "    s = '{}'.format(x / 10000000)\n",
    "    return s\n",
    "yfmt3 = tkr.FuncFormatter(numfmt3)\n",
    "\n",
    "def numfmt4(x, pos): # your custom formatter function: multiply y axis tick labels by 100.0\n",
    "    s = '{}'.format(x * 100)\n",
    "    return s\n",
    "\n",
    "yfmt4 = tkr.FuncFormatter(numfmt4)\n",
    "\n",
    "def minutes(x, pos): # your custom formatter function: divide y axis tick labels by 100000.0\n",
    "    s = '{}'.format(x / 60000)\n",
    "    return s\n",
    "\n",
    "def ms_to_sec(x, pos): # your custom formatter function: divide y axis tick labels by 100000.0\n",
    "    s = '{}'.format(x / 1000)\n",
    "    return s\n",
    "\n",
    "def sec_to_min(x, pos): # your custom formatter function: divide y axis tick labels by 100000.0\n",
    "    s = '{:.2f}'.format(x / 60)\n",
    "    return s"
   ]
  },
  {
   "cell_type": "code",
   "execution_count": 182,
   "id": "7db199d6-7343-43a2-be26-bed51ba359a4",
   "metadata": {},
   "outputs": [],
   "source": [
    "def plot_aggregated_dict(title, inputs, labels, markers, linestyles, colors, fit_degree=None, formatter=None, ylabel=None, xlabel=None, pre_fig=None):\n",
    "    x = np.array(sorted(inputs[0].keys()))\n",
    "    y = list(map(lambda x: np.array([]), inputs))\n",
    "    lines = list()\n",
    "    for key in x:\n",
    "        for i, _ in enumerate(y):\n",
    "            if key not in inputs[i]:\n",
    "                inputs[i][key] = 0\n",
    "            val = np.array(inputs[i][key])\n",
    "            y[i] = np.append(y[i], val)\n",
    "    fig, ax = plt.subplots() if pre_fig is None else pre_fig\n",
    "    for i, yi in enumerate(y):\n",
    "        if fit_degree:\n",
    "            theta = np.poly1d(np.polyfit(x, y[i], fit_degree))\n",
    "            fit_line = theta(x)\n",
    "            lines.append(ax.scatter(x, yi, label=labels[i], marker=markers[i], color=colors[i], linestyle=linestyles[i]))\n",
    "            lines.append(ax.plot(x, fit_line, label=None, marker=None, linestyle=\":\")[0])\n",
    "            \n",
    "        else:\n",
    "            lines.append(ax.plot(x, yi, label=labels[i], marker=markers[i], color=colors[i], linestyle=linestyles[i])[0])\n",
    "    if formatter is not None:\n",
    "        ax.yaxis.set_major_formatter(formatter)\n",
    "    ax.set_title(title)\n",
    "    plt.xlabel(xlabel)\n",
    "    plt.ylabel(ylabel)\n",
    "    return (fig, ax, lines)"
   ]
  },
  {
   "cell_type": "markdown",
   "id": "dead1859-3e15-4cdd-8f4d-1a13f04ffdcf",
   "metadata": {},
   "source": [
    "## Plotter\n"
   ]
  },
  {
   "cell_type": "markdown",
   "id": "d5108bc7-c1b0-4082-9555-ffe8f2617222",
   "metadata": {},
   "source": [
    "## Statistics Measurer"
   ]
  },
  {
   "cell_type": "code",
   "execution_count": 177,
   "id": "d7bbcd40-b101-4740-a4c5-6f99e56c6502",
   "metadata": {},
   "outputs": [],
   "source": [
    "class MetricStatistics:\n",
    "    def __init__(self, entry_folder_name=\"metrics\", operator_name=\"GNN Operator - 2\", metric_name=\"numRecordsInPerSecond\", is_lambda=False):\n",
    "        \"\"\" \n",
    "        Folders are organized as follows:\n",
    "        entry_folder -> run -> operator_name -> metric_name -> subtask_index[digit]\n",
    "        Output is as follows:\n",
    "        parallelism -> experiments[] -> subtask[] -> metric_values[]\n",
    "        \"\"\"\n",
    "        self.output = defaultdict(list)\n",
    "        for run in os.listdir(entry_folder_name):\n",
    "            if not os.path.isdir(os.path.join(entry_folder_name, run)):\n",
    "                continue\n",
    "            subtasks = []\n",
    "            for subtask_index in (os.listdir(os.path.join(entry_folder_name, run, operator_name, metric_name))):\n",
    "                if not subtask_index.isdigit():\n",
    "                    continue\n",
    "                f = pd.read_csv(os.path.join(entry_folder_name, run, operator_name, metric_name,subtask_index), header=None, names=[\"value\"])\n",
    "                subtasks.append(f[\"value\"].values)\n",
    "                \n",
    "            run_class = int(re.match(\".*\\((\\d+)\\).*\",run).groups()[0]) if not is_lambda else float(re.match(\".*-l=(\\d+.\\d+).*\",run).groups()[0])\n",
    "            self.output[run_class].append(subtasks)\n",
    "    def transform_metrics(self,transformation) -> MetricStatistics:\n",
    "        \"\"\" Apply Transformation to each metric array in a subtask \"\"\"\n",
    "        for experiments in self.output.values():\n",
    "            for experiment in experiments:\n",
    "                for subtask_index in range(len(experiment)):\n",
    "                    if callable(transformation):\n",
    "                        experiment[subtask_index] = transformation(experiment[subtask_index])\n",
    "                    elif transformation == \"trim_zeros\":\n",
    "                        experiment[subtask_index] = np.trim_zeros(experiment[subtask_index],\"fb\")\n",
    "                            \n",
    "        return self\n",
    "        \n",
    "    def transform_subtasks(self, transformation) -> MetricStatistics:\n",
    "        \"\"\" Apply transformation to all subtasks \"\"\"\n",
    "        for experiments in self.output.values():\n",
    "            for experiment_index in range(len(experiments)):\n",
    "                if callable(transformation):\n",
    "                    experiments[experiment_index] = transformation(experiments[experiment_index])\n",
    "                elif transformation == \"sum_0_axis\":\n",
    "                    max_len = max([len(x) for x in experiments[experiment_index]])\n",
    "                    output = np.vstack([np.pad(x, (0, max_len - len(x)), 'constant') for x in experiments[experiment_index]])\n",
    "                    experiments[experiment_index] = np.sum(output, axis=0)\n",
    "                elif transformation == \"mean_0_axis\":\n",
    "                    max_len = max([len(x) for x in experiments[experiment_index]])\n",
    "                    output = np.vstack([np.pad(x, (0, max_len - len(x)), 'constant') for x in experiments[experiment_index]])\n",
    "                    experiments[experiment_index] = np.mean(output, axis=0)\n",
    "                elif transformation == \"max_0_axis\":\n",
    "                    max_len = max([len(x) for x in experiments[experiment_index]])\n",
    "                    output = np.vstack([np.pad(x, (0, max_len - len(x)), 'constant') for x in experiments[experiment_index]])\n",
    "                    experiments[experiment_index] = np.max(output, axis=0)\n",
    "        return self\n",
    "    \n",
    "    def transform_experiment(self, transformation) -> MetricStatistics:\n",
    "        \"\"\" Apply transformation to all experiments \"\"\"\n",
    "        for key, experiments in self.output.items():\n",
    "            if callable(transformation):\n",
    "                self.output[key] = transformation(experiments)\n",
    "            elif transformation == \"mean_0_axis\":\n",
    "                max_len = max([len(x) for x in experiments])\n",
    "                output = np.vstack([np.pad(x, (0, max_len - len(x)), 'constant') for x in experiments])\n",
    "                self.output[key] = np.mean(output, axis=0)\n",
    "        return self\n",
    "    \n",
    "    def get_mean_throughput(self):\n",
    "        self.transform_metrics(\"trim_zeros\")\n",
    "        self.transform_subtasks(\"sum_0_axis\")\n",
    "        self.transform_subtasks(lambda x: [x.mean()])\n",
    "        return self.transform_experiment(\"mean_0_axis\").transform_experiment(lambda a: a[0])\n",
    "        \n",
    "        \n",
    "    "
   ]
  },
  {
   "cell_type": "markdown",
   "id": "310289e8-66df-4bec-bce8-598a3aae3a72",
   "metadata": {},
   "source": [
    "## Process Folder"
   ]
  },
  {
   "cell_type": "code",
   "execution_count": 178,
   "id": "d6c2d04f-a7fa-4e1a-94fe-d61a2b96ff36",
   "metadata": {},
   "outputs": [],
   "source": [
    "a = MetricStatistics(entry_folder_name=\"../../jupyter/metrics/DBLP_edge_streaming_streaming/\", metric_name=\"throughput\").transform_metrics(\"trim_zeros\").transform_subtasks(\"mean\")"
   ]
  },
  {
   "cell_type": "code",
   "execution_count": 191,
   "id": "2d8550b1-d883-435a-803c-2b6739141c09",
   "metadata": {},
   "outputs": [
    {
     "data": {
      "text/plain": [
       "(<Figure size 432x288 with 1 Axes>,\n",
       " <AxesSubplot:title={'center':'tt'}>,\n",
       " [<matplotlib.lines.Line2D at 0x178b46a30>])"
      ]
     },
     "execution_count": 191,
     "metadata": {},
     "output_type": "execute_result"
    },
    {
     "data": {
      "image/png": "[encoded data removed]",
      "text/plain": [
       "<Figure size 432x288 with 1 Axes>"
      ]
     },
     "metadata": {
      "needs_background": "light"
     },
     "output_type": "display_data"
    }
   ],
   "source": [
    "plot_aggregated_dict(\"tt\",[a.output], [\"a\"], [\"+\"], [\"-\"], [None], formatter=)"
   ]
  },
  {
   "cell_type": "markdown",
   "id": "cc6e0098-e131-4548-aed9-52971e710edc",
   "metadata": {},
   "source": [
    "## Aggregate"
   ]
  }
 ],
 "metadata": {
  "kernelspec": {
   "display_name": "Python 3 (ipykernel)",
   "language": "python",
   "name": "python3"
  },
  "language_info": {
   "codemirror_mode": {
    "name": "ipython",
    "version": 3
   },
   "file_extension": ".py",
   "mimetype": "text/x-python",
   "name": "python",
   "nbconvert_exporter": "python",
   "pygments_lexer": "ipython3",
   "version": "3.8.12"
  }
 },
 "nbformat": 4,
 "nbformat_minor": 5
}
