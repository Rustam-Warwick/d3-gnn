{
 "cells": [
  {
   "cell_type": "markdown",
   "id": "f4cf4759-c209-44a8-ab40-f2e67580c68e",
   "metadata": {
    "tags": []
   },
   "source": [
    "# Definitions"
   ]
  },
  {
   "cell_type": "code",
   "execution_count": 1,
   "id": "7bdfbfa2-9919-4faf-922c-7a638efb53e7",
   "metadata": {},
   "outputs": [],
   "source": [
    "# Metrics\n",
    "import os\n",
    "import pandas as pd\n",
    "import numpy as np\n",
    "from collections import defaultdict\n",
    "from itertools import zip_longest\n",
    "import re\n",
    "import matplotlib.pyplot as plt\n",
    "import matplotlib.ticker as tkr\n",
    "np.set_printoptions(edgeitems=1000, linewidth=100000, \n",
    "    formatter=dict(float=lambda x: \"%.1f\" % x))"
   ]
  },
  {
   "cell_type": "markdown",
   "id": "0ed9c15a-fe9a-4762-9928-d8c4bab4cb92",
   "metadata": {},
   "source": [
    "## Formatter"
   ]
  },
  {
   "cell_type": "code",
   "execution_count": 3,
   "id": "40424fbc-62ec-46dd-9a65-d1348653ff5a",
   "metadata": {},
   "outputs": [],
   "source": [
    "def fmt_div_e5(x, pos): # your custom formatter function: divide y axis tick labels by 100000.0\n",
    "    s = '{}'.format(x / 100000)\n",
    "    return s\n",
    "\n",
    "\n",
    "def fmt_div_e3(x, pos): # your custom formatter function: divide y axis tick labels by 1000.0\n",
    "    s = '{}'.format(x / 1000)\n",
    "    return s\n",
    "\n",
    "\n",
    "def fmt_div_e7(x, pos): # your custom formatter function: divide y axis tick labels by 10000000.0\n",
    "    s = '{}'.format(x / 10000000)\n",
    "    return s\n",
    "\n",
    "def fmt_mul_e2(x, pos): # your custom formatter function: multiply y axis tick labels by 100.0\n",
    "    s = '{}'.format(x * 100)\n",
    "    return s\n",
    "\n",
    "\n",
    "def minutes(x, pos): # your custom formatter function: divide y axis tick labels by 100000.0\n",
    "    s = '{}'.format(x / 60000)\n",
    "    return s\n",
    "\n",
    "def ms_to_sec(x, pos): # your custom formatter function: divide y axis tick labels by 100000.0\n",
    "    s = '{}'.format(x / 1000)\n",
    "    return s\n",
    "\n",
    "def sec_to_min(x, pos): # your custom formatter function: divide y axis tick labels by 100000.0\n",
    "    s = '{:.2f}'.format(x / 60)\n",
    "    return s"
   ]
  },
  {
   "cell_type": "markdown",
   "id": "dead1859-3e15-4cdd-8f4d-1a13f04ffdcf",
   "metadata": {},
   "source": [
    "## Plotter\n"
   ]
  },
  {
   "cell_type": "code",
   "execution_count": 4,
   "id": "b1778913-8277-4b27-bca7-691f822aa4ba",
   "metadata": {},
   "outputs": [],
   "source": [
    "def plot_aggregated_dict(title, inputs, labels, markers, linestyles, colors, fit_degree=None, formatter=None, ylabel=None, xlabel=None, pre_fig=None):\n",
    "    x = np.array(sorted(inputs[0].keys()))\n",
    "    y = list(map(lambda x: np.array([]), inputs))\n",
    "    lines = list()\n",
    "    for key in x:\n",
    "        for i, _ in enumerate(y):\n",
    "            if key not in inputs[i]:\n",
    "                inputs[i][key] = 0\n",
    "            val = np.array(inputs[i][key])\n",
    "            y[i] = np.append(y[i], val)\n",
    "    fig, ax = plt.subplots() if pre_fig is None else pre_fig\n",
    "    for i, yi in enumerate(y):\n",
    "        if fit_degree:\n",
    "            theta = np.poly1d(np.polyfit(x, y[i], fit_degree))\n",
    "            fit_line = theta(x)\n",
    "            lines.append(ax.scatter(x, yi, label=labels[i], marker=markers[i], color=colors[i], linestyle=linestyles[i]))\n",
    "            lines.append(ax.plot(x, fit_line, label=None, marker=None, linestyle=\":\")[0])\n",
    "            \n",
    "        else:\n",
    "            lines.append(ax.plot(x, yi, label=labels[i], marker=markers[i], color=colors[i], linestyle=linestyles[i])[0])\n",
    "    if formatter is not None:\n",
    "        ax.yaxis.set_major_formatter(formatter)\n",
    "    ax.set_title(title)\n",
    "    ax.set_xlabel(xlabel)\n",
    "    ax.set_ylabel(ylabel)\n",
    "\n",
    "    plt.xlabel(xlabel)\n",
    "    plt.ylabel(ylabel)\n",
    "    return (fig, ax, lines)"
   ]
  },
  {
   "cell_type": "markdown",
   "id": "d5108bc7-c1b0-4082-9555-ffe8f2617222",
   "metadata": {},
   "source": [
    "## Statistics Measurer"
   ]
  },
  {
   "cell_type": "code",
   "execution_count": 46,
   "id": "d7bbcd40-b101-4740-a4c5-6f99e56c6502",
   "metadata": {
    "tags": []
   },
   "outputs": [],
   "source": [
    "class MetricStatistics:\n",
    "    def __init__(self, entry_folder_name=\"metrics\", operator_name=\"GNN Operator - 2\", metric_name=\"numRecordsInPerSecond\", is_lambda=False):\n",
    "        \"\"\" \n",
    "        Folders are organized as follows:\n",
    "        entry_folder -> run -> operator_name -> metric_name -> subtask_index[digit]\n",
    "        Output is as follows:\n",
    "        parallelism -> experiments[] -> subtask[] -> metric_values[]\n",
    "        \"\"\"\n",
    "        self.output = defaultdict(list)\n",
    "        for run in os.listdir(entry_folder_name):\n",
    "            if not os.path.isdir(os.path.join(entry_folder_name, run)):\n",
    "                continue\n",
    "            subtasks = []\n",
    "            for subtask_index in (os.listdir(os.path.join(entry_folder_name, run, operator_name, metric_name))):\n",
    "                if not subtask_index.isdigit():\n",
    "                    continue\n",
    "                f = pd.read_csv(os.path.join(entry_folder_name, run, operator_name, metric_name,subtask_index), header=None, names=[\"value\"])\n",
    "                subtasks.append(f[\"value\"].values)\n",
    "                \n",
    "            run_class = int(re.match(\".*\\((\\d+)\\).*\",run).groups()[0]) if not is_lambda else float(re.match(\".*-l=(\\d+.\\d+).*\",run).groups()[0])\n",
    "            self.output[run_class].append(subtasks)\n",
    "            \n",
    "    def transform_metrics(self, transformation):\n",
    "        \"\"\" Apply Transformation to each metric array in a subtask \"\"\"\n",
    "        for experiments in self.output.values():\n",
    "            for experiment in experiments:\n",
    "                for subtask_index in range(len(experiment)):\n",
    "                    if callable(transformation):\n",
    "                        experiment[subtask_index] = transformation(experiment[subtask_index])\n",
    "                    elif transformation == \"trim_zeros\":\n",
    "                        experiment[subtask_index] = np.trim_zeros(experiment[subtask_index],\"fb\")\n",
    "                    elif transformation == \"trim_zeros_back\":\n",
    "                        experiment[subtask_index] = np.trim_zeros(experiment[subtask_index],\"b\")\n",
    "                    elif transformation == \"trim_zeros_front\":\n",
    "                        experiment[subtask_index] = np.trim_zeros(experiment[subtask_index],\"f\")\n",
    "                    elif transformation == \"mean\":\n",
    "                        experiment[subtask_index] = np.mean(experiment[subtask_index])\n",
    "                    elif transformation == \"max\":\n",
    "                        experiment[subtask_index] = np.max(experiment[subtask_index])\n",
    "                    elif transformation == \"expand_dim\":\n",
    "                        experiment[subtask_index] = np.expand_dims(experiment[subtask_index], -1)\n",
    "                        \n",
    "        return self\n",
    "        \n",
    "    def transform_subtasks(self, transformation):\n",
    "        \"\"\" Apply transformation to all subtasks \"\"\"\n",
    "        for experiments in self.output.values():\n",
    "            for experiment_index in range(len(experiments)):\n",
    "                if callable(transformation):\n",
    "                    experiments[experiment_index] = transformation(experiments[experiment_index])\n",
    "                elif transformation == \"sum_0_axis\":\n",
    "                    max_len = max([len(x) for x in experiments[experiment_index]])\n",
    "                    output = np.vstack([np.pad(x, (0, max_len - len(x)), 'constant') for x in experiments[experiment_index]])\n",
    "                    experiments[experiment_index] = np.sum(output, axis=0)\n",
    "                elif transformation == \"mean_0_axis\":\n",
    "                    max_len = max([len(x) for x in experiments[experiment_index]])\n",
    "                    output = np.vstack([np.pad(x.astype(float), (0, max_len - len(x)), 'constant', constant_values=np.nan) for x in experiments[experiment_index]])\n",
    "                    experiments[experiment_index] = np.nanmean(output, axis=0)\n",
    "                elif transformation == \"max_0_axis\":\n",
    "                    max_len = max([len(x) for x in experiments[experiment_index]])\n",
    "                    output = np.vstack([np.pad(x, (0, max_len - len(x)), 'constant') for x in experiments[experiment_index]])\n",
    "                    experiments[experiment_index] = np.max(output, axis=0)\n",
    "        return self\n",
    "    \n",
    "    def transform_experiment(self, transformation):\n",
    "        \"\"\" Apply transformation to all experiments \"\"\"\n",
    "        for key, experiments in self.output.items():\n",
    "            if callable(transformation):\n",
    "                self.output[key] = transformation(experiments)\n",
    "            elif transformation == \"mean_0_axis\":\n",
    "                max_len = max([len(x) for x in experiments])\n",
    "                output = np.vstack([np.pad(x.astype(float), (0, max_len - len(x)), 'constant', constant_values=np.nan) for x in experiments])\n",
    "                self.output[key] = np.nanmean(output, axis=0)\n",
    "            elif transformation == \"max_0_axis\":\n",
    "                max_len = max([len(x) for x in experiments])\n",
    "                output = np.vstack([np.pad(x, (0, max_len - len(x)), 'constant') for x in experiments])\n",
    "                self.output[key] = np.max(output, axis=0)\n",
    "        return self\n",
    "    \n",
    "    def get_mean_throughput(self):\n",
    "        \"\"\" Get Mean Throughput \"\"\"\n",
    "        self.transform_metrics(\"trim_zeros\")\n",
    "        self.transform_subtasks(\"sum_0_axis\")\n",
    "        self.transform_subtasks(lambda x: np.array([x.mean()]))\n",
    "        return self.transform_experiment(\"mean_0_axis\").transform_experiment(lambda a: a[0])\n",
    "    \n",
    "    def get_max_throughput(self):\n",
    "        \"\"\" Get Max Throughput \"\"\"\n",
    "        self.transform_metrics(\"trim_zeros\")\n",
    "        self.transform_subtasks(\"sum_0_axis\")\n",
    "        self.transform_subtasks(lambda x: np.array([x.max()]))\n",
    "        return self.transform_experiment(\"mean_0_axis\").transform_experiment(lambda a: a[0])\n",
    "        \n",
    "    def get_communication_volume(self):\n",
    "        \"\"\" Get Communication volume \"\"\"\n",
    "        self.transform_metrics(\"max\").transform_metrics(\"expand_dim\")\n",
    "        self.transform_subtasks(\"sum_0_axis\")\n",
    "        return self.transform_experiment(\"mean_0_axis\").transform_experiment(lambda a: a[0])\n",
    "    \n",
    "    def get_replication_factor(self):\n",
    "        \"\"\" Get Partitioner Replication Factor \"\"\"\n",
    "        self.transform_metrics(lambda x: np.array([x[-1]]))\n",
    "        self.transform_subtasks(\"sum_0_axis\")\n",
    "        self.transform_experiment(\"mean_0_axis\")\n",
    "        return self\n",
    "    \n",
    "    def get_runtime(self):\n",
    "        \"\"\" Get runtime of this operator \"\"\"\n",
    "        self.transform_metrics(\"trim_zeros_back\")\n",
    "        self.transform_metrics(lambda x: np.array([x.shape[0]]))\n",
    "        self.transform_subtasks(\"max_0_axis\")\n",
    "        self.transform_experiment(\"mean_0_axis\")\n",
    "        return self\n",
    "    \n",
    "    \n",
    "    def get_accuracy(self):\n",
    "        \"\"\" Get runtime of this operator \"\"\"\n",
    "        self.transform_metrics(\"trim_zeros_back\")\n",
    "        self.transform_metrics(\"trim_zeros_front\")\n",
    "        self.transform_subtasks(\"mean_0_axis\")\n",
    "        self.transform_experiment(\"mean_0_axis\")\n",
    "        return self "
   ]
  },
  {
   "cell_type": "markdown",
   "id": "310289e8-66df-4bec-bce8-598a3aae3a72",
   "metadata": {
    "tags": []
   },
   "source": [
    "## Process Folder"
   ]
  },
  {
   "cell_type": "code",
   "execution_count": 29,
   "id": "343c002e-f9c4-4d45-b0c2-528ab1668955",
   "metadata": {
    "collapsed": true,
    "jupyter": {
     "outputs_hidden": true,
     "source_hidden": true
    },
    "tags": []
   },
   "outputs": [
    {
     "ename": "FileNotFoundError",
     "evalue": "[Errno 2] No such file or directory: '../../metrics/AskUbuntu Graph HyperGraph Tests/ask-ubuntu-graph-random-v2n-session-50ms'",
     "output_type": "error",
     "traceback": [
      "\u001b[0;31m---------------------------------------------------------------------------\u001b[0m",
      "\u001b[0;31mFileNotFoundError\u001b[0m                         Traceback (most recent call last)",
      "Input \u001b[0;32mIn [29]\u001b[0m, in \u001b[0;36m<cell line: 3>\u001b[0;34m()\u001b[0m\n\u001b[1;32m      1\u001b[0m fig, ax \u001b[38;5;241m=\u001b[39m plt\u001b[38;5;241m.\u001b[39msubplots(\u001b[38;5;241m3\u001b[39m,\u001b[38;5;241m2\u001b[39m, figsize\u001b[38;5;241m=\u001b[39m(\u001b[38;5;241m12\u001b[39m,\u001b[38;5;241m12\u001b[39m), gridspec_kw\u001b[38;5;241m=\u001b[39m{\u001b[38;5;124m\"\u001b[39m\u001b[38;5;124mhspace\u001b[39m\u001b[38;5;124m\"\u001b[39m:\u001b[38;5;241m0.6\u001b[39m})\n\u001b[0;32m----> 3\u001b[0m random_graph_runtime \u001b[38;5;241m=\u001b[39m \u001b[43mMetricStatistics\u001b[49m\u001b[43m(\u001b[49m\u001b[43mentry_folder_name\u001b[49m\u001b[38;5;241;43m=\u001b[39;49m\u001b[38;5;124;43m\"\u001b[39;49m\u001b[38;5;124;43m../../metrics/AskUbuntu Graph HyperGraph Tests/ask-ubuntu-graph-random-v2n-session-50ms\u001b[39;49m\u001b[38;5;124;43m\"\u001b[39;49m\u001b[43m,\u001b[49m\u001b[43m \u001b[49m\u001b[43moperator_name\u001b[49m\u001b[38;5;241;43m=\u001b[39;49m\u001b[38;5;124;43m\"\u001b[39;49m\u001b[38;5;124;43mGNN Operator - 2\u001b[39;49m\u001b[38;5;124;43m\"\u001b[39;49m\u001b[43m,\u001b[49m\u001b[43m \u001b[49m\u001b[43mmetric_name\u001b[49m\u001b[38;5;241;43m=\u001b[39;49m\u001b[38;5;124;43m\"\u001b[39;49m\u001b[38;5;124;43mnumRecordsOutPerSecond\u001b[39;49m\u001b[38;5;124;43m\"\u001b[39;49m\u001b[43m)\u001b[49m\u001b[38;5;241m.\u001b[39mget_runtime()\n\u001b[1;32m      4\u001b[0m random_hypergraph_runtime \u001b[38;5;241m=\u001b[39m MetricStatistics(entry_folder_name\u001b[38;5;241m=\u001b[39m\u001b[38;5;124m\"\u001b[39m\u001b[38;5;124m../../metrics/AskUbuntu Graph HyperGraph Tests/ask-ubuntu-hypergraph-random-session-50ms\u001b[39m\u001b[38;5;124m\"\u001b[39m, operator_name\u001b[38;5;241m=\u001b[39m\u001b[38;5;124m\"\u001b[39m\u001b[38;5;124mGNN Operator - 2\u001b[39m\u001b[38;5;124m\"\u001b[39m, metric_name\u001b[38;5;241m=\u001b[39m\u001b[38;5;124m\"\u001b[39m\u001b[38;5;124mnumRecordsOutPerSecond\u001b[39m\u001b[38;5;124m\"\u001b[39m)\u001b[38;5;241m.\u001b[39mget_runtime()\n\u001b[1;32m      5\u001b[0m vertex_to_net_hdrf_graph_runtime \u001b[38;5;241m=\u001b[39m MetricStatistics(entry_folder_name\u001b[38;5;241m=\u001b[39m\u001b[38;5;124m\"\u001b[39m\u001b[38;5;124m../../metrics/AskUbuntu Graph HyperGraph Tests/ask-ubuntu-graph-hdrf-v2n-session-50ms\u001b[39m\u001b[38;5;124m\"\u001b[39m, operator_name\u001b[38;5;241m=\u001b[39m\u001b[38;5;124m\"\u001b[39m\u001b[38;5;124mGNN Operator - 2\u001b[39m\u001b[38;5;124m\"\u001b[39m, metric_name\u001b[38;5;241m=\u001b[39m\u001b[38;5;124m\"\u001b[39m\u001b[38;5;124mnumRecordsOutPerSecond\u001b[39m\u001b[38;5;124m\"\u001b[39m)\u001b[38;5;241m.\u001b[39mget_runtime()\n",
      "Input \u001b[0;32mIn [28]\u001b[0m, in \u001b[0;36mMetricStatistics.__init__\u001b[0;34m(self, entry_folder_name, operator_name, metric_name, is_lambda)\u001b[0m\n\u001b[1;32m      3\u001b[0m \u001b[38;5;124;03m\"\"\" \u001b[39;00m\n\u001b[1;32m      4\u001b[0m \u001b[38;5;124;03mFolders are organized as follows:\u001b[39;00m\n\u001b[1;32m      5\u001b[0m \u001b[38;5;124;03mentry_folder -> run -> operator_name -> metric_name -> subtask_index[digit]\u001b[39;00m\n\u001b[1;32m      6\u001b[0m \u001b[38;5;124;03mOutput is as follows:\u001b[39;00m\n\u001b[1;32m      7\u001b[0m \u001b[38;5;124;03mparallelism -> experiments[] -> subtask[] -> metric_values[]\u001b[39;00m\n\u001b[1;32m      8\u001b[0m \u001b[38;5;124;03m\"\"\"\u001b[39;00m\n\u001b[1;32m      9\u001b[0m \u001b[38;5;28mself\u001b[39m\u001b[38;5;241m.\u001b[39moutput \u001b[38;5;241m=\u001b[39m defaultdict(\u001b[38;5;28mlist\u001b[39m)\n\u001b[0;32m---> 10\u001b[0m \u001b[38;5;28;01mfor\u001b[39;00m run \u001b[38;5;129;01min\u001b[39;00m \u001b[43mos\u001b[49m\u001b[38;5;241;43m.\u001b[39;49m\u001b[43mlistdir\u001b[49m\u001b[43m(\u001b[49m\u001b[43mentry_folder_name\u001b[49m\u001b[43m)\u001b[49m:\n\u001b[1;32m     11\u001b[0m     \u001b[38;5;28;01mif\u001b[39;00m \u001b[38;5;129;01mnot\u001b[39;00m os\u001b[38;5;241m.\u001b[39mpath\u001b[38;5;241m.\u001b[39misdir(os\u001b[38;5;241m.\u001b[39mpath\u001b[38;5;241m.\u001b[39mjoin(entry_folder_name, run)):\n\u001b[1;32m     12\u001b[0m         \u001b[38;5;28;01mcontinue\u001b[39;00m\n",
      "\u001b[0;31mFileNotFoundError\u001b[0m: [Errno 2] No such file or directory: '../../metrics/AskUbuntu Graph HyperGraph Tests/ask-ubuntu-graph-random-v2n-session-50ms'"
     ]
    },
    {
     "data": {
      "image/png": "[encoded data removed]",
      "text/plain": [
       "<Figure size 864x864 with 6 Axes>"
      ]
     },
     "metadata": {
      "needs_background": "light"
     },
     "output_type": "display_data"
    }
   ],
   "source": [
    "fig, ax = plt.subplots(3,2, figsize=(12,12), gridspec_kw={\"hspace\":0.6})\n",
    "\n",
    "random_graph_runtime = MetricStatistics(entry_folder_name=\"../../metrics/AskUbuntu Graph HyperGraph Tests/ask-ubuntu-graph-random-v2n-session-50ms\", operator_name=\"GNN Operator - 2\", metric_name=\"numRecordsOutPerSecond\").get_runtime()\n",
    "random_hypergraph_runtime = MetricStatistics(entry_folder_name=\"../../metrics/AskUbuntu Graph HyperGraph Tests/ask-ubuntu-hypergraph-random-session-50ms\", operator_name=\"GNN Operator - 2\", metric_name=\"numRecordsOutPerSecond\").get_runtime()\n",
    "vertex_to_net_hdrf_graph_runtime = MetricStatistics(entry_folder_name=\"../../metrics/AskUbuntu Graph HyperGraph Tests/ask-ubuntu-graph-hdrf-v2n-session-50ms\", operator_name=\"GNN Operator - 2\", metric_name=\"numRecordsOutPerSecond\").get_runtime()\n",
    "net_to_vertex_hdrf_graph_runtime = MetricStatistics(entry_folder_name=\"../../metrics/AskUbuntu Graph HyperGraph Tests/ask-ubuntu-graph-hdrf-n2v-session-50ms\", operator_name=\"GNN Operator - 2\", metric_name=\"numRecordsOutPerSecond\").get_runtime()\n",
    "minmax_hypergraph_runtime = MetricStatistics(entry_folder_name=\"../../metrics/AskUbuntu Graph HyperGraph Tests/ask-ubuntu-hypergraph-minmax-session-50ms\", operator_name=\"GNN Operator - 2\", metric_name=\"numRecordsOutPerSecond\").get_runtime()\n",
    "plot_aggregated_dict(\"Runtime(minutes)\", [random_graph_runtime.output, random_hypergraph_runtime.output, vertex_to_net_hdrf_graph_runtime.output, net_to_vertex_hdrf_graph_runtime.output, minmax_hypergraph_runtime.output], \n",
    "                     [\"GNN(Random)\",\"HGNN(Random)\",\"GNN(HDRF + V2N)\", \"GNN(HDRF + N2V)\", \"HGNN(MinMax)\"], [\"o\", \"+\", \"+\",\"+\",\"+\" ], [\"-\", \"--\", \"-\",\"-\",\"--\"], [None, None, None, None, None], xlabel=\"# Machines\", formatter=sec_to_min, pre_fig=(fig,ax[0][0]))\n",
    "\n",
    "\n",
    "random_graph_rf = MetricStatistics(entry_folder_name=\"../../metrics/AskUbuntu Graph HyperGraph Tests/ask-ubuntu-graph-random-v2n-session-50ms\", operator_name=\"Random Partitioner\", metric_name=\"Replication Factor\").get_replication_factor()\n",
    "random_hypergraph_rf = MetricStatistics(entry_folder_name=\"../../metrics/AskUbuntu Graph HyperGraph Tests/ask-ubuntu-hypergraph-random-session-50ms\", operator_name=\"Random Partitioner\", metric_name=\"Replication Factor\").get_replication_factor()\n",
    "vertex_to_net_hdrf_graph_rf = MetricStatistics(entry_folder_name=\"../../metrics/AskUbuntu Graph HyperGraph Tests/ask-ubuntu-graph-hdrf-v2n-session-50ms\", operator_name=\"HDRF[l=4.0,eps=1.0,threads=1]\", metric_name=\"Replication Factor\").get_replication_factor()\n",
    "net_to_vertex_hdrf_graph_rf = MetricStatistics(entry_folder_name=\"../../metrics/AskUbuntu Graph HyperGraph Tests/ask-ubuntu-graph-hdrf-n2v-session-50ms\", operator_name=\"HDRF[l=4.0,eps=1.0,threads=1]\", metric_name=\"Replication Factor\").get_replication_factor()\n",
    "minmax_hypergraph_rf = MetricStatistics(entry_folder_name=\"../../metrics/AskUbuntu Graph HyperGraph Tests/ask-ubuntu-hypergraph-minmax-session-50ms\", operator_name=\"HyperGraphMinMax\", metric_name=\"Replication Factor\").get_replication_factor()\n",
    "plot_aggregated_dict(\"Replication Factor\", [random_graph_rf.output, random_hypergraph_rf.output, vertex_to_net_hdrf_graph_rf.output, net_to_vertex_hdrf_graph_rf.output, minmax_hypergraph_rf.output], \n",
    "                     [\"GNN(Random)\",\"HGNN(Random)\",\"GNN(HDRF + V2N)\", \"GNN(HDRF + N2V)\", \"HGNN(MinMax)\"], [\"o\", \"+\", \"+\",\"+\",\"+\" ], [\"-\", \"--\", \"-\",\"-\",\"--\"], [None, None, None, None, None], xlabel=\"# Machines\", formatter=fmt_div_e5, pre_fig=(fig,ax[0][1]))\n",
    "\n",
    "\n",
    "random_graph_maxthr = MetricStatistics(entry_folder_name=\"../../metrics/AskUbuntu Graph HyperGraph Tests/ask-ubuntu-graph-random-v2n-session-50ms\", metric_name=\"throughput\").get_max_throughput()\n",
    "random_hypergraph_maxthr = MetricStatistics(entry_folder_name=\"../../metrics/AskUbuntu Graph HyperGraph Tests/ask-ubuntu-hypergraph-random-session-50ms\", metric_name=\"throughput\").get_max_throughput()\n",
    "vertex_to_net_hdrf_graph_maxthr = MetricStatistics(entry_folder_name=\"../../metrics/AskUbuntu Graph HyperGraph Tests/ask-ubuntu-graph-hdrf-v2n-session-50ms\",  metric_name=\"throughput\").get_max_throughput()\n",
    "net_to_vertex_hdrf_graph_maxthr = MetricStatistics(entry_folder_name=\"../../metrics/AskUbuntu Graph HyperGraph Tests/ask-ubuntu-graph-hdrf-n2v-session-50ms\", metric_name=\"throughput\").get_max_throughput()\n",
    "minmax_hypergraph_maxthr = MetricStatistics(entry_folder_name=\"../../metrics/AskUbuntu Graph HyperGraph Tests/ask-ubuntu-hypergraph-minmax-session-50ms\", metric_name=\"throughput\").get_max_throughput()\n",
    "plot_aggregated_dict(\"Max Throughput\", [random_graph_maxthr.output, random_hypergraph_maxthr.output, vertex_to_net_hdrf_graph_maxthr.output, net_to_vertex_hdrf_graph_maxthr.output, minmax_hypergraph_maxthr.output], \n",
    "                     [\"GNN(Random)\",\"HGNN(Random)\",\"GNN(HDRF + V2N)\", \"GNN(HDRF + N2V)\", \"HGNN(MinMax)\"], [\"o\", \"+\", \"+\",\"+\",\"+\" ], [\"-\", \"--\", \"-\",\"-\",\"--\"], [None, None, None, None, None], xlabel=\"# Machines\", formatter=fmt_div_e5, pre_fig=(fig,ax[1][0]))\n",
    "\n",
    "random_graph_meanthr = MetricStatistics(entry_folder_name=\"../../metrics/AskUbuntu Graph HyperGraph Tests/ask-ubuntu-graph-random-v2n-session-50ms\", metric_name=\"throughput\").get_mean_throughput()\n",
    "random_hypergraph_meanthr = MetricStatistics(entry_folder_name=\"../../metrics/AskUbuntu Graph HyperGraph Tests/ask-ubuntu-hypergraph-random-session-50ms\", metric_name=\"throughput\").get_mean_throughput()\n",
    "vertex_to_net_hdrf_graph_meanthr = MetricStatistics(entry_folder_name=\"../../metrics/AskUbuntu Graph HyperGraph Tests/ask-ubuntu-graph-hdrf-v2n-session-50ms\",  metric_name=\"throughput\").get_mean_throughput()\n",
    "net_to_vertex_hdrf_graph_meanthr = MetricStatistics(entry_folder_name=\"../../metrics/AskUbuntu Graph HyperGraph Tests/ask-ubuntu-graph-hdrf-n2v-session-50ms\", metric_name=\"throughput\").get_mean_throughput()\n",
    "minmax_hypergraph_meanthr = MetricStatistics(entry_folder_name=\"../../metrics/AskUbuntu Graph HyperGraph Tests/ask-ubuntu-hypergraph-minmax-session-50ms\", metric_name=\"throughput\").get_mean_throughput()\n",
    "plot_aggregated_dict(\"Mean Throughput\", [random_graph_meanthr.output, random_hypergraph_meanthr.output, vertex_to_net_hdrf_graph_meanthr.output, net_to_vertex_hdrf_graph_meanthr.output, minmax_hypergraph_meanthr.output], \n",
    "                     [\"GNN(Random)\",\"HGNN(Random)\",\"GNN(HDRF + V2N)\", \"GNN(HDRF + N2V)\", \"HGNN(MinMax)\"], [\"o\", \"+\", \"+\",\"+\",\"+\" ], [\"-\", \"--\", \"-\",\"-\",\"--\"], [None, None, None, None, None], xlabel=\"# Machines\", formatter=fmt_div_e5, pre_fig=(fig,ax[1][1]))\n",
    "\n",
    "\n",
    "random_graph_meanthr = MetricStatistics(entry_folder_name=\"../../metrics/AskUbuntu Graph HyperGraph Tests/ask-ubuntu-graph-random-v2n-session-50ms\",operator_name=\"GNN Operator - 1\", metric_name=\"numRecordsOut\").get_communication_volume()\n",
    "random_hypergraph_meanthr = MetricStatistics(entry_folder_name=\"../../metrics/AskUbuntu Graph HyperGraph Tests/ask-ubuntu-hypergraph-random-session-50ms\",operator_name=\"GNN Operator - 1\", metric_name=\"numRecordsOut\").get_communication_volume()\n",
    "vertex_to_net_hdrf_graph_meanthr = MetricStatistics(entry_folder_name=\"../../metrics/AskUbuntu Graph HyperGraph Tests/ask-ubuntu-graph-hdrf-v2n-session-50ms\",operator_name=\"GNN Operator - 1\",  metric_name=\"numRecordsOut\").get_communication_volume()\n",
    "net_to_vertex_hdrf_graph_meanthr = MetricStatistics(entry_folder_name=\"../../metrics/AskUbuntu Graph HyperGraph Tests/ask-ubuntu-graph-hdrf-n2v-session-50ms\",operator_name=\"GNN Operator - 1\", metric_name=\"numRecordsOut\").get_communication_volume()\n",
    "minmax_hypergraph_meanthr = MetricStatistics(entry_folder_name=\"../../metrics/AskUbuntu Graph HyperGraph Tests/ask-ubuntu-hypergraph-minmax-session-50ms\",operator_name=\"GNN Operator - 1\", metric_name=\"numRecordsOut\").get_communication_volume()\n",
    "plot_aggregated_dict(\"Communication Vol(1)\", [random_graph_meanthr.output, random_hypergraph_meanthr.output, vertex_to_net_hdrf_graph_meanthr.output, net_to_vertex_hdrf_graph_meanthr.output, minmax_hypergraph_meanthr.output], \n",
    "                     [\"GNN(Random)\",\"HGNN(Random)\",\"GNN(HDRF + V2N)\", \"GNN(HDRF + N2V)\", \"HGNN(MinMax)\"], [\"o\", \"+\", \"+\",\"+\",\"+\" ], [\"-\", \"--\", \"-\",\"-\",\"--\"], [None, None, None, None, None], xlabel=\"# Machines\", formatter=fmt_div_e5, pre_fig=(fig,ax[2][0]))\n",
    "\n",
    "random_graph_meanthr = MetricStatistics(entry_folder_name=\"../../metrics/AskUbuntu Graph HyperGraph Tests/ask-ubuntu-graph-random-v2n-session-50ms\", metric_name=\"numRecordsOut\").get_communication_volume()\n",
    "random_hypergraph_meanthr = MetricStatistics(entry_folder_name=\"../../metrics/AskUbuntu Graph HyperGraph Tests/ask-ubuntu-hypergraph-random-session-50ms\", metric_name=\"numRecordsOut\").get_communication_volume()\n",
    "vertex_to_net_hdrf_graph_meanthr = MetricStatistics(entry_folder_name=\"../../metrics/AskUbuntu Graph HyperGraph Tests/ask-ubuntu-graph-hdrf-v2n-session-50ms\",  metric_name=\"numRecordsOut\").get_communication_volume()\n",
    "net_to_vertex_hdrf_graph_meanthr = MetricStatistics(entry_folder_name=\"../../metrics/AskUbuntu Graph HyperGraph Tests/ask-ubuntu-graph-hdrf-n2v-session-50ms\", metric_name=\"numRecordsOut\").get_communication_volume()\n",
    "minmax_hypergraph_meanthr = MetricStatistics(entry_folder_name=\"../../metrics/AskUbuntu Graph HyperGraph Tests/ask-ubuntu-hypergraph-minmax-session-50ms\", metric_name=\"numRecordsOut\").get_communication_volume()\n",
    "plot_aggregated_dict(\"Communication Vol(2)\", [random_graph_meanthr.output, random_hypergraph_meanthr.output, vertex_to_net_hdrf_graph_meanthr.output, net_to_vertex_hdrf_graph_meanthr.output, minmax_hypergraph_meanthr.output], \n",
    "                     [\"GNN(Random)\",\"HGNN(Random)\",\"GNN(HDRF + V2N)\", \"GNN(HDRF + N2V)\", \"HGNN(MinMax)\"], [\"o\", \"+\", \"+\",\"+\",\"+\" ], [\"-\", \"--\", \"-\",\"-\",\"--\"], [None, None, None, None, None], xlabel=\"# Machines\", formatter=fmt_div_e5, pre_fig=(fig,ax[2][1]))\n",
    "\n",
    "\n",
    "# volume1_1 = MetricStatistics(entry_folder_name=\"../../jupyter/metrics/star_expansion_window-50/\", operator_name=\"GNN Operator - 1\", metric_name=\"numRecordsOut\").get_communication_volume()\n",
    "# volume1_2 = MetricStatistics(entry_folder_name=\"../../jupyter/metrics/hypergraph_window-50/\", operator_name=\"GNN Operator - 1\", metric_name=\"numRecordsOut\").get_communication_volume()\n",
    "# plot_aggregated_dict(\"1-layer comm\", [volume1_1.output, volume1_2.output],[\"GNN\",\"HGNN\"], [\"o\", \"+\" ], [\"-\", \"--\"], [None, None], xlabel=\"# Machines\", formatter=fmt_div_e5, pre_fig=(fig,ax[2][0]))\n",
    "\n",
    "# volume2_1 = MetricStatistics(entry_folder_name=\"../../jupyter/metrics/star_expansion_window-50/\", metric_name=\"numRecordsOut\").get_communication_volume()\n",
    "# volume2_2 = MetricStatistics(entry_folder_name=\"../../jupyter/metrics/hypergraph_window-50/\", metric_name=\"numRecordsOut\").get_communication_volume()\n",
    "# plot_aggregated_dict(\"2-layer comm\", [volume2_1.output, volume2_2.output],[\"GNN\",\"HGNN\"], [\"o\", \"+\" ], [\"-\", \"--\"], [None, None], xlabel=\"# Machines\", formatter=fmt_div_e5, pre_fig=(fig,ax[2][1]))\n",
    "\n",
    "\n",
    "fig.legend(ax[0][0].get_legend_handles_labels()[1])"
   ]
  },
  {
   "cell_type": "markdown",
   "id": "36e08fe9-e465-4ac5-ad9c-a10f6a5c8934",
   "metadata": {},
   "source": [
    "## OGB_Accuracy"
   ]
  },
  {
   "cell_type": "code",
   "execution_count": 82,
   "id": "838b3f10-bbf0-4e29-99cd-b45aca019cb6",
   "metadata": {
    "tags": []
   },
   "outputs": [],
   "source": [
    "random_graph_runtime = MetricStatistics(entry_folder_name=\"../../metrics/ogb-products/\", operator_name=\"GNN Operator - 3\", metric_name=\"accuracy\").get_accuracy()"
   ]
  },
  {
   "cell_type": "code",
   "execution_count": 89,
   "id": "4dc4a747-da17-4550-a746-ecd46a955694",
   "metadata": {},
   "outputs": [
    {
     "data": {
      "image/png": "[encoded data removed]",
      "text/plain": [
       "<Figure size 864x432 with 1 Axes>"
      ]
     },
     "metadata": {
      "needs_background": "light"
     },
     "output_type": "display_data"
    }
   ],
   "source": [
    "fig, ax = plt.subplots(figsize=(12,6))\n",
    "ax.yaxis.set_major_formatter(fmt_div_e3)\n",
    "ax.set_title(\"Accuracy over dynamic graph\")\n",
    "ax.set_ylabel(\"Accuracy\")\n",
    "ax.set_xlabel(\"Runtime is seconds\")\n",
    "plt.plot(np.arange(0, random_graph_runtime.output[57].shape[0]),random_graph_runtime.output[57])\n",
    "plt.savefig(\"accuracy\")"
   ]
  },
  {
   "cell_type": "code",
   "execution_count": 79,
   "id": "23da2a69-8196-474e-8e8b-4268325941ed",
   "metadata": {},
   "outputs": [],
   "source": [
    "random_graph_runtime = MetricStatistics(entry_folder_name=\"../../metrics/ogb-products/\", operator_name=\"Parser OGB-Products\", metric_name=\"numRecordsOut\").transform_subtasks(\"sum_0_axis\").transform_experiment(\"mean_0_axis\")"
   ]
  },
  {
   "cell_type": "code",
   "execution_count": 80,
   "id": "a5574183-de3f-4b01-9a1e-a8f0aed0fe03",
   "metadata": {},
   "outputs": [
    {
     "data": {
      "text/plain": [
       "(array([   67,    68,    69,    70,    71,    72,    73,    74,    75,    76,    77,    78,    79,    80,    81,    82,    83,    84,    85,    86,    87,    88,    89,    90,    91,    92,    93,    94,    95,    96,    97,    98,    99,   100,   101,   102,   103,   104,   105,   106,   107,   108,   109,   110,   111,   112,   113,   114,   115,   116,   117,   118,   119,   120,   121,   122,   123,   124,   125,   126,   127,   128,   129,   130,   131,   132,   133,   134,   135,   136,   137,   138,   139,   140,   141,   142,   143,   144,   145,   146,   147,   148,   149,   150,   151,   152,   153,   154,   155,   156,   157,   158,   159,   160,   161,   162,   163,   164,   165,   166,   167,   168,   169,   170,   171,   172,   173,   174,   175,   176,   177,   178,   179,   180,   181,   182,   183,   184,   185,   186,   187,   188,   189,   190,   191,   192,   193,   194,   195,   196,   197,   198,   199,   200,   201,   202,   203,   204,   205,   206,   207,   208,   209,   210,   211,   212,   213,   214,   215,   216,   217,   218,   219,   220,   221,   222,   223,   224,   225,   226,   227,   228,   229,   230,   231,   232,   233,   234,   235,   236,   237,   238,   239,   240,   241,   242,   243,   244,   245,   246,   247,   248,   249,   250,   251,   252,   253,   254,   255,   256,   257,   258,   259,   260,   261,   262,   263,   264,   265,   266,   267,   268,   269,   270,   271,   272,   273,   274,   275,   276,   277,   278,   279,   280,   281,   282,   283,   284,   285,   286,   287,   288,   289,   290,   291,   292,   293,   294,   295,   296,   297,   298,   299,   300,   301,   302,   303,   304,   305,   306,   307,   308,   309,   310,   311,   312,   313,   314,   315,   316,   317,   318,   319,   320,   321,   322,   323,   324,   325,   326,   327,   328,   329,   330,   331,   332,   333,   334,   335,   336,   337,   338,   339,   340,   341,   342,   343,   344,   345,   346,   347,   348,   349,   350,   351,   352,   353,   354,   355,   356,   357,   358,   359,   360,   361,   362,   363,   364,   365,   366,   367,   368,   369,   370,   371,   372,   373,   374,   375,   376,   377,   378,   379,   380,   381,   382,   383,   384,   385,   386,   387,   388,   389,   390,   391,   392,   393,   394,   395,   396,   397,   398,   399,   400,   401,   402,   403,   404,   405,   406,   407,   408,   409,   410,   411,   412,   413,   414,   415,   416,   417,   418,   419,   420,   421,   422,   423,   424,   425,   426,   427,   428,   429,   430,   431,   432,   433,   434,   435,   436,   437,   438,   439,   440,   441,   442,   443,   444,   445,   446,   447,   448,   449,   450,   451,   452,   453,   454,   455,   456,   457,   458,   459,   460,   461,   462,   463,   464,   465,   466,   467,   468,   469,   470,   471,   472,   473,   474,   475,   476,   477,   478,   479,   480,   481,   482,   483,   484,   485,   486,   487,   488,   489,   490,   491,   492,   493,   494,   495,   496,   497,   498,   499,   500,   501,   502,   503,   504,   505,   506,   507,   508,   509,   510,   511,   512,   513,   514,   515,   516,   517,   518,   519,   520,   521,   522,   523,   524,   525,   526,   527,   528,   529,   530,   531,   532,   533,   534,   535,   536,   537,   538,   539,   540,   541,   542,   543,   544,   545,   546,   547,   548,   549,   550,   551,   552,   553,   554,   555,   556,   557,   558,   559,   560,   561,   562,   563,   564,   565,   566,   567,   568,   569,   570,   571,   572,   573,   574,   575,   576,   577,   578,   579,   580,   581,   582,   583,   584,   585,   586,   587,   588,   589,   590,   591,   592,   593,   594,   595,   596,   597,   598,   599,   600,   601,   602,   603,   604,   605,   606,   607,   608,   609,   610,   611,   612,   613,   614,   615,   616,   617,   618,   619,   620,   621,   622,   623,   624,   625,   626,   627,   628,   629,   630,   631,   632,   633,   634,   635,   636,   637,   638,   639,   640,   641,   642,   643,   644,   645,   646,   647,   648,   649,   650,   651,   652,   653,   654,   655,   656,   657,   658,   659,   660,   661,   662,   663,   664,   665,   666,   667,   668,   669,   670,   671,   672,   673,   674,   675,   676,   677,   678,   679,   680,   681,   682,   683,   684,   685,   686,   687,   688,   689,   690,   691,   692,   693,   694,   695,   696,   697,   698,   699,   700,   701,   702,   703,   704,   705,   706,   707,   708,   709,   710,   711,   712,   713,   714,   715,   716,   717,   718,   719,   720,   721,   722,   723,   724,   725,   726,   727,   728,   729,   730,   731,   732,   733,   734,   735,   736,   737,   738,   739,   740,   741,   742,   743,   744,   745,   746,   747,   748,   749,   750,   751,   752,   753,   754,   755,   756,   757,   758,   759,   760,   761,   762,   763,   764,   765,   766,   767,   768,   769,   770,   771,   772,   773,   774,   775,   776,   777,   778,   779,   780,   781,   782,   783,   784,   785,   786,   787,   788,   789,   790,   791,   792,   793,   794,   795,   796,   797,   798,   799,   800,   801,   802,   803,   804,   805,   806,   807,   808,   809,   810,   811,   812,   813,   814,   815,   816,   817,   818,   819,   820,   821,   822,   823,   824,   825,   826,   827,   828,   829,   830,   831,   832,   833,   834,   835,   836,   837,   838,   839,   840,   841,   842,   843,   844,   845,   846,   847,   848,   849,   850,   851,   852,   853,   854,   855,   856,   857,   858,   859,   860,   861,   862,   863,   864,   865,   866,   867,   868,   869,   870,   871,   872,   873,   874,   875,   876,   877,   878,   879,   880,   881,   882,   883,   884,   885,   886,   887,   888,   889,   890,   891,   892,   893,   894,   895,   896,   897,   898,   899,   900,   901,   902,   903,   904,   905,   906,   907,   908,   909,   910,   911,   912,   913,   914,   915,   916,   917,   918,   919,   920,   921,   922,   923,   924,   925,   926,   927,   928,   929,   930,   931,   932,   933,   934,   935,   936,   937,   938,   939,   940,   941,   942,   943,   944,   945,   946,   947,   948,   949,   950,   951,   952,   953,   954,   955,   956,   957,   958,   959,   960,   961,   962,   963,   964,   965,   966,   967,   968,   969,   970,   971,   972,   973,   974,   975,   976,   977,   978,   979,   980,   981,   982,   983,   984,   985,   986,   987,   988,   989,   990,   991,   992,   993,   994,   995,   996,   997,   998,   999,  1000,  1001,  1002,  1003,  1004,  1005,  1006,  1007,  1008,  1009,  1010,  1011,  1012,  1013,  1014,  1015,  1016,  1017,  1018,  1019,  1020,  1021,  1022,  1023,  1024,  1025,  1026,  1027,  1028,  1029,  1030,  1031,  1032,  1033,  1034,  1035,  1036,  1037,  1038,  1039,  1040,  1041,  1042,  1043,  1044,  1045,  1046,  1047,  1048,  1049,  1050,  1051,  1052,  1053,  1054,  1055,  1056,  1057,  1058,  1059,  1060,  1061,  1062,  1063,  1064,  1065,  1066, ..., 14227, 14228, 14229, 14230, 14231, 14232, 14233, 14234, 14235, 14236, 14237, 14238, 14239, 14240, 14241, 14242, 14243, 14244, 14245, 14246, 14247, 14248, 14249, 14250, 14251, 14252, 14253, 14254, 14255, 14256, 14257, 14258, 14259, 14260, 14261, 14262, 14263, 14264, 14265, 14266, 14267, 14268, 14269, 14270, 14271, 14272, 14273, 14274, 14275, 14276, 14277, 14278, 14279, 14280, 14281, 14282, 14283, 14284, 14285, 14286, 14287, 14288, 14289, 14290, 14291, 14292, 14293, 14294, 14295, 14296, 14297, 14298, 14299, 14300, 14301, 14302, 14303, 14304, 14305, 14306, 14307, 14308, 14309, 14310, 14311, 14312, 14313, 14314, 14315, 14316, 14317, 14318, 14319, 14320, 14321, 14322, 14323, 14324, 14325, 14326, 14327, 14328, 14329, 14330, 14331, 14332, 14333, 14334, 14335, 14336, 14337, 14338, 14339, 14340, 14341, 14342, 14343, 14344, 14345, 14346, 14347, 14348, 14349, 14350, 14351, 14352, 14353, 14354, 14355, 14356, 14357, 14358, 14359, 14360, 14361, 14362, 14363, 14364, 14365, 14366, 14367, 14368, 14369, 14370, 14371, 14372, 14373, 14374, 14375, 14376, 14377, 14378, 14379, 14380, 14381, 14382, 14383, 14384, 14385, 14386, 14387, 14388, 14389, 14390, 14391, 14392, 14393, 14394, 14395, 14396, 14397, 14398, 14399, 14400, 14401, 14402, 14403, 14404, 14405, 14406, 14407, 14408, 14409, 14410, 14411, 14412, 14413, 14414, 14415, 14416, 14417, 14418, 14419, 14420, 14421, 14422, 14423, 14424, 14425, 14426, 14427, 14428, 14429, 14430, 14431, 14432, 14433, 14434, 14435, 14436, 14437, 14438, 14439, 14440, 14441, 14442, 14443, 14444, 14445, 14446, 14447, 14448, 14449, 14450, 14451, 14452, 14453, 14454, 14455, 14456, 14457, 14458, 14459, 14460, 14461, 14462, 14463, 14464, 14465, 14466, 14467, 14468, 14469, 14470, 14471, 14472, 14473, 14474, 14475, 14476, 14477, 14478, 14479, 14480, 14481, 14482, 14483, 14484, 14485, 14486, 14487, 14488, 14489, 14490, 14491, 14492, 14493, 14494, 14495, 14496, 14497, 14498, 14499, 14500, 14501, 14502, 14503, 14504, 14505, 14506, 14507, 14508, 14509, 14510, 14511, 14512, 14513, 14514, 14515, 14516, 14517, 14518, 14519, 14520, 14521, 14522, 14523, 14524, 14525, 14526, 14527, 14528, 14529, 14530, 14531, 14532, 14533, 14534, 14535, 14536, 14537, 14538, 14539, 14540, 14541, 14542, 14543, 14544, 14545, 14546, 14547, 14548, 14549, 14550, 14551, 14552, 14553, 14554, 14555, 14556, 14557, 14558, 14559, 14560, 14561, 14562, 14563, 14564, 14565, 14566, 14567, 14568, 14569, 14570, 14571, 14572, 14573, 14574, 14575, 14576, 14577, 14578, 14579, 14580, 14581, 14582, 14583, 14584, 14585, 14586, 14587, 14588, 14589, 14590, 14591, 14592, 14593, 14594, 14595, 14596, 14597, 14598, 14599, 14600, 14601, 14602, 14603, 14604, 14605, 14606, 14607, 14608, 14609, 14610, 14611, 14612, 14613, 14614, 14615, 14616, 14617, 14618, 14619, 14620, 14621, 14622, 14623, 14624, 14625, 14626, 14627, 14628, 14629, 14630, 14631, 14632, 14633, 14634, 14635, 14636, 14637, 14638, 14639, 14640, 14641, 14642, 14643, 14644, 14645, 14646, 14647, 14648, 14649, 14650, 14651, 14652, 14653, 14654, 14655, 14656, 14657, 14658, 14659, 14660, 14661, 14662, 14663, 14664, 14665, 14666, 14667, 14668, 14669, 14670, 14671, 14672, 14673, 14674, 14675, 14676, 14677, 14678, 14679, 14680, 14681, 14682, 14683, 14684, 14685, 14686, 14687, 14688, 14689, 14690, 14691, 14692, 14693, 14694, 14695, 14696, 14697, 14698, 14699, 14700, 14701, 14702, 14703, 14704, 14705, 14706, 14707, 14708, 14709, 14710, 14711, 14712, 14713, 14714, 14715, 14716, 14717, 14718, 14719, 14720, 14721, 14722, 14723, 14724, 14725, 14726, 14727, 14728, 14729, 14730, 14731, 14732, 14733, 14734, 14735, 14736, 14737, 14738, 14739, 14740, 14741, 14742, 14743, 14744, 14745, 14746, 14747, 14748, 14749, 14750, 14751, 14752, 14753, 14754, 14755, 14756, 14757, 14758, 14759, 14760, 14761, 14762, 14763, 14764, 14765, 14766, 14767, 14768, 14769, 14770, 14771, 14772, 14773, 14774, 14775, 14776, 14777, 14778, 14779, 14780, 14781, 14782, 14783, 14784, 14785, 14786, 14787, 14788, 14789, 14790, 14791, 14792, 14793, 14794, 14795, 14796, 14797, 14798, 14799, 14800, 14801, 14802, 14803, 14804, 14805, 14806, 14807, 14808, 14809, 14810, 14811, 14812, 14813, 14814, 14815, 14816, 14817, 14818, 14819, 14820, 14821, 14822, 14823, 14824, 14825, 14826, 14827, 14828, 14829, 14830, 14831, 14832, 14833, 14834, 14835, 14836, 14837, 14838, 14839, 14840, 14841, 14842, 14843, 14844, 14845, 14846, 14847, 14848, 14849, 14850, 14851, 14852, 14853, 14854, 14855, 14856, 14857, 14858, 14859, 14860, 14861, 14862, 14863, 14864, 14865, 14866, 14867, 14868, 14869, 14870, 14871, 14872, 14873, 14874, 14875, 14876, 14877, 14878, 14879, 14880, 14881, 14882, 14883, 14884, 14885, 14886, 14887, 14888, 14889, 14890, 14891, 14892, 14893, 14894, 14895, 14896, 14897, 14898, 14899, 14900, 14901, 14902, 14903, 14904, 14905, 14906, 14907, 14908, 14909, 14910, 14911, 14912, 14913, 14914, 14915, 14916, 14917, 14918, 14919, 14920, 14921, 14922, 14923, 14924, 14925, 14926, 14927, 14928, 14929, 14930, 14931, 14932, 14933, 14934, 14935, 14936, 14937, 14938, 14939, 14940, 14941, 14942, 14943, 14944, 14945, 14946, 14947, 14948, 14949, 14950, 14951, 14952, 14953, 14954, 14955, 14956, 14957, 14958, 14959, 14960, 14961, 14962, 14963, 14964, 14965, 14966, 14967, 14968, 14969, 14970, 14971, 14972, 14973, 14974, 14975, 14976, 14977, 14978, 14979, 14980, 14981, 14982, 14983, 14984, 14985, 14986, 14987, 14988, 14989, 14990, 14991, 14992, 14993, 14994, 14995, 14996, 14997, 14998, 14999, 15000, 15001, 15002, 15003, 15004, 15005, 15006, 15007, 15008, 15009, 15010, 15011, 15012, 15013, 15014, 15015, 15016, 15017, 15018, 15019, 15020, 15021, 15022, 15023, 15024, 15025, 15026, 15027, 15028, 15029, 15030, 15031, 15032, 15033, 15034, 15035, 15036, 15037, 15038, 15039, 15040, 15041, 15042, 15043, 15044, 15045, 15046, 15047, 15048, 15049, 15050, 15051, 15052, 15053, 15054, 15055, 15056, 15057, 15058, 15059, 15060, 15061, 15062, 15063, 15064, 15065, 15066, 15067, 15068, 15069, 15070, 15071, 15072, 15073, 15074, 15075, 15076, 15077, 15078, 15079, 15080, 15081, 15082, 15083, 15084, 15085, 15086, 15087, 15088, 15089, 15090, 15091, 15092, 15093, 15094, 15095, 15096, 15097, 15098, 15099, 15100, 15101, 15102, 15103, 15104, 15105, 15106, 15107, 15108, 15109, 15110, 15111, 15112, 15113, 15114, 15115, 15116, 15117, 15118, 15119, 15120, 15121, 15122, 15123, 15124, 15125, 15126, 15127, 15128, 15129, 15130, 15131, 15132, 15133, 15134, 15135, 15136, 15137, 15138, 15139, 15140, 15141, 15142, 15143, 15144, 15145, 15146, 15147, 15148, 15149, 15150, 15151, 15152, 15153, 15154, 15155, 15156, 15157, 15158, 15159, 15160, 15161, 15162, 15163, 15164, 15165, 15166, 15167, 15168, 15169, 15170, 15171, 15172, 15173, 15174, 15175, 15176, 15177, 15178, 15179, 15180, 15181, 15182, 15183, 15184, 15185, 15186, 15187, 15188, 15189, 15190, 15191, 15192, 15193, 15194, 15195, 15196, 15197, 15198, 15199, 15200, 15201, 15202, 15203, 15204, 15205, 15206, 15207, 15208, 15209, 15210, 15211, 15212, 15213, 15214, 15215, 15216, 15217, 15218, 15219, 15220, 15221, 15222, 15223, 15224, 15225, 15226]),)"
      ]
     },
     "execution_count": 80,
     "metadata": {},
     "output_type": "execute_result"
    }
   ],
   "source": [
    "np.where(random_graph_runtime.output[57] > 5000000)"
   ]
  },
  {
   "cell_type": "code",
   "execution_count": null,
   "id": "27a68ad7-0fae-4319-b5ae-b2e6db462730",
   "metadata": {},
   "outputs": [],
   "source": []
  }
 ],
 "metadata": {
  "kernelspec": {
   "display_name": "Python 3 (ipykernel)",
   "language": "python",
   "name": "python3"
  },
  "language_info": {
   "codemirror_mode": {
    "name": "ipython",
    "version": 3
   },
   "file_extension": ".py",
   "mimetype": "text/x-python",
   "name": "python",
   "nbconvert_exporter": "python",
   "pygments_lexer": "ipython3",
   "version": "3.9.12"
  }
 },
 "nbformat": 4,
 "nbformat_minor": 5
}
