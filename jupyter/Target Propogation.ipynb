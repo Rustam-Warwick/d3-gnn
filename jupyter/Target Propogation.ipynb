{
 "cells": [
  {
   "cell_type": "code",
   "execution_count": 5,
   "id": "a8c702a0-f421-4d55-b833-8e207f91ceeb",
   "metadata": {
    "tags": []
   },
   "outputs": [],
   "source": [
    "import torch\n",
    "import torch.nn.functional as F\n",
    "from torch_geometric.data import Data, DataLoader\n",
    "from torch_geometric.datasets import CoraFull, BitcoinOTC\n",
    "from torch_geometric.utils import is_undirected\n",
    "import matplotlib.pyplot as plt\n",
    "from torch_geometric.nn import SAGEConv\n",
    "import pandas as pd\n",
    "import os\n",
    "import numpy as np\n",
    "from datetime import datetime"
   ]
  },
  {
   "cell_type": "markdown",
   "id": "d4988f99-be7b-4994-84cc-b0a971e2a9bd",
   "metadata": {
    "tags": []
   },
   "source": [
    "#### Create Dataset"
   ]
  },
  {
   "cell_type": "code",
   "execution_count": 6,
   "id": "95997c98-564b-4fa7-8ab8-8ddd967d9733",
   "metadata": {},
   "outputs": [],
   "source": [
    "dataset = CoraFull(\"./datasets\")"
   ]
  },
  {
   "cell_type": "code",
   "execution_count": 7,
   "id": "e41a4c7f-e85f-4d6d-bdad-b8a9a77cf02f",
   "metadata": {},
   "outputs": [],
   "source": [
    "dataset.data.edge_index = dataset.data.edge_index[:,:10000]"
   ]
  },
  {
   "cell_type": "markdown",
   "id": "bc102591-6963-41bf-9aaf-1ee964b175b5",
   "metadata": {
    "jp-MarkdownHeadingCollapsed": true,
    "tags": []
   },
   "source": [
    "### Trash"
   ]
  },
  {
   "cell_type": "code",
   "execution_count": null,
   "id": "cb5d065e-995d-4c6d-87eb-f2754724ea98",
   "metadata": {},
   "outputs": [],
   "source": [
    "sorted_ratings = pd.read_csv(\"../datasets/movielens/sorted_ratings.csv\", header=None)"
   ]
  },
  {
   "cell_type": "code",
   "execution_count": 85,
   "id": "2967e219-a717-46cc-afec-eb157f24c3d9",
   "metadata": {},
   "outputs": [],
   "source": [
    "num_nodes = np.unique(np.hstack((sorted_ratings[0].unique(), sorted_ratings[1].unique()))).size\n",
    "x = np.random.normal(size=(num_nodes, 7))\n",
    "edge_index = torch.tensor(np.vstack((sorted_ratings[0].values, sorted_ratings[1].values)))\n",
    "\n",
    "data = Data(x=x, edge_index=edge_index)\n"
   ]
  },
  {
   "cell_type": "code",
   "execution_count": 108,
   "id": "070dbc67-5ec7-4553-9e52-756433fd57ca",
   "metadata": {
    "tags": []
   },
   "outputs": [],
   "source": [
    "data.num_node_features = 7"
   ]
  },
  {
   "cell_type": "markdown",
   "id": "e80f3013-9631-42c6-a454-58e33c7a8cf0",
   "metadata": {
    "tags": []
   },
   "source": [
    "### Model Definitions"
   ]
  },
  {
   "cell_type": "code",
   "execution_count": 8,
   "id": "82486e79-38ab-487f-8213-b91267fd7f47",
   "metadata": {},
   "outputs": [],
   "source": [
    "class GraphSage(torch.nn.Module):\n",
    "    def __init__(self,):\n",
    "        super().__init__()\n",
    "        self.conv1 = SAGEConv(dataset.num_node_features, 128)\n",
    "        self.conv2 = SAGEConv(128, 64)\n",
    "        self.ff = torch.nn.Sequential(\n",
    "            torch.nn.Linear(64,64),\n",
    "            torch.nn.Linear(64, dataset.num_classes)\n",
    "        )\n",
    "    \n",
    "    def fortward_no_output(self,data):\n",
    "        x, edge_index = data.x, data.edge_index\n",
    "        x = self.conv1(x, edge_index)\n",
    "        x = F.relu(x)\n",
    "        x = self.conv2(x, edge_index)\n",
    "        x = F.relu(x)\n",
    "        return x\n",
    "    def forward(self, data):\n",
    "        x, edge_index = data.x, data.edge_index\n",
    "        x = self.conv1(x, edge_index)\n",
    "        x = F.relu(x)\n",
    "        x = self.conv2(x, edge_index)\n",
    "        x = F.relu(x)\n",
    "        if self.training:\n",
    "            x = F.dropout(x, 0.2)\n",
    "        return self.ff(x)\n",
    "        # return F.softmax(x)\n",
    "model = GraphSage()\n"
   ]
  },
  {
   "cell_type": "markdown",
   "id": "fddd2725-7283-4161-b233-2c7761d605bf",
   "metadata": {
    "jp-MarkdownHeadingCollapsed": true,
    "tags": []
   },
   "source": [
    "### Training Loop for 2 layered GCN Normal"
   ]
  },
  {
   "cell_type": "code",
   "execution_count": 49,
   "id": "f78c06b4-6cb5-4243-84ff-e8b3f188f581",
   "metadata": {
    "collapsed": true,
    "jupyter": {
     "outputs_hidden": true
    },
    "tags": []
   },
   "outputs": [
    {
     "ename": "KeyboardInterrupt",
     "evalue": "",
     "output_type": "error",
     "traceback": [
      "\u001b[0;31m---------------------------------------------------------------------------\u001b[0m",
      "\u001b[0;31mKeyboardInterrupt\u001b[0m                         Traceback (most recent call last)",
      "Input \u001b[0;32mIn [49]\u001b[0m, in \u001b[0;36m<cell line: 4>\u001b[0;34m()\u001b[0m\n\u001b[1;32m      4\u001b[0m \u001b[38;5;28;01mfor\u001b[39;00m epoch \u001b[38;5;129;01min\u001b[39;00m \u001b[38;5;28mrange\u001b[39m(\u001b[38;5;241m300\u001b[39m):\n\u001b[1;32m      5\u001b[0m     optimizer\u001b[38;5;241m.\u001b[39mzero_grad()\n\u001b[0;32m----> 6\u001b[0m     out \u001b[38;5;241m=\u001b[39m \u001b[43mmodel\u001b[49m\u001b[43m(\u001b[49m\u001b[43mdataset\u001b[49m\u001b[43m[\u001b[49m\u001b[38;5;241;43m0\u001b[39;49m\u001b[43m]\u001b[49m\u001b[43m)\u001b[49m\n\u001b[1;32m      7\u001b[0m     loss \u001b[38;5;241m=\u001b[39m F\u001b[38;5;241m.\u001b[39mcross_entropy(out, dataset[\u001b[38;5;241m0\u001b[39m]\u001b[38;5;241m.\u001b[39my)\n\u001b[1;32m      8\u001b[0m     loss\u001b[38;5;241m.\u001b[39mbackward()\n",
      "File \u001b[0;32m~/miniconda3/envs/flink/lib/python3.8/site-packages/torch/nn/modules/module.py:1102\u001b[0m, in \u001b[0;36mModule._call_impl\u001b[0;34m(self, *input, **kwargs)\u001b[0m\n\u001b[1;32m   1098\u001b[0m \u001b[38;5;66;03m# If we don't have any hooks, we want to skip the rest of the logic in\u001b[39;00m\n\u001b[1;32m   1099\u001b[0m \u001b[38;5;66;03m# this function, and just call forward.\u001b[39;00m\n\u001b[1;32m   1100\u001b[0m \u001b[38;5;28;01mif\u001b[39;00m \u001b[38;5;129;01mnot\u001b[39;00m (\u001b[38;5;28mself\u001b[39m\u001b[38;5;241m.\u001b[39m_backward_hooks \u001b[38;5;129;01mor\u001b[39;00m \u001b[38;5;28mself\u001b[39m\u001b[38;5;241m.\u001b[39m_forward_hooks \u001b[38;5;129;01mor\u001b[39;00m \u001b[38;5;28mself\u001b[39m\u001b[38;5;241m.\u001b[39m_forward_pre_hooks \u001b[38;5;129;01mor\u001b[39;00m _global_backward_hooks\n\u001b[1;32m   1101\u001b[0m         \u001b[38;5;129;01mor\u001b[39;00m _global_forward_hooks \u001b[38;5;129;01mor\u001b[39;00m _global_forward_pre_hooks):\n\u001b[0;32m-> 1102\u001b[0m     \u001b[38;5;28;01mreturn\u001b[39;00m \u001b[43mforward_call\u001b[49m\u001b[43m(\u001b[49m\u001b[38;5;241;43m*\u001b[39;49m\u001b[38;5;28;43minput\u001b[39;49m\u001b[43m,\u001b[49m\u001b[43m \u001b[49m\u001b[38;5;241;43m*\u001b[39;49m\u001b[38;5;241;43m*\u001b[39;49m\u001b[43mkwargs\u001b[49m\u001b[43m)\u001b[49m\n\u001b[1;32m   1103\u001b[0m \u001b[38;5;66;03m# Do not call functions when jit is used\u001b[39;00m\n\u001b[1;32m   1104\u001b[0m full_backward_hooks, non_full_backward_hooks \u001b[38;5;241m=\u001b[39m [], []\n",
      "Input \u001b[0;32mIn [19]\u001b[0m, in \u001b[0;36mGraphSage.forward\u001b[0;34m(self, data)\u001b[0m\n\u001b[1;32m     11\u001b[0m \u001b[38;5;28;01mdef\u001b[39;00m \u001b[38;5;21mforward\u001b[39m(\u001b[38;5;28mself\u001b[39m, data):\n\u001b[1;32m     12\u001b[0m     x, edge_index \u001b[38;5;241m=\u001b[39m data\u001b[38;5;241m.\u001b[39mx, data\u001b[38;5;241m.\u001b[39medge_index\n\u001b[0;32m---> 13\u001b[0m     x \u001b[38;5;241m=\u001b[39m \u001b[38;5;28;43mself\u001b[39;49m\u001b[38;5;241;43m.\u001b[39;49m\u001b[43mconv1\u001b[49m\u001b[43m(\u001b[49m\u001b[43mx\u001b[49m\u001b[43m,\u001b[49m\u001b[43m \u001b[49m\u001b[43medge_index\u001b[49m\u001b[43m)\u001b[49m\n\u001b[1;32m     14\u001b[0m     x \u001b[38;5;241m=\u001b[39m F\u001b[38;5;241m.\u001b[39mrelu(x)\n\u001b[1;32m     15\u001b[0m     x \u001b[38;5;241m=\u001b[39m \u001b[38;5;28mself\u001b[39m\u001b[38;5;241m.\u001b[39mconv2(x, edge_index)\n",
      "File \u001b[0;32m~/miniconda3/envs/flink/lib/python3.8/site-packages/torch/nn/modules/module.py:1102\u001b[0m, in \u001b[0;36mModule._call_impl\u001b[0;34m(self, *input, **kwargs)\u001b[0m\n\u001b[1;32m   1098\u001b[0m \u001b[38;5;66;03m# If we don't have any hooks, we want to skip the rest of the logic in\u001b[39;00m\n\u001b[1;32m   1099\u001b[0m \u001b[38;5;66;03m# this function, and just call forward.\u001b[39;00m\n\u001b[1;32m   1100\u001b[0m \u001b[38;5;28;01mif\u001b[39;00m \u001b[38;5;129;01mnot\u001b[39;00m (\u001b[38;5;28mself\u001b[39m\u001b[38;5;241m.\u001b[39m_backward_hooks \u001b[38;5;129;01mor\u001b[39;00m \u001b[38;5;28mself\u001b[39m\u001b[38;5;241m.\u001b[39m_forward_hooks \u001b[38;5;129;01mor\u001b[39;00m \u001b[38;5;28mself\u001b[39m\u001b[38;5;241m.\u001b[39m_forward_pre_hooks \u001b[38;5;129;01mor\u001b[39;00m _global_backward_hooks\n\u001b[1;32m   1101\u001b[0m         \u001b[38;5;129;01mor\u001b[39;00m _global_forward_hooks \u001b[38;5;129;01mor\u001b[39;00m _global_forward_pre_hooks):\n\u001b[0;32m-> 1102\u001b[0m     \u001b[38;5;28;01mreturn\u001b[39;00m \u001b[43mforward_call\u001b[49m\u001b[43m(\u001b[49m\u001b[38;5;241;43m*\u001b[39;49m\u001b[38;5;28;43minput\u001b[39;49m\u001b[43m,\u001b[49m\u001b[43m \u001b[49m\u001b[38;5;241;43m*\u001b[39;49m\u001b[38;5;241;43m*\u001b[39;49m\u001b[43mkwargs\u001b[49m\u001b[43m)\u001b[49m\n\u001b[1;32m   1103\u001b[0m \u001b[38;5;66;03m# Do not call functions when jit is used\u001b[39;00m\n\u001b[1;32m   1104\u001b[0m full_backward_hooks, non_full_backward_hooks \u001b[38;5;241m=\u001b[39m [], []\n",
      "File \u001b[0;32m~/miniconda3/envs/flink/lib/python3.8/site-packages/torch_geometric/nn/conv/sage_conv.py:80\u001b[0m, in \u001b[0;36mSAGEConv.forward\u001b[0;34m(self, x, edge_index, size)\u001b[0m\n\u001b[1;32m     77\u001b[0m     x: OptPairTensor \u001b[38;5;241m=\u001b[39m (x, x)\n\u001b[1;32m     79\u001b[0m \u001b[38;5;66;03m# propagate_type: (x: OptPairTensor)\u001b[39;00m\n\u001b[0;32m---> 80\u001b[0m out \u001b[38;5;241m=\u001b[39m \u001b[38;5;28;43mself\u001b[39;49m\u001b[38;5;241;43m.\u001b[39;49m\u001b[43mpropagate\u001b[49m\u001b[43m(\u001b[49m\u001b[43medge_index\u001b[49m\u001b[43m,\u001b[49m\u001b[43m \u001b[49m\u001b[43mx\u001b[49m\u001b[38;5;241;43m=\u001b[39;49m\u001b[43mx\u001b[49m\u001b[43m,\u001b[49m\u001b[43m \u001b[49m\u001b[43msize\u001b[49m\u001b[38;5;241;43m=\u001b[39;49m\u001b[43msize\u001b[49m\u001b[43m)\u001b[49m\n\u001b[1;32m     81\u001b[0m out \u001b[38;5;241m=\u001b[39m \u001b[38;5;28mself\u001b[39m\u001b[38;5;241m.\u001b[39mlin_l(out)\n\u001b[1;32m     83\u001b[0m x_r \u001b[38;5;241m=\u001b[39m x[\u001b[38;5;241m1\u001b[39m]\n",
      "File \u001b[0;32m~/miniconda3/envs/flink/lib/python3.8/site-packages/torch_geometric/nn/conv/message_passing.py:344\u001b[0m, in \u001b[0;36mMessagePassing.propagate\u001b[0;34m(self, edge_index, size, **kwargs)\u001b[0m\n\u001b[1;32m    342\u001b[0m     \u001b[38;5;28;01mif\u001b[39;00m res \u001b[38;5;129;01mis\u001b[39;00m \u001b[38;5;129;01mnot\u001b[39;00m \u001b[38;5;28;01mNone\u001b[39;00m:\n\u001b[1;32m    343\u001b[0m         aggr_kwargs \u001b[38;5;241m=\u001b[39m res[\u001b[38;5;241m0\u001b[39m] \u001b[38;5;28;01mif\u001b[39;00m \u001b[38;5;28misinstance\u001b[39m(res, \u001b[38;5;28mtuple\u001b[39m) \u001b[38;5;28;01melse\u001b[39;00m res\n\u001b[0;32m--> 344\u001b[0m out \u001b[38;5;241m=\u001b[39m \u001b[38;5;28;43mself\u001b[39;49m\u001b[38;5;241;43m.\u001b[39;49m\u001b[43maggregate\u001b[49m\u001b[43m(\u001b[49m\u001b[43mout\u001b[49m\u001b[43m,\u001b[49m\u001b[43m \u001b[49m\u001b[38;5;241;43m*\u001b[39;49m\u001b[38;5;241;43m*\u001b[39;49m\u001b[43maggr_kwargs\u001b[49m\u001b[43m)\u001b[49m\n\u001b[1;32m    345\u001b[0m \u001b[38;5;28;01mfor\u001b[39;00m hook \u001b[38;5;129;01min\u001b[39;00m \u001b[38;5;28mself\u001b[39m\u001b[38;5;241m.\u001b[39m_aggregate_forward_hooks\u001b[38;5;241m.\u001b[39mvalues():\n\u001b[1;32m    346\u001b[0m     res \u001b[38;5;241m=\u001b[39m hook(\u001b[38;5;28mself\u001b[39m, (aggr_kwargs, ), out)\n",
      "File \u001b[0;32m~/miniconda3/envs/flink/lib/python3.8/site-packages/torch_geometric/nn/conv/message_passing.py:427\u001b[0m, in \u001b[0;36mMessagePassing.aggregate\u001b[0;34m(self, inputs, index, ptr, dim_size)\u001b[0m\n\u001b[1;32m    425\u001b[0m     \u001b[38;5;28;01mreturn\u001b[39;00m segment_csr(inputs, ptr, reduce\u001b[38;5;241m=\u001b[39m\u001b[38;5;28mself\u001b[39m\u001b[38;5;241m.\u001b[39maggr)\n\u001b[1;32m    426\u001b[0m \u001b[38;5;28;01melse\u001b[39;00m:\n\u001b[0;32m--> 427\u001b[0m     \u001b[38;5;28;01mreturn\u001b[39;00m \u001b[43mscatter\u001b[49m\u001b[43m(\u001b[49m\u001b[43minputs\u001b[49m\u001b[43m,\u001b[49m\u001b[43m \u001b[49m\u001b[43mindex\u001b[49m\u001b[43m,\u001b[49m\u001b[43m \u001b[49m\u001b[43mdim\u001b[49m\u001b[38;5;241;43m=\u001b[39;49m\u001b[38;5;28;43mself\u001b[39;49m\u001b[38;5;241;43m.\u001b[39;49m\u001b[43mnode_dim\u001b[49m\u001b[43m,\u001b[49m\u001b[43m \u001b[49m\u001b[43mdim_size\u001b[49m\u001b[38;5;241;43m=\u001b[39;49m\u001b[43mdim_size\u001b[49m\u001b[43m,\u001b[49m\n\u001b[1;32m    428\u001b[0m \u001b[43m                   \u001b[49m\u001b[43mreduce\u001b[49m\u001b[38;5;241;43m=\u001b[39;49m\u001b[38;5;28;43mself\u001b[39;49m\u001b[38;5;241;43m.\u001b[39;49m\u001b[43maggr\u001b[49m\u001b[43m)\u001b[49m\n",
      "File \u001b[0;32m~/miniconda3/envs/flink/lib/python3.8/site-packages/torch_scatter/scatter.py:156\u001b[0m, in \u001b[0;36mscatter\u001b[0;34m(src, index, dim, out, dim_size, reduce)\u001b[0m\n\u001b[1;32m    154\u001b[0m     \u001b[38;5;28;01mreturn\u001b[39;00m scatter_mul(src, index, dim, out, dim_size)\n\u001b[1;32m    155\u001b[0m \u001b[38;5;28;01melif\u001b[39;00m reduce \u001b[38;5;241m==\u001b[39m \u001b[38;5;124m'\u001b[39m\u001b[38;5;124mmean\u001b[39m\u001b[38;5;124m'\u001b[39m:\n\u001b[0;32m--> 156\u001b[0m     \u001b[38;5;28;01mreturn\u001b[39;00m \u001b[43mscatter_mean\u001b[49m\u001b[43m(\u001b[49m\u001b[43msrc\u001b[49m\u001b[43m,\u001b[49m\u001b[43m \u001b[49m\u001b[43mindex\u001b[49m\u001b[43m,\u001b[49m\u001b[43m \u001b[49m\u001b[43mdim\u001b[49m\u001b[43m,\u001b[49m\u001b[43m \u001b[49m\u001b[43mout\u001b[49m\u001b[43m,\u001b[49m\u001b[43m \u001b[49m\u001b[43mdim_size\u001b[49m\u001b[43m)\u001b[49m\n\u001b[1;32m    157\u001b[0m \u001b[38;5;28;01melif\u001b[39;00m reduce \u001b[38;5;241m==\u001b[39m \u001b[38;5;124m'\u001b[39m\u001b[38;5;124mmin\u001b[39m\u001b[38;5;124m'\u001b[39m:\n\u001b[1;32m    158\u001b[0m     \u001b[38;5;28;01mreturn\u001b[39;00m scatter_min(src, index, dim, out, dim_size)[\u001b[38;5;241m0\u001b[39m]\n",
      "File \u001b[0;32m~/miniconda3/envs/flink/lib/python3.8/site-packages/torch_scatter/scatter.py:41\u001b[0m, in \u001b[0;36mscatter_mean\u001b[0;34m(src, index, dim, out, dim_size)\u001b[0m\n\u001b[1;32m     38\u001b[0m \u001b[38;5;28;01mdef\u001b[39;00m \u001b[38;5;21mscatter_mean\u001b[39m(src: torch\u001b[38;5;241m.\u001b[39mTensor, index: torch\u001b[38;5;241m.\u001b[39mTensor, dim: \u001b[38;5;28mint\u001b[39m \u001b[38;5;241m=\u001b[39m \u001b[38;5;241m-\u001b[39m\u001b[38;5;241m1\u001b[39m,\n\u001b[1;32m     39\u001b[0m                  out: Optional[torch\u001b[38;5;241m.\u001b[39mTensor] \u001b[38;5;241m=\u001b[39m \u001b[38;5;28;01mNone\u001b[39;00m,\n\u001b[1;32m     40\u001b[0m                  dim_size: Optional[\u001b[38;5;28mint\u001b[39m] \u001b[38;5;241m=\u001b[39m \u001b[38;5;28;01mNone\u001b[39;00m) \u001b[38;5;241m-\u001b[39m\u001b[38;5;241m>\u001b[39m torch\u001b[38;5;241m.\u001b[39mTensor:\n\u001b[0;32m---> 41\u001b[0m     out \u001b[38;5;241m=\u001b[39m \u001b[43mscatter_sum\u001b[49m\u001b[43m(\u001b[49m\u001b[43msrc\u001b[49m\u001b[43m,\u001b[49m\u001b[43m \u001b[49m\u001b[43mindex\u001b[49m\u001b[43m,\u001b[49m\u001b[43m \u001b[49m\u001b[43mdim\u001b[49m\u001b[43m,\u001b[49m\u001b[43m \u001b[49m\u001b[43mout\u001b[49m\u001b[43m,\u001b[49m\u001b[43m \u001b[49m\u001b[43mdim_size\u001b[49m\u001b[43m)\u001b[49m\n\u001b[1;32m     42\u001b[0m     dim_size \u001b[38;5;241m=\u001b[39m out\u001b[38;5;241m.\u001b[39msize(dim)\n\u001b[1;32m     44\u001b[0m     index_dim \u001b[38;5;241m=\u001b[39m dim\n",
      "File \u001b[0;32m~/miniconda3/envs/flink/lib/python3.8/site-packages/torch_scatter/scatter.py:21\u001b[0m, in \u001b[0;36mscatter_sum\u001b[0;34m(src, index, dim, out, dim_size)\u001b[0m\n\u001b[1;32m     19\u001b[0m         size[dim] \u001b[38;5;241m=\u001b[39m \u001b[38;5;28mint\u001b[39m(index\u001b[38;5;241m.\u001b[39mmax()) \u001b[38;5;241m+\u001b[39m \u001b[38;5;241m1\u001b[39m\n\u001b[1;32m     20\u001b[0m     out \u001b[38;5;241m=\u001b[39m torch\u001b[38;5;241m.\u001b[39mzeros(size, dtype\u001b[38;5;241m=\u001b[39msrc\u001b[38;5;241m.\u001b[39mdtype, device\u001b[38;5;241m=\u001b[39msrc\u001b[38;5;241m.\u001b[39mdevice)\n\u001b[0;32m---> 21\u001b[0m     \u001b[38;5;28;01mreturn\u001b[39;00m \u001b[43mout\u001b[49m\u001b[38;5;241;43m.\u001b[39;49m\u001b[43mscatter_add_\u001b[49m\u001b[43m(\u001b[49m\u001b[43mdim\u001b[49m\u001b[43m,\u001b[49m\u001b[43m \u001b[49m\u001b[43mindex\u001b[49m\u001b[43m,\u001b[49m\u001b[43m \u001b[49m\u001b[43msrc\u001b[49m\u001b[43m)\u001b[49m\n\u001b[1;32m     22\u001b[0m \u001b[38;5;28;01melse\u001b[39;00m:\n\u001b[1;32m     23\u001b[0m     \u001b[38;5;28;01mreturn\u001b[39;00m out\u001b[38;5;241m.\u001b[39mscatter_add_(dim, index, src)\n",
      "\u001b[0;31mKeyboardInterrupt\u001b[0m: "
     ]
    }
   ],
   "source": [
    "losses = list()\n",
    "optimizer = torch.optim.Adam(model.parameters(), lr=0.01, weight_decay=5e-4)\n",
    "model.train()\n",
    "for epoch in range(300):\n",
    "    optimizer.zero_grad()\n",
    "    out = model(dataset[0])\n",
    "    loss = F.cross_entropy(out, dataset[0].y)\n",
    "    loss.backward()\n",
    "    losses.append(loss)\n",
    "    optimizer.step()\n",
    "    \n"
   ]
  },
  {
   "cell_type": "code",
   "execution_count": 30,
   "id": "a217ebc3-1322-4a7b-8d75-a0c9fb9ead41",
   "metadata": {
    "tags": []
   },
   "outputs": [
    {
     "data": {
      "text/plain": [
       "[<matplotlib.lines.Line2D at 0x7f9ca2675b50>]"
      ]
     },
     "execution_count": 30,
     "metadata": {},
     "output_type": "execute_result"
    },
    {
     "data": {
      "image/png": "[encoded data removed]",
      "text/plain": [
       "<Figure size 432x288 with 1 Axes>"
      ]
     },
     "metadata": {
      "needs_background": "light"
     },
     "output_type": "display_data"
    }
   ],
   "source": [
    "plt.plot(range(0, len(losses) ),losses)"
   ]
  },
  {
   "cell_type": "markdown",
   "id": "e7b7f828-0a23-428f-83df-a0cd2ac1cb94",
   "metadata": {
    "tags": []
   },
   "source": [
    "### Saving model weights for Java"
   ]
  },
  {
   "cell_type": "code",
   "execution_count": 9,
   "id": "a9cbcacf-7c15-4d8f-afcc-751be2d231da",
   "metadata": {},
   "outputs": [],
   "source": [
    "def save_model(model_name):\n",
    "    directory = os.path.join(os.path.curdir, \"models/%s-%s/\"%(model_name, datetime.now().date()))\n",
    "    if not os.path.exists(directory):\n",
    "        os.makedirs(directory)\n",
    "    i = 0\n",
    "    for name, param in model.named_parameters():\n",
    "        np.save(os.path.join(directory, str(i)), param.data.numpy())\n",
    "        i+=1"
   ]
  },
  {
   "cell_type": "code",
   "execution_count": 10,
   "id": "74c4ba74-e917-4356-9914-a85f0a53a397",
   "metadata": {},
   "outputs": [],
   "source": [
    "def load_model(model_folder):\n",
    "    directory = os.path.join(os.path.curdir, \"models/%s\"%(model_folder))\n",
    "    onlyfiles = [f for f in os.listdir(directory)]\n",
    "    onlyfiles.sort()\n",
    "    for i, param in enumerate(model.parameters()):\n",
    "        tmp = np.load(os.path.join(directory, onlyfiles[i]))\n",
    "        param.data = torch.tensor(tmp)"
   ]
  },
  {
   "cell_type": "markdown",
   "id": "7de30b62-3c3b-48b7-a196-f26a61c63ebe",
   "metadata": {
    "tags": []
   },
   "source": [
    "### Saving Graph for Java"
   ]
  },
  {
   "cell_type": "code",
   "execution_count": 4,
   "id": "84aed7e0-9c03-463f-ae76-c07fa99256e8",
   "metadata": {},
   "outputs": [],
   "source": [
    "edges = pd.DataFrame(dataset.data.edge_index.numpy().T)\n",
    "edges.to_csv(\"datasets/cora/edges\", index = False, header=False)"
   ]
  },
  {
   "cell_type": "code",
   "execution_count": 4,
   "id": "cd3d53dd-2c6d-4af0-bce1-484169023711",
   "metadata": {},
   "outputs": [],
   "source": [
    "np.save(\"datasets/cora/vertex_features\", dataset.data.x.numpy())"
   ]
  },
  {
   "cell_type": "code",
   "execution_count": 5,
   "id": "3f90cbe1-03aa-4ad0-9185-96c8730cc24d",
   "metadata": {},
   "outputs": [],
   "source": [
    "np.save(\"datasets/cora/vertex_labels\", dataset.data.y.numpy())"
   ]
  },
  {
   "cell_type": "markdown",
   "id": "8c12823a-76fe-432f-824a-cbb84c7348d7",
   "metadata": {
    "tags": []
   },
   "source": [
    "## Testing the saved model"
   ]
  },
  {
   "cell_type": "code",
   "execution_count": 11,
   "id": "c36720e7-eae1-4246-94e8-c511e1ee12cb",
   "metadata": {},
   "outputs": [],
   "source": [
    "load_model(\"GraphSageBias-2022-05-15\")"
   ]
  },
  {
   "cell_type": "code",
   "execution_count": 12,
   "id": "f51850b5-88c5-42bc-82e8-a63ab72067bf",
   "metadata": {},
   "outputs": [],
   "source": [
    "model.training = False"
   ]
  },
  {
   "cell_type": "code",
   "execution_count": 13,
   "id": "bdd6aad6-4ddc-4792-bae9-cb9fae5f20b6",
   "metadata": {},
   "outputs": [],
   "source": [
    "out = model.fortward_no_output(dataset.data)"
   ]
  },
  {
   "cell_type": "code",
   "execution_count": 14,
   "id": "2976ed69-3075-4071-ae3f-694d335ef46c",
   "metadata": {},
   "outputs": [
    {
     "data": {
      "text/plain": [
       "tensor([0.0000, 0.0671, 0.0000, 0.3636, 0.1301, 1.4143, 0.6575, 0.4067, 1.2493,\n",
       "        0.0000, 1.4117, 0.7736, 0.8188, 0.0000, 1.0199, 1.0499, 0.0000, 0.0000,\n",
       "        0.0000, 1.4162, 0.8516, 1.4925, 0.4122, 0.0581, 0.7633, 0.0000, 0.2815,\n",
       "        0.6440, 0.1724, 0.3091, 0.0000, 0.6307, 0.8696, 0.8137, 0.7733, 0.7752,\n",
       "        0.0000, 0.0294, 0.7573, 0.9862, 0.6851, 0.6395, 1.4788, 0.0000, 1.1253,\n",
       "        0.7743, 0.9550, 0.0000, 1.4315, 0.2231, 0.0000, 0.0429, 0.1695, 0.0000,\n",
       "        1.3839, 0.0000, 1.4677, 0.6671, 0.5835, 0.8522, 0.7849, 0.6056, 0.0000,\n",
       "        0.2725], grad_fn=<SelectBackward0>)"
      ]
     },
     "execution_count": 14,
     "metadata": {},
     "output_type": "execute_result"
    }
   ],
   "source": [
    "out[193]"
   ]
  },
  {
   "cell_type": "code",
   "execution_count": null,
   "id": "ff583809-7422-4963-bf1c-0f25947c8e26",
   "metadata": {},
   "outputs": [],
   "source": []
  },
  {
   "cell_type": "code",
   "execution_count": 52,
   "id": "8359336d-36ac-40bf-940f-a22743cbdf68",
   "metadata": {
    "collapsed": true,
    "jupyter": {
     "outputs_hidden": true
    },
    "tags": []
   },
   "outputs": [
    {
     "name": "stdout",
     "output_type": "stream",
     "text": [
      "conv1.lin_l.weight torch.Size([128, 8710]) Parameter containing:\n",
      "tensor([[-1.1213e-02,  2.1251e-03,  3.5721e-03,  ..., -1.9507e-03,\n",
      "          1.6900e-02,  5.1516e-03],\n",
      "        [ 2.8658e-04,  2.2471e-05,  7.6836e-05,  ..., -2.6370e-05,\n",
      "         -3.2836e-04,  6.3618e-05],\n",
      "        [ 4.4200e-04, -4.4746e-06,  9.8639e-04,  ...,  1.4028e-05,\n",
      "         -1.7615e-04, -2.4735e-05],\n",
      "        ...,\n",
      "        [-2.7859e-04,  2.1294e-04,  4.1929e-03,  ...,  1.7834e-05,\n",
      "         -1.3354e-04, -2.9501e-04],\n",
      "        [ 2.9670e-04,  5.9558e-03, -1.9688e-03,  ..., -1.4719e-04,\n",
      "         -8.6875e-03, -2.2669e-03],\n",
      "        [-2.2037e-04,  2.1224e-05, -3.5138e-05,  ..., -2.5063e-06,\n",
      "         -7.4994e-06, -2.1843e-05]], requires_grad=True)\n",
      "conv1.lin_l.bias torch.Size([128]) Parameter containing:\n",
      "tensor([ 2.2002e-01,  2.5693e-02, -5.4645e-03, -3.1824e-04, -2.6723e-02,\n",
      "         1.3266e-01,  6.8037e-02,  4.9409e-02, -3.5273e-02,  1.4855e-02,\n",
      "         8.2995e-02,  1.0349e-01,  1.7266e-02, -6.1273e-02, -3.9598e-04,\n",
      "        -6.2776e-03,  1.1088e-01,  2.9490e-02,  9.9863e-02, -1.1358e-02,\n",
      "         1.3303e-01,  1.3419e-01,  1.5566e-02,  5.9633e-02,  1.6693e-02,\n",
      "        -5.6958e-03, -3.8989e-03,  8.3010e-03, -3.4996e-04, -1.6860e-02,\n",
      "        -1.2155e-03, -2.7640e-02,  1.1113e-01,  3.2647e-02,  5.5902e-02,\n",
      "         1.4802e-02,  8.0490e-02,  2.0280e-02, -2.4448e-02, -5.2819e-02,\n",
      "         6.8220e-02,  7.4213e-02, -9.8185e-03, -1.1254e-02,  5.2043e-02,\n",
      "         1.5849e-02,  6.7778e-04,  1.4629e-01, -3.0900e-02,  1.0426e-01,\n",
      "        -7.1185e-02,  2.6522e-02, -8.8763e-03, -2.5653e-03,  2.3684e-03,\n",
      "         8.1680e-02,  1.2627e-01, -4.4961e-04, -1.9331e-06,  1.0349e-01,\n",
      "        -7.0017e-04,  1.2743e-01, -2.2540e-04,  7.6988e-02, -1.9824e-02,\n",
      "        -1.0452e-02,  4.5361e-06,  1.3920e-01,  7.1818e-02, -2.0162e-04,\n",
      "         1.9596e-02, -1.5001e-02,  2.8523e-02,  1.0530e-01,  8.5999e-02,\n",
      "         5.8309e-05,  6.1722e-02,  8.0298e-02, -9.1066e-03,  8.2365e-03,\n",
      "         1.0032e-01,  5.0962e-02,  1.4439e-01, -4.5366e-03,  1.1204e-02,\n",
      "        -8.3877e-05, -6.6185e-03,  1.5977e-01,  2.0017e-02,  1.1561e-01,\n",
      "         6.4179e-02, -2.4810e-03,  5.8514e-02,  9.3472e-02, -9.6870e-04,\n",
      "         6.3303e-03,  1.0726e-01, -5.1537e-06,  3.2894e-03,  9.2327e-02,\n",
      "        -1.1673e-02, -2.7938e-04, -1.0716e-02, -3.4501e-02,  2.0918e-01,\n",
      "         6.7249e-02, -3.4091e-02,  4.4399e-02,  8.2390e-02, -3.6302e-03,\n",
      "         1.3868e-01,  1.2572e-01,  1.1350e-01,  6.9554e-02,  7.5449e-02,\n",
      "        -1.3633e-02, -5.6757e-04,  1.2555e-02,  1.9748e-01,  5.2690e-03,\n",
      "        -1.7206e-02, -2.4493e-03,  1.7040e-01, -1.5454e-03, -2.5239e-03,\n",
      "        -3.0266e-02,  1.4927e-01, -2.3727e-04], requires_grad=True)\n",
      "conv1.lin_r.weight torch.Size([128, 8710]) Parameter containing:\n",
      "tensor([[ 1.8831e-02, -7.0111e-03,  2.0918e-02,  ...,  1.6674e-03,\n",
      "         -2.7285e-03, -1.3826e-03],\n",
      "        [ 2.2750e-04, -1.6858e-04,  2.3533e-03,  ..., -7.8794e-05,\n",
      "          2.1299e-04, -2.6515e-04],\n",
      "        [ 5.9338e-04, -4.2571e-06,  6.0304e-04,  ...,  4.5232e-05,\n",
      "         -6.1870e-05,  2.4144e-05],\n",
      "        ...,\n",
      "        [ 2.2267e-04, -1.8597e-03,  6.3112e-03,  ...,  6.5503e-04,\n",
      "          9.1363e-04, -1.4925e-04],\n",
      "        [ 4.3737e-03,  3.9889e-03, -9.9833e-03,  ...,  3.1933e-03,\n",
      "          7.0187e-03,  2.6019e-03],\n",
      "        [-1.5407e-04, -1.1256e-04,  2.8448e-04,  ..., -1.9815e-05,\n",
      "          1.0285e-05, -4.1288e-06]], requires_grad=True)\n",
      "conv2.lin_l.weight torch.Size([64, 128]) Parameter containing:\n",
      "tensor([[-4.4135e-03, -2.9915e-04, -2.0621e-03,  ..., -3.2986e-03,\n",
      "          5.3051e-03, -3.2582e-04],\n",
      "        [ 1.2840e-02,  2.3049e-03, -1.8828e-03,  ..., -5.4598e-04,\n",
      "         -6.4018e-03, -1.4101e-04],\n",
      "        [ 1.0962e-01, -1.6691e-04, -9.8358e-04,  ...,  2.8428e-03,\n",
      "          5.8388e-04,  1.2120e-05],\n",
      "        ...,\n",
      "        [ 6.2493e-02, -4.5308e-04, -2.3302e-03,  ..., -1.7622e-03,\n",
      "         -2.9762e-02,  3.5724e-04],\n",
      "        [ 1.1415e-01,  9.9584e-04, -2.0066e-03,  ..., -5.2691e-03,\n",
      "          3.4983e-02, -8.9555e-05],\n",
      "        [ 5.8862e-02,  3.9307e-03,  6.3798e-04,  ..., -2.8029e-03,\n",
      "          5.7572e-02, -1.7139e-04]], requires_grad=True)\n",
      "conv2.lin_l.bias torch.Size([64]) Parameter containing:\n",
      "tensor([ 0.1358,  0.0961,  0.0290,  0.0954,  0.1251,  0.2209,  0.0883,  0.1120,\n",
      "         0.1910,  0.0523,  0.0912,  0.1276,  0.0997,  0.0387,  0.1074,  0.1421,\n",
      "         0.0128,  0.1378,  0.1471,  0.1105,  0.0511,  0.1070,  0.0806,  0.0539,\n",
      "         0.1338,  0.1358,  0.0397,  0.0977,  0.1070,  0.1105,  0.1378,  0.1118,\n",
      "         0.1088,  0.1012,  0.0992,  0.1203,  0.1358,  0.1066,  0.1106,  0.1034,\n",
      "         0.0838,  0.0535,  0.0755,  0.0572,  0.1187,  0.1164,  0.1009,  0.1269,\n",
      "         0.1095,  0.0938,  0.1327,  0.1174,  0.0900,  0.1539,  0.0917,  0.1220,\n",
      "         0.1258,  0.1028,  0.1099,  0.1049,  0.1328,  0.0611, -0.0137,  0.0783],\n",
      "       requires_grad=True)\n",
      "conv2.lin_r.weight torch.Size([64, 128]) Parameter containing:\n",
      "tensor([[-1.2231e-02,  4.8564e-03, -3.5900e-03,  ..., -1.1218e-02,\n",
      "          1.7606e-01, -5.2529e-04],\n",
      "        [ 5.0048e-02,  4.6624e-03, -2.9111e-03,  ..., -5.3197e-03,\n",
      "          1.1720e-01, -2.8938e-04],\n",
      "        [ 3.2082e-01,  8.1563e-04,  1.6166e-04,  ...,  2.7303e-03,\n",
      "          9.6545e-02,  2.3965e-04],\n",
      "        ...,\n",
      "        [ 2.0636e-01, -4.8014e-04, -2.7156e-04,  ..., -1.1494e-03,\n",
      "         -9.0270e-03,  4.0629e-04],\n",
      "        [ 3.7969e-01,  4.4363e-03, -2.6772e-03,  ..., -2.1390e-03,\n",
      "          1.7746e-01,  8.4732e-06],\n",
      "        [ 1.3771e-01,  7.3810e-03,  9.4369e-04,  ...,  1.2354e-03,\n",
      "          1.0400e-01, -2.5538e-04]], requires_grad=True)\n",
      "ff.0.weight torch.Size([64, 64]) Parameter containing:\n",
      "tensor([[-7.6761e-02, -6.9537e-02, -9.5560e-02,  ..., -4.0707e-02,\n",
      "         -8.7224e-02, -5.9796e-03],\n",
      "        [ 3.9282e-02, -2.6414e-02, -6.7098e-02,  ..., -7.7587e-02,\n",
      "         -5.3726e-02,  2.0374e-02],\n",
      "        [ 1.3215e-01,  8.2214e-02, -7.5568e-02,  ..., -1.2226e-01,\n",
      "          1.2636e-02,  8.3413e-02],\n",
      "        ...,\n",
      "        [-2.8299e-04,  9.1100e-02,  3.8494e-05,  ...,  8.0729e-02,\n",
      "         -8.7484e-02, -1.2100e-01],\n",
      "        [-3.0273e-02, -1.1553e-01,  1.2369e-01,  ..., -3.3776e-02,\n",
      "          2.3915e-01,  2.0791e-01],\n",
      "        [-8.0088e-02, -3.2570e-02, -8.1493e-02,  ..., -1.5002e-02,\n",
      "         -6.6060e-02, -2.8338e-03]], requires_grad=True)\n",
      "ff.0.bias torch.Size([64]) Parameter containing:\n",
      "tensor([ 0.0260,  0.0653,  0.1220, -0.0666, -0.0054,  0.1021,  0.0231,  0.0863,\n",
      "        -0.0217,  0.0822, -0.1395, -0.0826,  0.0163,  0.0650, -0.2144, -0.0340,\n",
      "        -0.0018, -0.1740, -0.0760,  0.0884, -0.0701,  0.0975,  0.0423, -0.0045,\n",
      "         0.0031,  0.0620,  0.0105,  0.1318, -0.1393,  0.0883,  0.0619, -0.0625,\n",
      "        -0.0170, -0.0852,  0.0358,  0.0773, -0.1489,  0.1109,  0.0695, -0.0785,\n",
      "        -0.0817,  0.0576,  0.0578, -0.0827,  0.0346,  0.0159,  0.1494,  0.0977,\n",
      "         0.0271,  0.0543,  0.0613, -0.0565,  0.0034, -0.0968,  0.0165, -0.0609,\n",
      "        -0.1200, -0.0585,  0.0607,  0.0174, -0.0322,  0.0042, -0.1028,  0.0574],\n",
      "       requires_grad=True)\n",
      "ff.1.weight torch.Size([70, 64]) Parameter containing:\n",
      "tensor([[ 0.1147, -0.0313, -0.0238,  ...,  0.0010, -0.0407,  0.2517],\n",
      "        [-0.0016,  0.0012, -0.0027,  ..., -0.0014, -0.0078, -0.0011],\n",
      "        [-0.0089, -0.0021,  0.0077,  ..., -0.0031,  0.0086, -0.0015],\n",
      "        ...,\n",
      "        [-0.0023,  0.0044, -0.0027,  ...,  0.0015, -0.0023, -0.0013],\n",
      "        [-0.0020,  0.0013, -0.0031,  ..., -0.0010, -0.0036, -0.0010],\n",
      "        [-0.0025,  0.0011, -0.0010,  ..., -0.0016, -0.0013, -0.0012]],\n",
      "       requires_grad=True)\n",
      "ff.1.bias torch.Size([70]) Parameter containing:\n",
      "tensor([ 6.4444e-02, -1.3625e-02,  6.0491e-03,  2.1133e-02, -7.5508e-03,\n",
      "         3.1718e-01,  5.9701e-03,  1.5346e-02,  1.3608e-01,  3.3916e-01,\n",
      "        -9.8669e-04,  5.2878e-03, -4.0078e-03,  1.1968e-01, -3.4162e-02,\n",
      "        -3.9065e-03, -8.7387e-03, -8.1595e-03, -5.5019e-03,  1.4425e-01,\n",
      "         3.4095e-02, -7.8374e-03,  1.3885e-01,  1.6567e-03, -1.7103e-03,\n",
      "        -1.3647e-02,  4.3604e-03, -1.4233e-01,  2.3241e-03, -1.9931e-01,\n",
      "         2.4019e-03,  3.2190e-01, -7.3551e-03, -4.3939e-02,  2.1507e-01,\n",
      "        -7.9734e-03,  1.2535e-02, -8.9715e-04,  2.3053e-03, -6.1982e-02,\n",
      "         1.5495e-01, -4.8048e-02, -8.4954e-05, -7.1046e-03,  7.6763e-04,\n",
      "        -5.3135e-03, -6.8628e-03, -2.6252e-03,  1.6622e-01,  7.4988e-03,\n",
      "        -4.1988e-03,  7.4380e-02,  6.7568e-02,  5.9756e-02, -4.7221e-03,\n",
      "         6.0692e-02,  7.6844e-03,  8.8954e-04, -2.9468e-03,  5.0522e-03,\n",
      "         1.0697e-03,  4.0740e-05, -8.4690e-04,  5.6793e-03,  1.2021e-03,\n",
      "        -1.8508e-03, -4.4432e-03, -6.5801e-03, -8.8533e-03, -1.0859e-02],\n",
      "       requires_grad=True)\n"
     ]
    }
   ],
   "source": [
    "for i,j in model.named_parameters():\n",
    "    print(i,j.shape,j)"
   ]
  },
  {
   "cell_type": "code",
   "execution_count": 44,
   "id": "5555f97b-8da5-41c5-919d-dd3b9efb5b34",
   "metadata": {
    "tags": []
   },
   "outputs": [],
   "source": [
    "accuracies = pd.read_csv(\"/Users/rustamwarwick/Desktop/output_full.txt\", header=None)[0].values"
   ]
  },
  {
   "cell_type": "code",
   "execution_count": 46,
   "id": "6318f7fc-cdeb-4414-b530-a3d56471ed57",
   "metadata": {},
   "outputs": [
    {
     "data": {
      "text/plain": [
       "[<matplotlib.lines.Line2D at 0x16828eca0>]"
      ]
     },
     "execution_count": 46,
     "metadata": {},
     "output_type": "execute_result"
    },
    {
     "data": {
      "image/png": "[encoded data removed]",
      "text/plain": [
       "<Figure size 432x288 with 1 Axes>"
      ]
     },
     "metadata": {
      "needs_background": "light"
     },
     "output_type": "display_data"
    }
   ],
   "source": [
    "plt.plot( range(len(accuracies)), accuracies)"
   ]
  },
  {
   "cell_type": "code",
   "execution_count": null,
   "id": "65ba8929-9638-4fc1-b311-9b6ac931ed49",
   "metadata": {},
   "outputs": [],
   "source": []
  }
 ],
 "metadata": {
  "kernelspec": {
   "display_name": "Python 3",
   "language": "python",
   "name": "python3"
  },
  "language_info": {
   "codemirror_mode": {
    "name": "ipython",
    "version": 3
   },
   "file_extension": ".py",
   "mimetype": "text/x-python",
   "name": "python",
   "nbconvert_exporter": "python",
   "pygments_lexer": "ipython3",
   "version": "3.9.12"
  }
 },
 "nbformat": 4,
 "nbformat_minor": 5
}
