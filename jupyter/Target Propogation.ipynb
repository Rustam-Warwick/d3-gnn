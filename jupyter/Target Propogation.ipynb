{
 "cells": [
  {
   "cell_type": "code",
   "execution_count": 1,
   "id": "a8c702a0-f421-4d55-b833-8e207f91ceeb",
   "metadata": {
    "tags": []
   },
   "outputs": [
    {
     "name": "stderr",
     "output_type": "stream",
     "text": [
      "/Users/rustamwarwick/miniconda3/envs/flink/lib/python3.8/site-packages/tqdm/auto.py:22: TqdmWarning: IProgress not found. Please update jupyter and ipywidgets. See https://ipywidgets.readthedocs.io/en/stable/user_install.html\n",
      "  from .autonotebook import tqdm as notebook_tqdm\n"
     ]
    }
   ],
   "source": [
    "import torch\n",
    "import torch.nn.functional as F\n",
    "from torch_geometric.data import Data, DataLoader\n",
    "from torch_geometric.datasets import CoraFull, BitcoinOTC\n",
    "import matplotlib.pyplot as plt\n",
    "from torch_geometric.nn import SAGEConv\n",
    "import pandas as pd\n",
    "import os\n",
    "import numpy as np\n",
    "from datetime import datetime"
   ]
  },
  {
   "cell_type": "markdown",
   "id": "d4988f99-be7b-4994-84cc-b0a971e2a9bd",
   "metadata": {
    "tags": []
   },
   "source": [
    "#### Create Dataset"
   ]
  },
  {
   "cell_type": "code",
   "execution_count": 2,
   "id": "95997c98-564b-4fa7-8ab8-8ddd967d9733",
   "metadata": {},
   "outputs": [
    {
     "name": "stderr",
     "output_type": "stream",
     "text": [
      "Downloading https://github.com/abojchevski/graph2gauss/raw/master/data/cora.npz\n",
      "Processing...\n",
      "Done!\n"
     ]
    }
   ],
   "source": [
    "dataset = CoraFull(\"./datasets\")"
   ]
  },
  {
   "cell_type": "code",
   "execution_count": null,
   "id": "e41a4c7f-e85f-4d6d-bdad-b8a9a77cf02f",
   "metadata": {},
   "outputs": [],
   "source": []
  },
  {
   "cell_type": "markdown",
   "id": "bc102591-6963-41bf-9aaf-1ee964b175b5",
   "metadata": {
    "jp-MarkdownHeadingCollapsed": true,
    "tags": []
   },
   "source": [
    "### Trash"
   ]
  },
  {
   "cell_type": "code",
   "execution_count": null,
   "id": "cb5d065e-995d-4c6d-87eb-f2754724ea98",
   "metadata": {},
   "outputs": [],
   "source": [
    "sorted_ratings = pd.read_csv(\"../datasets/movielens/sorted_ratings.csv\", header=None)"
   ]
  },
  {
   "cell_type": "code",
   "execution_count": 85,
   "id": "2967e219-a717-46cc-afec-eb157f24c3d9",
   "metadata": {},
   "outputs": [],
   "source": [
    "num_nodes = np.unique(np.hstack((sorted_ratings[0].unique(), sorted_ratings[1].unique()))).size\n",
    "x = np.random.normal(size=(num_nodes, 7))\n",
    "edge_index = torch.tensor(np.vstack((sorted_ratings[0].values, sorted_ratings[1].values)))\n",
    "\n",
    "data = Data(x=x, edge_index=edge_index)\n"
   ]
  },
  {
   "cell_type": "code",
   "execution_count": 108,
   "id": "070dbc67-5ec7-4553-9e52-756433fd57ca",
   "metadata": {
    "tags": []
   },
   "outputs": [],
   "source": [
    "data.num_node_features = 7"
   ]
  },
  {
   "cell_type": "markdown",
   "id": "e80f3013-9631-42c6-a454-58e33c7a8cf0",
   "metadata": {
    "tags": []
   },
   "source": [
    "### Model Definitions"
   ]
  },
  {
   "cell_type": "code",
   "execution_count": 23,
   "id": "82486e79-38ab-487f-8213-b91267fd7f47",
   "metadata": {},
   "outputs": [],
   "source": [
    "class GraphSage(torch.nn.Module):\n",
    "    def __init__(self,):\n",
    "        super().__init__()\n",
    "        self.conv1 = SAGEConv(dataset.num_node_features, 128, bias=False)\n",
    "        self.conv2 = SAGEConv(128, 64, bias=False)\n",
    "        self.ff = torch.nn.Sequential(\n",
    "            torch.nn.Linear(64,64, bias=False),\n",
    "            torch.nn.Linear(64, dataset.num_classes, bias=False)\n",
    "        )\n",
    "\n",
    "    def forward(self, data):\n",
    "        x, edge_index = data.x, data.edge_index\n",
    "        x = self.conv1(x, edge_index)\n",
    "        x = F.relu(x)\n",
    "        x = self.conv2(x, edge_index)\n",
    "        x = F.relu(x)\n",
    "        if self.training:\n",
    "            x = F.dropout(x, 0.2)\n",
    "        x = self.ff(x)\n",
    "        return F.softmax(x)\n",
    "model = GraphSage()"
   ]
  },
  {
   "cell_type": "markdown",
   "id": "fddd2725-7283-4161-b233-2c7761d605bf",
   "metadata": {
    "tags": []
   },
   "source": [
    "### Training Loop for 2 layered GCN Normal"
   ]
  },
  {
   "cell_type": "code",
   "execution_count": 24,
   "id": "f78c06b4-6cb5-4243-84ff-e8b3f188f581",
   "metadata": {},
   "outputs": [],
   "source": [
    "optimizer = torch.optim.Adam(model.parameters(), lr=0.01)\n",
    "model.train()\n",
    "losses = list()"
   ]
  },
  {
   "cell_type": "code",
   "execution_count": 28,
   "id": "517826a8-94a7-44fb-9562-46f0bbbc1c5e",
   "metadata": {
    "collapsed": true,
    "jupyter": {
     "outputs_hidden": true
    },
    "tags": []
   },
   "outputs": [
    {
     "name": "stderr",
     "output_type": "stream",
     "text": [
      "<ipython-input-23-e6303e557e94>:20: UserWarning: Implicit dimension choice for softmax has been deprecated. Change the call to include dim=X as an argument.\n",
      "  return F.softmax(x)\n"
     ]
    },
    {
     "name": "stdout",
     "output_type": "stream",
     "text": [
      "tensor(4.0878, grad_fn=<NllLossBackward0>)\n",
      "tensor(4.0794, grad_fn=<NllLossBackward0>)\n",
      "tensor(4.0708, grad_fn=<NllLossBackward0>)\n",
      "tensor(4.0541, grad_fn=<NllLossBackward0>)\n",
      "tensor(4.0451, grad_fn=<NllLossBackward0>)\n",
      "tensor(4.0345, grad_fn=<NllLossBackward0>)\n",
      "tensor(4.0215, grad_fn=<NllLossBackward0>)\n",
      "tensor(4.0174, grad_fn=<NllLossBackward0>)\n",
      "tensor(4.0101, grad_fn=<NllLossBackward0>)\n",
      "tensor(3.9995, grad_fn=<NllLossBackward0>)\n",
      "tensor(3.9885, grad_fn=<NllLossBackward0>)\n",
      "tensor(3.9882, grad_fn=<NllLossBackward0>)\n",
      "tensor(3.9703, grad_fn=<NllLossBackward0>)\n",
      "tensor(3.9636, grad_fn=<NllLossBackward0>)\n",
      "tensor(3.9595, grad_fn=<NllLossBackward0>)\n",
      "tensor(3.9470, grad_fn=<NllLossBackward0>)\n",
      "tensor(3.9343, grad_fn=<NllLossBackward0>)\n",
      "tensor(3.9296, grad_fn=<NllLossBackward0>)\n",
      "tensor(3.9167, grad_fn=<NllLossBackward0>)\n",
      "tensor(3.9094, grad_fn=<NllLossBackward0>)\n",
      "tensor(3.9027, grad_fn=<NllLossBackward0>)\n",
      "tensor(3.8980, grad_fn=<NllLossBackward0>)\n",
      "tensor(3.8950, grad_fn=<NllLossBackward0>)\n",
      "tensor(3.8895, grad_fn=<NllLossBackward0>)\n",
      "tensor(3.8860, grad_fn=<NllLossBackward0>)\n",
      "tensor(3.8804, grad_fn=<NllLossBackward0>)\n",
      "tensor(3.8784, grad_fn=<NllLossBackward0>)\n",
      "tensor(3.8744, grad_fn=<NllLossBackward0>)\n",
      "tensor(3.8711, grad_fn=<NllLossBackward0>)\n",
      "tensor(3.8685, grad_fn=<NllLossBackward0>)\n",
      "tensor(3.8664, grad_fn=<NllLossBackward0>)\n",
      "tensor(3.8636, grad_fn=<NllLossBackward0>)\n",
      "tensor(3.8595, grad_fn=<NllLossBackward0>)\n",
      "tensor(3.8558, grad_fn=<NllLossBackward0>)\n",
      "tensor(3.8540, grad_fn=<NllLossBackward0>)\n",
      "tensor(3.8454, grad_fn=<NllLossBackward0>)\n",
      "tensor(3.8404, grad_fn=<NllLossBackward0>)\n",
      "tensor(3.8304, grad_fn=<NllLossBackward0>)\n",
      "tensor(3.8227, grad_fn=<NllLossBackward0>)\n",
      "tensor(3.8143, grad_fn=<NllLossBackward0>)\n",
      "tensor(3.8074, grad_fn=<NllLossBackward0>)\n",
      "tensor(3.8035, grad_fn=<NllLossBackward0>)\n",
      "tensor(3.7988, grad_fn=<NllLossBackward0>)\n",
      "tensor(3.7949, grad_fn=<NllLossBackward0>)\n",
      "tensor(3.7904, grad_fn=<NllLossBackward0>)\n",
      "tensor(3.7872, grad_fn=<NllLossBackward0>)\n",
      "tensor(3.7812, grad_fn=<NllLossBackward0>)\n",
      "tensor(3.7743, grad_fn=<NllLossBackward0>)\n",
      "tensor(3.7704, grad_fn=<NllLossBackward0>)\n",
      "tensor(3.7641, grad_fn=<NllLossBackward0>)\n"
     ]
    }
   ],
   "source": [
    "for epoch in range(50):\n",
    "    optimizer.zero_grad()\n",
    "    out = model(dataset[0])\n",
    "    loss = F.cross_entropy(out, dataset[0].y)\n",
    "    loss.backward()\n",
    "    optimizer.step()\n",
    "    print(loss)\n",
    "    losses.append(loss.detach())\n",
    "    \n"
   ]
  },
  {
   "cell_type": "code",
   "execution_count": 29,
   "id": "a217ebc3-1322-4a7b-8d75-a0c9fb9ead41",
   "metadata": {},
   "outputs": [
    {
     "data": {
      "text/plain": [
       "[<matplotlib.lines.Line2D at 0x7f145e890040>]"
      ]
     },
     "execution_count": 29,
     "metadata": {},
     "output_type": "execute_result"
    },
    {
     "data": {
      "image/png": "[encoded data removed]",
      "text/plain": [
       "<Figure size 432x288 with 1 Axes>"
      ]
     },
     "metadata": {
      "needs_background": "light"
     },
     "output_type": "display_data"
    }
   ],
   "source": [
    "plt.plot(range(0, len(losses) ),losses)"
   ]
  },
  {
   "cell_type": "markdown",
   "id": "e7b7f828-0a23-428f-83df-a0cd2ac1cb94",
   "metadata": {
    "jp-MarkdownHeadingCollapsed": true,
    "tags": []
   },
   "source": [
    "### Saving model weights for Java"
   ]
  },
  {
   "cell_type": "code",
   "execution_count": 68,
   "id": "a9cbcacf-7c15-4d8f-afcc-751be2d231da",
   "metadata": {},
   "outputs": [],
   "source": [
    "def save_model(model_name):\n",
    "    directory = os.path.join(os.path.curdir, \"models/%s-%s/\"%(model_name, datetime.now().date()))\n",
    "    if not os.path.exists(directory):\n",
    "        os.makedirs(directory)\n",
    "    i = 0\n",
    "    for name, param in model.named_parameters():\n",
    "        np.save(os.path.join(directory, str(i)), param.data.numpy())\n",
    "        i+=1"
   ]
  },
  {
   "cell_type": "code",
   "execution_count": 1,
   "id": "754ccade-8d18-4611-aeab-4abfb286e002",
   "metadata": {},
   "outputs": [
    {
     "ename": "NameError",
     "evalue": "name 'dataset' is not defined",
     "output_type": "error",
     "traceback": [
      "\u001b[0;31m---------------------------------------------------------------------------\u001b[0m",
      "\u001b[0;31mNameError\u001b[0m                                 Traceback (most recent call last)",
      "Input \u001b[0;32mIn [1]\u001b[0m, in \u001b[0;36m<cell line: 1>\u001b[0;34m()\u001b[0m\n\u001b[0;32m----> 1\u001b[0m \u001b[43mdataset\u001b[49m\u001b[38;5;241m.\u001b[39mdata\u001b[38;5;241m.\u001b[39mx\n",
      "\u001b[0;31mNameError\u001b[0m: name 'dataset' is not defined"
     ]
    }
   ],
   "source": [
    "dataset.data.x"
   ]
  },
  {
   "cell_type": "code",
   "execution_count": 69,
   "id": "531b0542-7270-4507-b833-b1a735c58695",
   "metadata": {},
   "outputs": [],
   "source": [
    "save_model(\"GraphSage-CoraFull\")"
   ]
  },
  {
   "cell_type": "code",
   "execution_count": 72,
   "id": "62ba0929-445b-4418-8530-2656dadc3afc",
   "metadata": {
    "collapsed": true,
    "jupyter": {
     "outputs_hidden": true
    },
    "tags": []
   },
   "outputs": [
    {
     "name": "stdout",
     "output_type": "stream",
     "text": [
      "conv1.lin_l.weight tensor([[-0.0606, -0.2385, -0.0778,  ...,  0.1222,  0.0895, -0.0097],\n",
      "        [-0.0367, -0.0140, -0.0205,  ...,  0.0379, -0.0228, -0.0191],\n",
      "        [-0.0592, -0.0034,  0.0365,  ...,  0.0265,  0.0212, -0.0301],\n",
      "        ...,\n",
      "        [ 0.0026, -0.1265, -0.1162,  ...,  0.1333,  0.1493,  0.0242],\n",
      "        [-0.0555,  0.0054, -0.0056,  ...,  0.1030, -0.0699, -0.0546],\n",
      "        [ 0.1464, -0.0783, -0.0944,  ...,  0.0465,  0.0515,  0.2386]])\n",
      "conv1.lin_r.weight tensor([[-0.0068, -0.0450, -0.0629,  ...,  0.1021,  0.1210,  0.0416],\n",
      "        [-0.0438,  0.0249,  0.0014,  ...,  0.0209, -0.0314,  0.0092],\n",
      "        [-0.0641, -0.0238, -0.0403,  ...,  0.0426,  0.0328, -0.0088],\n",
      "        ...,\n",
      "        [ 0.0830, -0.1683, -0.0705,  ...,  0.0725,  0.0336,  0.1589],\n",
      "        [-0.0721,  0.0825, -0.0338,  ..., -0.0168, -0.0849, -0.0915],\n",
      "        [ 0.2411,  0.1704, -0.0332,  ...,  0.0824, -0.0448,  0.1163]])\n",
      "conv2.lin_l.weight tensor([[-6.1218e-02,  1.3760e-01,  1.1934e-01,  ...,  1.2790e-01,\n",
      "         -1.9415e-01, -1.1776e-03],\n",
      "        [ 2.1528e-02, -5.9738e-02,  1.6335e-02,  ..., -1.3806e-01,\n",
      "         -3.9790e-02, -1.2386e-04],\n",
      "        [-7.8651e-02, -1.2638e-01,  2.0551e-03,  ..., -1.0306e-01,\n",
      "         -6.1089e-02,  2.7573e-02],\n",
      "        ...,\n",
      "        [-2.6308e-02,  1.2848e-01,  8.0792e-02,  ...,  9.9783e-03,\n",
      "         -2.3858e-01,  9.3477e-02],\n",
      "        [-1.0078e-01,  2.0963e-02,  1.1288e-01,  ..., -1.2480e-02,\n",
      "          2.2910e-01, -6.7833e-02],\n",
      "        [-7.8222e-02, -1.1478e-01,  2.1007e-02,  ..., -3.3505e-02,\n",
      "          7.8081e-02, -6.9772e-02]])\n",
      "conv2.lin_r.weight tensor([[-0.1784,  0.0636,  0.0194,  ...,  0.1583, -0.3479, -0.1127],\n",
      "        [-0.1397, -0.0611,  0.0047,  ..., -0.0172, -0.0127, -0.0337],\n",
      "        [-0.0817, -0.0150, -0.0736,  ..., -0.1359, -0.0949, -0.1318],\n",
      "        ...,\n",
      "        [ 0.0146,  0.0280,  0.0645,  ..., -0.1038, -0.1695, -0.0218],\n",
      "        [-0.0637,  0.0880,  0.0026,  ...,  0.0064,  0.3939, -0.1134],\n",
      "        [-0.1100, -0.1090, -0.0392,  ..., -0.1157,  0.0973, -0.0050]])\n",
      "ff.0.weight tensor([[ 0.2365, -0.0198,  0.1178,  ..., -0.1513,  0.0057, -0.0746],\n",
      "        [-0.0007,  0.0644,  0.0113,  ...,  0.0735,  0.1536, -0.0657],\n",
      "        [ 0.1995,  0.0452, -0.0556,  ..., -0.0813,  0.0876, -0.1203],\n",
      "        ...,\n",
      "        [-0.0618,  0.1131,  0.0963,  ...,  0.1105, -0.0019, -0.0262],\n",
      "        [ 0.1418,  0.0890,  0.0877,  ..., -0.1767, -0.1486, -0.0428],\n",
      "        [-0.0776, -0.1628,  0.0354,  ..., -0.0975, -0.1304, -0.0454]])\n",
      "ff.1.weight tensor([[ 0.0942, -0.1830,  0.1879,  ..., -0.0169, -0.0942, -0.2375],\n",
      "        [-0.1973,  0.0627,  0.1410,  ..., -0.0222, -0.1297, -0.0912],\n",
      "        [-0.0687,  0.1219,  0.2889,  ..., -0.1244,  0.0698, -0.0885],\n",
      "        ...,\n",
      "        [-0.1519, -0.0017,  0.0437,  ...,  0.1508, -0.2555,  0.0074],\n",
      "        [-0.2158, -0.0240,  0.1024,  ...,  0.0146, -0.0966,  0.0232],\n",
      "        [-0.1349,  0.0516, -0.0420,  ...,  0.1285, -0.1313,  0.0224]])\n"
     ]
    }
   ],
   "source": [
    "for name, param in model.named_parameters():\n",
    "        print(name, param.data\n",
    "             )"
   ]
  },
  {
   "cell_type": "markdown",
   "id": "7de30b62-3c3b-48b7-a196-f26a61c63ebe",
   "metadata": {
    "tags": []
   },
   "source": [
    "### Saving Graph for Java"
   ]
  },
  {
   "cell_type": "code",
   "execution_count": 14,
   "id": "84aed7e0-9c03-463f-ae76-c07fa99256e8",
   "metadata": {},
   "outputs": [],
   "source": [
    "edges = pd.DataFrame(dataset.data.edge_index.numpy().T)\n",
    "edges.to_csv(\"datasets/cora/edges\", index = False, header=False)"
   ]
  },
  {
   "cell_type": "code",
   "execution_count": 11,
   "id": "611efe21-7d5a-4480-934a-a3b5a5b630a7",
   "metadata": {
    "tags": []
   },
   "outputs": [],
   "source": [
    "vertices = pd.DataFrame({\n",
    "\"id\": list(range(0, dataset.data.x.size()[0])),\n",
    "\"feature\": dataset.data.x.numpy().tolist(),\n",
    "\"label\" : dataset.data.y.numpy()\n",
    "}).to_csv(\"datasets/cora/vertices\", index = False, header = False)"
   ]
  },
  {
   "cell_type": "code",
   "execution_count": 21,
   "id": "331470bf-b644-4b75-90fb-59f2ec251349",
   "metadata": {},
   "outputs": [],
   "source": [
    "labels = pd.DataFrame({\n",
    "     \"id\": list(range(0, dataset.data.y.size()[0])),\n",
    "    \"label\": dataset.data.y.numpy() \n",
    "})\n",
    "labels.to_csv(\"datasets/cora/labels\", index = False, header = False)"
   ]
  },
  {
   "cell_type": "code",
   "execution_count": null,
   "id": "cd3d53dd-2c6d-4af0-bce1-484169023711",
   "metadata": {},
   "outputs": [],
   "source": []
  }
 ],
 "metadata": {
  "kernelspec": {
   "display_name": "Python 3 (ipykernel)",
   "language": "python",
   "name": "python3"
  },
  "language_info": {
   "codemirror_mode": {
    "name": "ipython",
    "version": 3
   },
   "file_extension": ".py",
   "mimetype": "text/x-python",
   "name": "python",
   "nbconvert_exporter": "python",
   "pygments_lexer": "ipython3",
   "version": "3.8.12"
  }
 },
 "nbformat": 4,
 "nbformat_minor": 5
}
