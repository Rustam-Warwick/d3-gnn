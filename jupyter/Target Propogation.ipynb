{
 "cells": [
  {
   "cell_type": "code",
   "execution_count": 259,
   "id": "a8c702a0-f421-4d55-b833-8e207f91ceeb",
   "metadata": {},
   "outputs": [],
   "source": [
    "import torch\n",
    "import torch.nn.functional as F\n",
    "from torch_geometric.data import Data, DataLoader\n",
    "from torch_geometric.datasets import CoraFull, BitcoinOTC\n",
    "import matplotlib.pyplot as plt\n",
    "from torch_geometric.nn import SAGEConv\n",
    "import pandas as pd\n",
    "import numpy as np"
   ]
  },
  {
   "cell_type": "markdown",
   "id": "d4988f99-be7b-4994-84cc-b0a971e2a9bd",
   "metadata": {
    "tags": []
   },
   "source": [
    "#### Create Dataset"
   ]
  },
  {
   "cell_type": "code",
   "execution_count": 291,
   "id": "95997c98-564b-4fa7-8ab8-8ddd967d9733",
   "metadata": {},
   "outputs": [
    {
     "name": "stderr",
     "output_type": "stream",
     "text": [
      "Downloading https://github.com/abojchevski/graph2gauss/raw/master/data/cora.npz\n",
      "Processing...\n",
      "Done!\n"
     ]
    }
   ],
   "source": [
    "dataset = CoraFull(\"./cora\")"
   ]
  },
  {
   "cell_type": "code",
   "execution_count": 305,
   "id": "e41a4c7f-e85f-4d6d-bdad-b8a9a77cf02f",
   "metadata": {},
   "outputs": [
    {
     "data": {
      "text/plain": [
       "70"
      ]
     },
     "execution_count": 305,
     "metadata": {},
     "output_type": "execute_result"
    }
   ],
   "source": [
    "dataset.num_classes"
   ]
  },
  {
   "cell_type": "markdown",
   "id": "bc102591-6963-41bf-9aaf-1ee964b175b5",
   "metadata": {
    "jp-MarkdownHeadingCollapsed": true,
    "tags": []
   },
   "source": [
    "### Trash"
   ]
  },
  {
   "cell_type": "code",
   "execution_count": null,
   "id": "cb5d065e-995d-4c6d-87eb-f2754724ea98",
   "metadata": {},
   "outputs": [],
   "source": [
    "sorted_ratings = pd.read_csv(\"../datasets/movielens/sorted_ratings.csv\", header=None)"
   ]
  },
  {
   "cell_type": "code",
   "execution_count": 85,
   "id": "2967e219-a717-46cc-afec-eb157f24c3d9",
   "metadata": {},
   "outputs": [],
   "source": [
    "num_nodes = np.unique(np.hstack((sorted_ratings[0].unique(), sorted_ratings[1].unique()))).size\n",
    "x = np.random.normal(size=(num_nodes, 7))\n",
    "edge_index = torch.tensor(np.vstack((sorted_ratings[0].values, sorted_ratings[1].values)))\n",
    "\n",
    "data = Data(x=x, edge_index=edge_index)\n"
   ]
  },
  {
   "cell_type": "code",
   "execution_count": 108,
   "id": "070dbc67-5ec7-4553-9e52-756433fd57ca",
   "metadata": {
    "tags": []
   },
   "outputs": [],
   "source": [
    "data.num_node_features = 7"
   ]
  },
  {
   "cell_type": "markdown",
   "id": "e80f3013-9631-42c6-a454-58e33c7a8cf0",
   "metadata": {},
   "source": [
    "### Model Definitions"
   ]
  },
  {
   "cell_type": "code",
   "execution_count": 306,
   "id": "82486e79-38ab-487f-8213-b91267fd7f47",
   "metadata": {},
   "outputs": [],
   "source": [
    "class GraphSage(torch.nn.Module):\n",
    "    def __init__(self,):\n",
    "        super().__init__()\n",
    "        self.conv1 = SAGEConv(dataset.num_node_features, 128)\n",
    "        self.conv2 = SAGEConv(128, 64)\n",
    "        self.ff = torch.nn.Sequential(\n",
    "            torch.nn.Linear(64,64),\n",
    "            torch.nn.Linear(64, dataset.num_classes)\n",
    "        )\n",
    "\n",
    "    def forward(self, data):\n",
    "        x, edge_index = data.x, data.edge_index\n",
    "        x = self.conv1(x, edge_index)\n",
    "        x = F.relu(x)\n",
    "        x = self.conv2(x, edge_index)\n",
    "        x = F.relu(x)\n",
    "        if self.training:\n",
    "            x = F.dropout(x, 0.2)\n",
    "        x = self.ff(x)\n",
    "        return F.softmax(x)\n",
    "model = GraphSage()"
   ]
  },
  {
   "cell_type": "markdown",
   "id": "fddd2725-7283-4161-b233-2c7761d605bf",
   "metadata": {
    "tags": []
   },
   "source": [
    "### Training Loop for 2 layered GCN Normal"
   ]
  },
  {
   "cell_type": "code",
   "execution_count": 307,
   "id": "f78c06b4-6cb5-4243-84ff-e8b3f188f581",
   "metadata": {},
   "outputs": [
    {
     "data": {
      "text/plain": [
       "GraphSage(\n",
       "  (conv1): SAGEConv(8710, 128)\n",
       "  (conv2): SAGEConv(128, 64)\n",
       "  (ff): Sequential(\n",
       "    (0): Linear(in_features=64, out_features=64, bias=True)\n",
       "    (1): Linear(in_features=64, out_features=70, bias=True)\n",
       "  )\n",
       ")"
      ]
     },
     "execution_count": 307,
     "metadata": {},
     "output_type": "execute_result"
    }
   ],
   "source": [
    "optimizer = torch.optim.Adam(model.parameters(), lr=0.01)\n",
    "model.train()\n",
    "losses = list()"
   ]
  },
  {
   "cell_type": "code",
   "execution_count": 310,
   "id": "517826a8-94a7-44fb-9562-46f0bbbc1c5e",
   "metadata": {
    "collapsed": true,
    "jupyter": {
     "outputs_hidden": true
    },
    "tags": []
   },
   "outputs": [
    {
     "name": "stderr",
     "output_type": "stream",
     "text": [
      "/var/folders/w0/7zdj3jy55nbfjlghkr0pc_lh0000gn/T/ipykernel_12247/960677310.py:20: UserWarning: Implicit dimension choice for softmax has been deprecated. Change the call to include dim=X as an argument.\n",
      "  return F.softmax(x)\n"
     ]
    },
    {
     "name": "stdout",
     "output_type": "stream",
     "text": [
      "tensor(4.0841, grad_fn=<NllLossBackward0>)\n",
      "tensor(4.0728, grad_fn=<NllLossBackward0>)\n",
      "tensor(4.0433, grad_fn=<NllLossBackward0>)\n",
      "tensor(4.0221, grad_fn=<NllLossBackward0>)\n",
      "tensor(3.9968, grad_fn=<NllLossBackward0>)\n",
      "tensor(3.9678, grad_fn=<NllLossBackward0>)\n",
      "tensor(3.9513, grad_fn=<NllLossBackward0>)\n",
      "tensor(3.9289, grad_fn=<NllLossBackward0>)\n",
      "tensor(3.9119, grad_fn=<NllLossBackward0>)\n",
      "tensor(3.8989, grad_fn=<NllLossBackward0>)\n",
      "tensor(3.8871, grad_fn=<NllLossBackward0>)\n",
      "tensor(3.8781, grad_fn=<NllLossBackward0>)\n",
      "tensor(3.8699, grad_fn=<NllLossBackward0>)\n",
      "tensor(3.8611, grad_fn=<NllLossBackward0>)\n",
      "tensor(3.8544, grad_fn=<NllLossBackward0>)\n",
      "tensor(3.8499, grad_fn=<NllLossBackward0>)\n",
      "tensor(3.8453, grad_fn=<NllLossBackward0>)\n",
      "tensor(3.8403, grad_fn=<NllLossBackward0>)\n",
      "tensor(3.8380, grad_fn=<NllLossBackward0>)\n",
      "tensor(3.8347, grad_fn=<NllLossBackward0>)\n"
     ]
    },
    {
     "ename": "KeyboardInterrupt",
     "evalue": "",
     "output_type": "error",
     "traceback": [
      "\u001b[0;31m---------------------------------------------------------------------------\u001b[0m",
      "\u001b[0;31mKeyboardInterrupt\u001b[0m                         Traceback (most recent call last)",
      "Input \u001b[0;32mIn [310]\u001b[0m, in \u001b[0;36m<cell line: 1>\u001b[0;34m()\u001b[0m\n\u001b[1;32m      1\u001b[0m \u001b[38;5;28;01mfor\u001b[39;00m epoch \u001b[38;5;129;01min\u001b[39;00m \u001b[38;5;28mrange\u001b[39m(\u001b[38;5;241m50\u001b[39m):\n\u001b[1;32m      2\u001b[0m     optimizer\u001b[38;5;241m.\u001b[39mzero_grad()\n\u001b[0;32m----> 3\u001b[0m     out \u001b[38;5;241m=\u001b[39m \u001b[43mmodel\u001b[49m\u001b[43m(\u001b[49m\u001b[43mdataset\u001b[49m\u001b[43m[\u001b[49m\u001b[38;5;241;43m0\u001b[39;49m\u001b[43m]\u001b[49m\u001b[43m)\u001b[49m\n\u001b[1;32m      4\u001b[0m     loss \u001b[38;5;241m=\u001b[39m F\u001b[38;5;241m.\u001b[39mcross_entropy(out, dataset[\u001b[38;5;241m0\u001b[39m]\u001b[38;5;241m.\u001b[39my)\n\u001b[1;32m      5\u001b[0m     loss\u001b[38;5;241m.\u001b[39mbackward()\n",
      "File \u001b[0;32m~/miniconda3/envs/flink/lib/python3.8/site-packages/torch/nn/modules/module.py:1102\u001b[0m, in \u001b[0;36mModule._call_impl\u001b[0;34m(self, *input, **kwargs)\u001b[0m\n\u001b[1;32m   1098\u001b[0m \u001b[38;5;66;03m# If we don't have any hooks, we want to skip the rest of the logic in\u001b[39;00m\n\u001b[1;32m   1099\u001b[0m \u001b[38;5;66;03m# this function, and just call forward.\u001b[39;00m\n\u001b[1;32m   1100\u001b[0m \u001b[38;5;28;01mif\u001b[39;00m \u001b[38;5;129;01mnot\u001b[39;00m (\u001b[38;5;28mself\u001b[39m\u001b[38;5;241m.\u001b[39m_backward_hooks \u001b[38;5;129;01mor\u001b[39;00m \u001b[38;5;28mself\u001b[39m\u001b[38;5;241m.\u001b[39m_forward_hooks \u001b[38;5;129;01mor\u001b[39;00m \u001b[38;5;28mself\u001b[39m\u001b[38;5;241m.\u001b[39m_forward_pre_hooks \u001b[38;5;129;01mor\u001b[39;00m _global_backward_hooks\n\u001b[1;32m   1101\u001b[0m         \u001b[38;5;129;01mor\u001b[39;00m _global_forward_hooks \u001b[38;5;129;01mor\u001b[39;00m _global_forward_pre_hooks):\n\u001b[0;32m-> 1102\u001b[0m     \u001b[38;5;28;01mreturn\u001b[39;00m \u001b[43mforward_call\u001b[49m\u001b[43m(\u001b[49m\u001b[38;5;241;43m*\u001b[39;49m\u001b[38;5;28;43minput\u001b[39;49m\u001b[43m,\u001b[49m\u001b[43m \u001b[49m\u001b[38;5;241;43m*\u001b[39;49m\u001b[38;5;241;43m*\u001b[39;49m\u001b[43mkwargs\u001b[49m\u001b[43m)\u001b[49m\n\u001b[1;32m   1103\u001b[0m \u001b[38;5;66;03m# Do not call functions when jit is used\u001b[39;00m\n\u001b[1;32m   1104\u001b[0m full_backward_hooks, non_full_backward_hooks \u001b[38;5;241m=\u001b[39m [], []\n",
      "Input \u001b[0;32mIn [306]\u001b[0m, in \u001b[0;36mGraphSage.forward\u001b[0;34m(self, data)\u001b[0m\n\u001b[1;32m     11\u001b[0m \u001b[38;5;28;01mdef\u001b[39;00m \u001b[38;5;21mforward\u001b[39m(\u001b[38;5;28mself\u001b[39m, data):\n\u001b[1;32m     12\u001b[0m     x, edge_index \u001b[38;5;241m=\u001b[39m data\u001b[38;5;241m.\u001b[39mx, data\u001b[38;5;241m.\u001b[39medge_index\n\u001b[0;32m---> 13\u001b[0m     x \u001b[38;5;241m=\u001b[39m \u001b[38;5;28;43mself\u001b[39;49m\u001b[38;5;241;43m.\u001b[39;49m\u001b[43mconv1\u001b[49m\u001b[43m(\u001b[49m\u001b[43mx\u001b[49m\u001b[43m,\u001b[49m\u001b[43m \u001b[49m\u001b[43medge_index\u001b[49m\u001b[43m)\u001b[49m\n\u001b[1;32m     14\u001b[0m     x \u001b[38;5;241m=\u001b[39m F\u001b[38;5;241m.\u001b[39mrelu(x)\n\u001b[1;32m     15\u001b[0m     x \u001b[38;5;241m=\u001b[39m \u001b[38;5;28mself\u001b[39m\u001b[38;5;241m.\u001b[39mconv2(x, edge_index)\n",
      "File \u001b[0;32m~/miniconda3/envs/flink/lib/python3.8/site-packages/torch/nn/modules/module.py:1102\u001b[0m, in \u001b[0;36mModule._call_impl\u001b[0;34m(self, *input, **kwargs)\u001b[0m\n\u001b[1;32m   1098\u001b[0m \u001b[38;5;66;03m# If we don't have any hooks, we want to skip the rest of the logic in\u001b[39;00m\n\u001b[1;32m   1099\u001b[0m \u001b[38;5;66;03m# this function, and just call forward.\u001b[39;00m\n\u001b[1;32m   1100\u001b[0m \u001b[38;5;28;01mif\u001b[39;00m \u001b[38;5;129;01mnot\u001b[39;00m (\u001b[38;5;28mself\u001b[39m\u001b[38;5;241m.\u001b[39m_backward_hooks \u001b[38;5;129;01mor\u001b[39;00m \u001b[38;5;28mself\u001b[39m\u001b[38;5;241m.\u001b[39m_forward_hooks \u001b[38;5;129;01mor\u001b[39;00m \u001b[38;5;28mself\u001b[39m\u001b[38;5;241m.\u001b[39m_forward_pre_hooks \u001b[38;5;129;01mor\u001b[39;00m _global_backward_hooks\n\u001b[1;32m   1101\u001b[0m         \u001b[38;5;129;01mor\u001b[39;00m _global_forward_hooks \u001b[38;5;129;01mor\u001b[39;00m _global_forward_pre_hooks):\n\u001b[0;32m-> 1102\u001b[0m     \u001b[38;5;28;01mreturn\u001b[39;00m \u001b[43mforward_call\u001b[49m\u001b[43m(\u001b[49m\u001b[38;5;241;43m*\u001b[39;49m\u001b[38;5;28;43minput\u001b[39;49m\u001b[43m,\u001b[49m\u001b[43m \u001b[49m\u001b[38;5;241;43m*\u001b[39;49m\u001b[38;5;241;43m*\u001b[39;49m\u001b[43mkwargs\u001b[49m\u001b[43m)\u001b[49m\n\u001b[1;32m   1103\u001b[0m \u001b[38;5;66;03m# Do not call functions when jit is used\u001b[39;00m\n\u001b[1;32m   1104\u001b[0m full_backward_hooks, non_full_backward_hooks \u001b[38;5;241m=\u001b[39m [], []\n",
      "File \u001b[0;32m~/miniconda3/envs/flink/lib/python3.8/site-packages/torch_geometric/nn/conv/sage_conv.py:80\u001b[0m, in \u001b[0;36mSAGEConv.forward\u001b[0;34m(self, x, edge_index, size)\u001b[0m\n\u001b[1;32m     77\u001b[0m     x: OptPairTensor \u001b[38;5;241m=\u001b[39m (x, x)\n\u001b[1;32m     79\u001b[0m \u001b[38;5;66;03m# propagate_type: (x: OptPairTensor)\u001b[39;00m\n\u001b[0;32m---> 80\u001b[0m out \u001b[38;5;241m=\u001b[39m \u001b[38;5;28;43mself\u001b[39;49m\u001b[38;5;241;43m.\u001b[39;49m\u001b[43mpropagate\u001b[49m\u001b[43m(\u001b[49m\u001b[43medge_index\u001b[49m\u001b[43m,\u001b[49m\u001b[43m \u001b[49m\u001b[43mx\u001b[49m\u001b[38;5;241;43m=\u001b[39;49m\u001b[43mx\u001b[49m\u001b[43m,\u001b[49m\u001b[43m \u001b[49m\u001b[43msize\u001b[49m\u001b[38;5;241;43m=\u001b[39;49m\u001b[43msize\u001b[49m\u001b[43m)\u001b[49m\n\u001b[1;32m     81\u001b[0m out \u001b[38;5;241m=\u001b[39m \u001b[38;5;28mself\u001b[39m\u001b[38;5;241m.\u001b[39mlin_l(out)\n\u001b[1;32m     83\u001b[0m x_r \u001b[38;5;241m=\u001b[39m x[\u001b[38;5;241m1\u001b[39m]\n",
      "File \u001b[0;32m~/miniconda3/envs/flink/lib/python3.8/site-packages/torch_geometric/nn/conv/message_passing.py:344\u001b[0m, in \u001b[0;36mMessagePassing.propagate\u001b[0;34m(self, edge_index, size, **kwargs)\u001b[0m\n\u001b[1;32m    342\u001b[0m     \u001b[38;5;28;01mif\u001b[39;00m res \u001b[38;5;129;01mis\u001b[39;00m \u001b[38;5;129;01mnot\u001b[39;00m \u001b[38;5;28;01mNone\u001b[39;00m:\n\u001b[1;32m    343\u001b[0m         aggr_kwargs \u001b[38;5;241m=\u001b[39m res[\u001b[38;5;241m0\u001b[39m] \u001b[38;5;28;01mif\u001b[39;00m \u001b[38;5;28misinstance\u001b[39m(res, \u001b[38;5;28mtuple\u001b[39m) \u001b[38;5;28;01melse\u001b[39;00m res\n\u001b[0;32m--> 344\u001b[0m out \u001b[38;5;241m=\u001b[39m \u001b[38;5;28;43mself\u001b[39;49m\u001b[38;5;241;43m.\u001b[39;49m\u001b[43maggregate\u001b[49m\u001b[43m(\u001b[49m\u001b[43mout\u001b[49m\u001b[43m,\u001b[49m\u001b[43m \u001b[49m\u001b[38;5;241;43m*\u001b[39;49m\u001b[38;5;241;43m*\u001b[39;49m\u001b[43maggr_kwargs\u001b[49m\u001b[43m)\u001b[49m\n\u001b[1;32m    345\u001b[0m \u001b[38;5;28;01mfor\u001b[39;00m hook \u001b[38;5;129;01min\u001b[39;00m \u001b[38;5;28mself\u001b[39m\u001b[38;5;241m.\u001b[39m_aggregate_forward_hooks\u001b[38;5;241m.\u001b[39mvalues():\n\u001b[1;32m    346\u001b[0m     res \u001b[38;5;241m=\u001b[39m hook(\u001b[38;5;28mself\u001b[39m, (aggr_kwargs, ), out)\n",
      "File \u001b[0;32m~/miniconda3/envs/flink/lib/python3.8/site-packages/torch_geometric/nn/conv/message_passing.py:427\u001b[0m, in \u001b[0;36mMessagePassing.aggregate\u001b[0;34m(self, inputs, index, ptr, dim_size)\u001b[0m\n\u001b[1;32m    425\u001b[0m     \u001b[38;5;28;01mreturn\u001b[39;00m segment_csr(inputs, ptr, reduce\u001b[38;5;241m=\u001b[39m\u001b[38;5;28mself\u001b[39m\u001b[38;5;241m.\u001b[39maggr)\n\u001b[1;32m    426\u001b[0m \u001b[38;5;28;01melse\u001b[39;00m:\n\u001b[0;32m--> 427\u001b[0m     \u001b[38;5;28;01mreturn\u001b[39;00m \u001b[43mscatter\u001b[49m\u001b[43m(\u001b[49m\u001b[43minputs\u001b[49m\u001b[43m,\u001b[49m\u001b[43m \u001b[49m\u001b[43mindex\u001b[49m\u001b[43m,\u001b[49m\u001b[43m \u001b[49m\u001b[43mdim\u001b[49m\u001b[38;5;241;43m=\u001b[39;49m\u001b[38;5;28;43mself\u001b[39;49m\u001b[38;5;241;43m.\u001b[39;49m\u001b[43mnode_dim\u001b[49m\u001b[43m,\u001b[49m\u001b[43m \u001b[49m\u001b[43mdim_size\u001b[49m\u001b[38;5;241;43m=\u001b[39;49m\u001b[43mdim_size\u001b[49m\u001b[43m,\u001b[49m\n\u001b[1;32m    428\u001b[0m \u001b[43m                   \u001b[49m\u001b[43mreduce\u001b[49m\u001b[38;5;241;43m=\u001b[39;49m\u001b[38;5;28;43mself\u001b[39;49m\u001b[38;5;241;43m.\u001b[39;49m\u001b[43maggr\u001b[49m\u001b[43m)\u001b[49m\n",
      "File \u001b[0;32m~/miniconda3/envs/flink/lib/python3.8/site-packages/torch_scatter/scatter.py:156\u001b[0m, in \u001b[0;36mscatter\u001b[0;34m(src, index, dim, out, dim_size, reduce)\u001b[0m\n\u001b[1;32m    154\u001b[0m     \u001b[38;5;28;01mreturn\u001b[39;00m scatter_mul(src, index, dim, out, dim_size)\n\u001b[1;32m    155\u001b[0m \u001b[38;5;28;01melif\u001b[39;00m reduce \u001b[38;5;241m==\u001b[39m \u001b[38;5;124m'\u001b[39m\u001b[38;5;124mmean\u001b[39m\u001b[38;5;124m'\u001b[39m:\n\u001b[0;32m--> 156\u001b[0m     \u001b[38;5;28;01mreturn\u001b[39;00m \u001b[43mscatter_mean\u001b[49m\u001b[43m(\u001b[49m\u001b[43msrc\u001b[49m\u001b[43m,\u001b[49m\u001b[43m \u001b[49m\u001b[43mindex\u001b[49m\u001b[43m,\u001b[49m\u001b[43m \u001b[49m\u001b[43mdim\u001b[49m\u001b[43m,\u001b[49m\u001b[43m \u001b[49m\u001b[43mout\u001b[49m\u001b[43m,\u001b[49m\u001b[43m \u001b[49m\u001b[43mdim_size\u001b[49m\u001b[43m)\u001b[49m\n\u001b[1;32m    157\u001b[0m \u001b[38;5;28;01melif\u001b[39;00m reduce \u001b[38;5;241m==\u001b[39m \u001b[38;5;124m'\u001b[39m\u001b[38;5;124mmin\u001b[39m\u001b[38;5;124m'\u001b[39m:\n\u001b[1;32m    158\u001b[0m     \u001b[38;5;28;01mreturn\u001b[39;00m scatter_min(src, index, dim, out, dim_size)[\u001b[38;5;241m0\u001b[39m]\n",
      "File \u001b[0;32m~/miniconda3/envs/flink/lib/python3.8/site-packages/torch_scatter/scatter.py:41\u001b[0m, in \u001b[0;36mscatter_mean\u001b[0;34m(src, index, dim, out, dim_size)\u001b[0m\n\u001b[1;32m     38\u001b[0m \u001b[38;5;28;01mdef\u001b[39;00m \u001b[38;5;21mscatter_mean\u001b[39m(src: torch\u001b[38;5;241m.\u001b[39mTensor, index: torch\u001b[38;5;241m.\u001b[39mTensor, dim: \u001b[38;5;28mint\u001b[39m \u001b[38;5;241m=\u001b[39m \u001b[38;5;241m-\u001b[39m\u001b[38;5;241m1\u001b[39m,\n\u001b[1;32m     39\u001b[0m                  out: Optional[torch\u001b[38;5;241m.\u001b[39mTensor] \u001b[38;5;241m=\u001b[39m \u001b[38;5;28;01mNone\u001b[39;00m,\n\u001b[1;32m     40\u001b[0m                  dim_size: Optional[\u001b[38;5;28mint\u001b[39m] \u001b[38;5;241m=\u001b[39m \u001b[38;5;28;01mNone\u001b[39;00m) \u001b[38;5;241m-\u001b[39m\u001b[38;5;241m>\u001b[39m torch\u001b[38;5;241m.\u001b[39mTensor:\n\u001b[0;32m---> 41\u001b[0m     out \u001b[38;5;241m=\u001b[39m \u001b[43mscatter_sum\u001b[49m\u001b[43m(\u001b[49m\u001b[43msrc\u001b[49m\u001b[43m,\u001b[49m\u001b[43m \u001b[49m\u001b[43mindex\u001b[49m\u001b[43m,\u001b[49m\u001b[43m \u001b[49m\u001b[43mdim\u001b[49m\u001b[43m,\u001b[49m\u001b[43m \u001b[49m\u001b[43mout\u001b[49m\u001b[43m,\u001b[49m\u001b[43m \u001b[49m\u001b[43mdim_size\u001b[49m\u001b[43m)\u001b[49m\n\u001b[1;32m     42\u001b[0m     dim_size \u001b[38;5;241m=\u001b[39m out\u001b[38;5;241m.\u001b[39msize(dim)\n\u001b[1;32m     44\u001b[0m     index_dim \u001b[38;5;241m=\u001b[39m dim\n",
      "File \u001b[0;32m~/miniconda3/envs/flink/lib/python3.8/site-packages/torch_scatter/scatter.py:21\u001b[0m, in \u001b[0;36mscatter_sum\u001b[0;34m(src, index, dim, out, dim_size)\u001b[0m\n\u001b[1;32m     19\u001b[0m         size[dim] \u001b[38;5;241m=\u001b[39m \u001b[38;5;28mint\u001b[39m(index\u001b[38;5;241m.\u001b[39mmax()) \u001b[38;5;241m+\u001b[39m \u001b[38;5;241m1\u001b[39m\n\u001b[1;32m     20\u001b[0m     out \u001b[38;5;241m=\u001b[39m torch\u001b[38;5;241m.\u001b[39mzeros(size, dtype\u001b[38;5;241m=\u001b[39msrc\u001b[38;5;241m.\u001b[39mdtype, device\u001b[38;5;241m=\u001b[39msrc\u001b[38;5;241m.\u001b[39mdevice)\n\u001b[0;32m---> 21\u001b[0m     \u001b[38;5;28;01mreturn\u001b[39;00m \u001b[43mout\u001b[49m\u001b[38;5;241;43m.\u001b[39;49m\u001b[43mscatter_add_\u001b[49m\u001b[43m(\u001b[49m\u001b[43mdim\u001b[49m\u001b[43m,\u001b[49m\u001b[43m \u001b[49m\u001b[43mindex\u001b[49m\u001b[43m,\u001b[49m\u001b[43m \u001b[49m\u001b[43msrc\u001b[49m\u001b[43m)\u001b[49m\n\u001b[1;32m     22\u001b[0m \u001b[38;5;28;01melse\u001b[39;00m:\n\u001b[1;32m     23\u001b[0m     \u001b[38;5;28;01mreturn\u001b[39;00m out\u001b[38;5;241m.\u001b[39mscatter_add_(dim, index, src)\n",
      "\u001b[0;31mKeyboardInterrupt\u001b[0m: "
     ]
    }
   ],
   "source": [
    "\n",
    "\n",
    "for epoch in range(50):\n",
    "    optimizer.zero_grad()\n",
    "    out = model(dataset[0])\n",
    "    loss = F.cross_entropy(out, dataset[0].y)\n",
    "    loss.backward()\n",
    "    optimizer.step()\n",
    "    print(loss)\n",
    "    losses.append(loss.detach())\n",
    "    \n"
   ]
  },
  {
   "cell_type": "code",
   "execution_count": 311,
   "id": "a217ebc3-1322-4a7b-8d75-a0c9fb9ead41",
   "metadata": {},
   "outputs": [
    {
     "data": {
      "text/plain": [
       "[<matplotlib.lines.Line2D at 0x2be31cd60>]"
      ]
     },
     "execution_count": 311,
     "metadata": {},
     "output_type": "execute_result"
    },
    {
     "data": {
      "image/png": "[encoded data removed]",
      "text/plain": [
       "<Figure size 432x288 with 1 Axes>"
      ]
     },
     "metadata": {
      "needs_background": "light"
     },
     "output_type": "display_data"
    }
   ],
   "source": [
    "plt.plot(range(0, len(losses) ),losses)"
   ]
  },
  {
   "cell_type": "code",
   "execution_count": 321,
   "id": "a98fb14a-9880-4d72-ab1e-e3b08a74bcaf",
   "metadata": {},
   "outputs": [
    {
     "name": "stdout",
     "output_type": "stream",
     "text": [
      "2022-05-06\n"
     ]
    }
   ],
   "source": []
  },
  {
   "cell_type": "code",
   "execution_count": 328,
   "id": "2fabb7ee-650f-4c99-88b9-cde969a5ce30",
   "metadata": {},
   "outputs": [],
   "source": [
    "import datetime\n",
    "torch.save(model, \"./models/GraphSage-Cora-%s\"%datetime.datetime.now().date())"
   ]
  },
  {
   "cell_type": "code",
   "execution_count": 330,
   "id": "4d72e933-030e-4bfb-b0e4-2b506baa754f",
   "metadata": {},
   "outputs": [
    {
     "data": {
      "text/plain": [
       "OrderedDict([('conv1.lin_l.weight',\n",
       "              tensor([[ 0.0869, -0.1330, -0.0570,  ...,  0.0518,  0.0608, -0.0933],\n",
       "                      [-0.0525, -0.0236,  0.0229,  ...,  0.0310,  0.0165, -0.0136],\n",
       "                      [-0.0171,  0.0569, -0.1436,  ...,  0.0920,  0.0589, -0.0692],\n",
       "                      ...,\n",
       "                      [-0.1076, -0.1716, -0.1768,  ...,  0.0976,  0.0717,  0.0016],\n",
       "                      [-0.0781, -0.1279,  0.0124,  ..., -0.0814, -0.0769, -0.0949],\n",
       "                      [ 0.0868,  0.0716,  0.0738,  ...,  0.0185, -0.0253,  0.0954]])),\n",
       "             ('conv1.lin_l.bias',\n",
       "              tensor([ 0.0539, -0.0662,  0.0380,  0.0020,  0.0384,  0.0197,  0.0206,  0.0489,\n",
       "                       0.0188,  0.0243,  0.0472, -0.0476,  0.0417, -0.0182, -0.0029, -0.0648,\n",
       "                       0.0316,  0.0541,  0.0444, -0.0333,  0.0313,  0.0771,  0.0232,  0.0220,\n",
       "                       0.0532,  0.0757,  0.0320, -0.0062, -0.0169,  0.0154,  0.0301,  0.0127,\n",
       "                       0.0483,  0.0356,  0.0405,  0.0442,  0.0407, -0.0626, -0.0525,  0.0066,\n",
       "                       0.0133,  0.0537,  0.0617,  0.0238,  0.0372,  0.0359,  0.0304,  0.0606,\n",
       "                       0.0250,  0.0348,  0.0477, -0.0493,  0.0447,  0.0313,  0.0468,  0.0507,\n",
       "                       0.0399,  0.0644,  0.0098,  0.0147,  0.0652,  0.0507,  0.0096,  0.0386,\n",
       "                       0.0552,  0.0198,  0.0156,  0.0101,  0.0385,  0.0226, -0.0605,  0.0384,\n",
       "                       0.0284, -0.0103,  0.0056,  0.0176,  0.0425,  0.0464,  0.0146,  0.0292,\n",
       "                       0.0454,  0.0201,  0.0207,  0.0521,  0.0254,  0.0311,  0.0097,  0.0627,\n",
       "                      -0.0596,  0.0413,  0.0263,  0.0360,  0.0301,  0.0186,  0.0123,  0.0311,\n",
       "                       0.0402,  0.0536,  0.0109,  0.0118, -0.0596,  0.0323,  0.0397,  0.0282,\n",
       "                      -0.0581,  0.0324,  0.0391,  0.0348,  0.0612,  0.0321,  0.0182,  0.0342,\n",
       "                       0.0216,  0.0306,  0.0492,  0.0678,  0.0152, -0.0665,  0.0160,  0.0024,\n",
       "                       0.0450,  0.0564,  0.0220, -0.0545,  0.0204,  0.0576,  0.0244,  0.0641])),\n",
       "             ('conv1.lin_r.weight',\n",
       "              tensor([[ 0.0564, -0.0877, -0.0598,  ...,  0.0795,  0.0423, -0.0225],\n",
       "                      [-0.0538, -0.0298, -0.0136,  ...,  0.0426,  0.0104, -0.0401],\n",
       "                      [-0.0432, -0.0792, -0.0574,  ..., -0.1056, -0.0052,  0.1388],\n",
       "                      ...,\n",
       "                      [-0.0987, -0.1537, -0.1774,  ...,  0.0622,  0.0885,  0.1360],\n",
       "                      [-0.1300,  0.0513,  0.0279,  ..., -0.0585,  0.0376, -0.0608],\n",
       "                      [ 0.0974,  0.1172,  0.0725,  ..., -0.0597, -0.0328,  0.1543]])),\n",
       "             ('conv2.lin_l.weight',\n",
       "              tensor([[-0.1011, -0.0012,  0.0096,  ..., -0.1328, -0.0214, -0.0416],\n",
       "                      [-0.1270,  0.1298,  0.0424,  ..., -0.0481, -0.0732,  0.1011],\n",
       "                      [ 0.0362,  0.0686, -0.0368,  ..., -0.0365, -0.0162, -0.0136],\n",
       "                      ...,\n",
       "                      [-0.0114, -0.0688,  0.0292,  ..., -0.0088,  0.0170,  0.0134],\n",
       "                      [-0.0820,  0.0151,  0.0563,  ...,  0.0418, -0.0571,  0.0993],\n",
       "                      [-0.0056,  0.1050, -0.0284,  ..., -0.0196, -0.0468,  0.0481]])),\n",
       "             ('conv2.lin_l.bias',\n",
       "              tensor([-0.1244,  0.0944, -0.1212, -0.0646, -0.0258,  0.1386, -0.0851,  0.0052,\n",
       "                      -0.0664,  0.0643,  0.0202, -0.0472,  0.0730, -0.0670,  0.0300,  0.0222,\n",
       "                       0.0622, -0.0707, -0.1259,  0.0125,  0.0452, -0.0947, -0.1095,  0.0662,\n",
       "                      -0.0207,  0.0567, -0.0063, -0.0586, -0.0430,  0.0412,  0.0837,  0.0740,\n",
       "                       0.0736, -0.0012,  0.0472, -0.0717, -0.0907,  0.1147, -0.0314,  0.0677,\n",
       "                       0.1279,  0.1105, -0.0369, -0.0296, -0.0146,  0.0100,  0.0461, -0.0374,\n",
       "                       0.0271, -0.0032, -0.1115, -0.0422, -0.0256, -0.0408,  0.0501,  0.0451,\n",
       "                      -0.0114, -0.1350, -0.0602, -0.0622, -0.1394, -0.0896,  0.0498, -0.0334])),\n",
       "             ('conv2.lin_r.weight',\n",
       "              tensor([[-0.0605, -0.1007, -0.0145,  ..., -0.1300,  0.0199, -0.0252],\n",
       "                      [-0.0600, -0.0277,  0.1518,  ...,  0.0660,  0.0608,  0.1290],\n",
       "                      [-0.0172, -0.0451, -0.0493,  ..., -0.0375, -0.0519,  0.0253],\n",
       "                      ...,\n",
       "                      [-0.0971, -0.0364, -0.0928,  ..., -0.0596,  0.0083, -0.0935],\n",
       "                      [-0.0391,  0.0897,  0.1283,  ..., -0.0081, -0.0006,  0.0904],\n",
       "                      [ 0.0687,  0.0858, -0.1401,  ...,  0.1173, -0.1214, -0.0327]])),\n",
       "             ('ff.0.weight',\n",
       "              tensor([[-0.0116,  0.0389, -0.0882,  ..., -0.1436,  0.1271,  0.1036],\n",
       "                      [-0.1039,  0.0366, -0.0603,  ..., -0.0375,  0.1280,  0.1021],\n",
       "                      [ 0.1218, -0.0521,  0.0181,  ...,  0.0611,  0.1423, -0.1014],\n",
       "                      ...,\n",
       "                      [ 0.1690, -0.0879, -0.0235,  ...,  0.0370,  0.1954,  0.0397],\n",
       "                      [-0.1435,  0.1137, -0.1107,  ..., -0.0405, -0.0044, -0.1044],\n",
       "                      [ 0.0686,  0.0758, -0.1028,  ...,  0.0506,  0.0295,  0.0488]])),\n",
       "             ('ff.0.bias',\n",
       "              tensor([-0.1878, -0.0819, -0.0934,  0.0847, -0.0928, -0.0214, -0.2022, -0.0044,\n",
       "                       0.0240,  0.0324, -0.1309,  0.2097,  0.1292, -0.0750,  0.1400, -0.0756,\n",
       "                      -0.0317,  0.1506,  0.0205,  0.0587, -0.0199, -0.2141,  0.0602, -0.1581,\n",
       "                      -0.0839,  0.1583,  0.1256,  0.1693,  0.0280, -0.0981,  0.0981, -0.0086,\n",
       "                       0.1365,  0.1071,  0.0757,  0.1529,  0.1697,  0.1367, -0.0394,  0.0006,\n",
       "                      -0.0456, -0.0164, -0.1116, -0.0682, -0.0484,  0.2044, -0.0947,  0.0329,\n",
       "                      -0.0105,  0.0839,  0.2002, -0.0326, -0.0333,  0.0662, -0.0888,  0.1355,\n",
       "                      -0.1143,  0.0383,  0.0304,  0.0851, -0.0982,  0.0804,  0.1244,  0.0379])),\n",
       "             ('ff.1.weight',\n",
       "              tensor([[ 0.1605, -0.1388,  0.0039,  ..., -0.1689, -0.0355, -0.0076],\n",
       "                      [ 0.0180, -0.0408,  0.0389,  ..., -0.2537, -0.1073, -0.0733],\n",
       "                      [ 0.0420, -0.1556,  0.1627,  ..., -0.0913, -0.2134, -0.1030],\n",
       "                      ...,\n",
       "                      [ 0.1098, -0.0572,  0.1939,  ..., -0.1748, -0.2183, -0.0761],\n",
       "                      [ 0.0740, -0.0724,  0.0796,  ..., -0.1125, -0.1482, -0.0882],\n",
       "                      [ 0.2114, -0.0578,  0.0242,  ..., -0.1443, -0.0541, -0.0712]])),\n",
       "             ('ff.1.bias',\n",
       "              tensor([-2.3558e-02, -1.2156e-01, -1.0310e-01, -6.3474e-03, -1.4496e-01,\n",
       "                       6.5737e-02,  1.8894e-01,  1.7657e-01, -8.9090e-05, -8.7357e-03,\n",
       "                      -1.9663e-01, -6.9095e-02, -1.2230e-01,  2.0352e-02,  2.9103e-01,\n",
       "                      -1.8093e-01, -3.5251e-02, -1.0594e-01, -1.4199e-02,  2.6769e-01,\n",
       "                      -7.8996e-02, -7.3206e-02,  1.8949e-01, -1.4975e-01, -1.2246e-02,\n",
       "                      -1.2968e-01, -1.6682e-01, -2.2072e-02, -1.0275e-01,  1.1227e-01,\n",
       "                      -1.3298e-01,  4.1731e-02, -2.3080e-02, -2.2938e-02, -2.9071e-03,\n",
       "                      -1.4008e-01,  2.8330e-02, -1.3924e-01, -1.3723e-01,  4.2560e-02,\n",
       "                      -5.2295e-04, -2.0136e-01,  2.3299e-02, -4.1232e-02, -2.2057e-01,\n",
       "                      -1.7340e-01, -1.2123e-01, -4.3654e-02,  1.4861e-01,  1.3055e-01,\n",
       "                       6.2830e-03,  1.2699e-01,  2.5132e-01,  2.9202e-02, -1.3543e-01,\n",
       "                      -8.6211e-02,  2.6389e-01,  1.0319e-01, -1.7660e-01, -2.4858e-01,\n",
       "                      -1.7424e-01, -1.9702e-01, -9.3701e-02, -6.8117e-02, -3.2922e-02,\n",
       "                      -6.8562e-02, -1.9790e-02, -8.9294e-02, -1.4006e-01,  2.7609e-02]))])"
      ]
     },
     "execution_count": 330,
     "metadata": {},
     "output_type": "execute_result"
    }
   ],
   "source": [
    "model.state_dict()"
   ]
  },
  {
   "cell_type": "code",
   "execution_count": null,
   "id": "19a81075-0dcf-4f8e-a7ef-f461770c5421",
   "metadata": {},
   "outputs": [],
   "source": []
  }
 ],
 "metadata": {
  "kernelspec": {
   "display_name": "Python 3 (ipykernel)",
   "language": "python",
   "name": "python3"
  },
  "language_info": {
   "codemirror_mode": {
    "name": "ipython",
    "version": 3
   },
   "file_extension": ".py",
   "mimetype": "text/x-python",
   "name": "python",
   "nbconvert_exporter": "python",
   "pygments_lexer": "ipython3",
   "version": "3.8.12"
  }
 },
 "nbformat": 4,
 "nbformat_minor": 5
}
