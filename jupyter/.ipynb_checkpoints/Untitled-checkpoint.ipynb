{
 "cells": [
  {
   "cell_type": "code",
   "execution_count": 18,
   "id": "1a96c556-89a9-4369-a690-6229e4079407",
   "metadata": {},
   "outputs": [],
   "source": [
    "import dgl\n",
    "import torch\n",
    "import torch.nn as nn\n",
    "import torch.nn.functional as F\n",
    "import itertools\n",
    "import numpy as np\n",
    "import scipy.sparse as sp\n",
    "import pandas as pd"
   ]
  },
  {
   "cell_type": "code",
   "execution_count": 27,
   "id": "87c86c1c-03eb-4687-8ab4-1249a80ddc8b",
   "metadata": {},
   "outputs": [],
   "source": [
    "ratings = pd.read_csv(\"../datasets/movielens/sorted_ratings.csv\", header=None)"
   ]
  },
  {
   "cell_type": "code",
   "execution_count": 45,
   "id": "a986ff5a-4a84-437e-b158-4ea2517c23f2",
   "metadata": {},
   "outputs": [
    {
     "name": "stderr",
     "output_type": "stream",
     "text": [
      "/home/rustambaku13/miniconda3/envs/flink/lib/python3.8/site-packages/dgl/heterograph.py:72: DGLWarning: Recommend creating graphs by `dgl.graph(data)` instead of `dgl.DGLGraph(data)`.\n",
      "  dgl_warning('Recommend creating graphs by `dgl.graph(data)`'\n"
     ]
    }
   ],
   "source": [
    "mvGraph = dgl.DGLGraph()"
   ]
  },
  {
   "cell_type": "code",
   "execution_count": 52,
   "id": "ced70220-0a7e-4678-a99f-c6e24fcff961",
   "metadata": {},
   "outputs": [],
   "source": [
    "mvGraph.add_nodes(np.unique(np.concatenate([ratings[0].unique(), ratings[0].unique()])).size)"
   ]
  },
  {
   "cell_type": "code",
   "execution_count": 58,
   "id": "6037a8a0-b8bb-45a6-9cc4-721898adafd4",
   "metadata": {},
   "outputs": [],
   "source": [
    "mvGraph.add_edges(ratings[0].values, ratings[1].values)"
   ]
  },
  {
   "cell_type": "code",
   "execution_count": 67,
   "id": "8b4ca052-4111-43b3-8697-fce3814ac413",
   "metadata": {},
   "outputs": [],
   "source": [
    "mvGraph.ndata['x'] = torch.rand((mvGraph.num_nodes(), 7))"
   ]
  },
  {
   "cell_type": "code",
   "execution_count": 77,
   "id": "0c2956b3-8f3c-44f7-9295-df3bc1149fdd",
   "metadata": {},
   "outputs": [],
   "source": [
    "sageConv = dgl.nn.SAGEConv(7, 7, aggregator_type=\"mean\")"
   ]
  },
  {
   "cell_type": "code",
   "execution_count": 93,
   "id": "8bf7cc06-eff3-4d94-be4c-b473b44bb579",
   "metadata": {
    "collapsed": true,
    "jupyter": {
     "outputs_hidden": true
    },
    "tags": []
   },
   "outputs": [
    {
     "name": "stdout",
     "output_type": "stream",
     "text": [
      "SAGEConv(\n",
      "  (feat_drop): Dropout(p=0.0, inplace=False)\n",
      "  (fc_self): Linear(in_features=7, out_features=7, bias=False)\n",
      "  (fc_neigh): Linear(in_features=7, out_features=7, bias=False)\n",
      ")\n",
      "Parameter containing:\n",
      "tensor([0., 0., 0., 0., 0., 0., 0.], requires_grad=True)\n",
      "Parameter containing:\n",
      "tensor([[ 0.6413, -0.2408, -0.8501, -0.4668, -0.5369,  0.3948, -0.7702],\n",
      "        [-0.7609,  0.5340, -0.1975, -0.5465,  0.1076,  0.3526,  0.6505],\n",
      "        [ 0.7870, -0.5753, -0.7760,  0.0852, -0.7697,  0.6718,  0.7048],\n",
      "        [ 0.8213,  0.5061, -0.8415,  0.8914,  0.7798,  0.6856, -0.5754],\n",
      "        [ 0.4530, -0.4652, -0.8454,  0.6100,  0.7065, -0.1291, -0.7999],\n",
      "        [ 0.7116, -0.0092, -0.5687, -0.7556,  0.3323, -0.3025, -0.1600],\n",
      "        [ 0.8966, -0.5762,  0.5154, -0.8767,  0.8520,  0.0593,  0.6400]],\n",
      "       requires_grad=True)\n",
      "Parameter containing:\n",
      "tensor([[-0.0781,  0.3294, -0.2460, -0.4777,  0.7410, -0.5475,  0.7326],\n",
      "        [-0.4687,  0.7108, -0.4903, -0.1608,  0.8389,  0.1331, -0.7344],\n",
      "        [ 0.6802, -0.8214,  0.3880,  0.4871, -0.3535,  0.4710, -0.3358],\n",
      "        [ 0.1955,  0.5386, -0.2177,  0.2912,  0.5739, -0.5729,  0.5262],\n",
      "        [-0.3864,  0.8741,  0.3990, -0.0458, -0.5911, -0.3672,  0.7716],\n",
      "        [-0.7698, -0.6400, -0.7603,  0.2264, -0.0849, -0.3032,  0.5240],\n",
      "        [-0.8714,  0.1290,  0.7615, -0.2533, -0.6651, -0.1991,  0.0247]],\n",
      "       requires_grad=True)\n",
      "Dropout(p=0.0, inplace=False)\n",
      "Linear(in_features=7, out_features=7, bias=False)\n",
      "Parameter containing:\n",
      "tensor([[ 0.6413, -0.2408, -0.8501, -0.4668, -0.5369,  0.3948, -0.7702],\n",
      "        [-0.7609,  0.5340, -0.1975, -0.5465,  0.1076,  0.3526,  0.6505],\n",
      "        [ 0.7870, -0.5753, -0.7760,  0.0852, -0.7697,  0.6718,  0.7048],\n",
      "        [ 0.8213,  0.5061, -0.8415,  0.8914,  0.7798,  0.6856, -0.5754],\n",
      "        [ 0.4530, -0.4652, -0.8454,  0.6100,  0.7065, -0.1291, -0.7999],\n",
      "        [ 0.7116, -0.0092, -0.5687, -0.7556,  0.3323, -0.3025, -0.1600],\n",
      "        [ 0.8966, -0.5762,  0.5154, -0.8767,  0.8520,  0.0593,  0.6400]],\n",
      "       requires_grad=True)\n",
      "Linear(in_features=7, out_features=7, bias=False)\n",
      "Parameter containing:\n",
      "tensor([[-0.0781,  0.3294, -0.2460, -0.4777,  0.7410, -0.5475,  0.7326],\n",
      "        [-0.4687,  0.7108, -0.4903, -0.1608,  0.8389,  0.1331, -0.7344],\n",
      "        [ 0.6802, -0.8214,  0.3880,  0.4871, -0.3535,  0.4710, -0.3358],\n",
      "        [ 0.1955,  0.5386, -0.2177,  0.2912,  0.5739, -0.5729,  0.5262],\n",
      "        [-0.3864,  0.8741,  0.3990, -0.0458, -0.5911, -0.3672,  0.7716],\n",
      "        [-0.7698, -0.6400, -0.7603,  0.2264, -0.0849, -0.3032,  0.5240],\n",
      "        [-0.8714,  0.1290,  0.7615, -0.2533, -0.6651, -0.1991,  0.0247]],\n",
      "       requires_grad=True)\n"
     ]
    }
   ],
   "source": [
    "for j in sageConv.modules():\n",
    "    print(j)\n",
    "    for i in j.parameters():\n",
    "        print(i)"
   ]
  },
  {
   "cell_type": "code",
   "execution_count": 81,
   "id": "283fd180-c7df-4aac-a3eb-2c60c1162752",
   "metadata": {},
   "outputs": [
    {
     "data": {
      "text/plain": [
       "tensor([[-0.6629,  0.1350,  0.0518,  ..., -0.1416, -0.0632,  0.8592],\n",
       "        [-1.1484,  0.2991,  0.3828,  ..., -0.4137, -1.8705,  0.6760],\n",
       "        [-0.7745, -0.2691,  0.3030,  ...,  0.2877, -0.9574,  0.2924],\n",
       "        ...,\n",
       "        [-0.4958,  0.9483, -0.0934,  ..., -0.1322, -0.7938,  1.0238],\n",
       "        [-0.5001, -0.2079,  1.4825,  ...,  0.0194, -0.2794,  0.6954],\n",
       "        [-0.1557,  0.4393,  0.2750,  ..., -0.2699, -1.3645,  0.2714]],\n",
       "       grad_fn=<AddBackward0>)"
      ]
     },
     "execution_count": 81,
     "metadata": {},
     "output_type": "execute_result"
    }
   ],
   "source": [
    "sageConv(mvGraph, mvGraph.ndata['x'])"
   ]
  },
  {
   "cell_type": "code",
   "execution_count": 96,
   "id": "c9f7ce39-ff2a-4804-86c8-fb8d2fc4c746",
   "metadata": {},
   "outputs": [
    {
     "ename": "AttributeError",
     "evalue": "module 'dgl' has no attribute 'utils'",
     "output_type": "error",
     "traceback": [
      "\u001b[0;31m---------------------------------------------------------------------------\u001b[0m",
      "\u001b[0;31mAttributeError\u001b[0m                            Traceback (most recent call last)",
      "\u001b[0;32m<ipython-input-96-7767275a43d9>\u001b[0m in \u001b[0;36m<module>\u001b[0;34m\u001b[0m\n\u001b[0;32m----> 1\u001b[0;31m \u001b[0mdgl\u001b[0m\u001b[0;34m.\u001b[0m\u001b[0mutils\u001b[0m\u001b[0;34m\u001b[0m\u001b[0;34m\u001b[0m\u001b[0m\n\u001b[0m",
      "\u001b[0;31mAttributeError\u001b[0m: module 'dgl' has no attribute 'utils'"
     ]
    }
   ],
   "source": []
  },
  {
   "cell_type": "code",
   "execution_count": null,
   "id": "c0521164-5eaa-4182-90c2-eefb67955b47",
   "metadata": {},
   "outputs": [],
   "source": []
  }
 ],
 "metadata": {
  "kernelspec": {
   "display_name": "Python 3",
   "language": "python",
   "name": "python3"
  },
  "language_info": {
   "codemirror_mode": {
    "name": "ipython",
    "version": 3
   },
   "file_extension": ".py",
   "mimetype": "text/x-python",
   "name": "python",
   "nbconvert_exporter": "python",
   "pygments_lexer": "ipython3",
   "version": "3.8.12"
  }
 },
 "nbformat": 4,
 "nbformat_minor": 5
}
