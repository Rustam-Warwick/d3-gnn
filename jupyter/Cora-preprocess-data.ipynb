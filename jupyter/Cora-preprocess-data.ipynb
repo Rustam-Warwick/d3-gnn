{
 "cells": [
  {
   "cell_type": "code",
   "execution_count": 1,
   "id": "c7219bd2-b1e5-4f57-b0f8-4059a038390b",
   "metadata": {},
   "outputs": [],
   "source": [
    "import sys\n",
    "\n",
    "\n",
    "sys.path.append('/home/rustambaku13/Documents/Warwick/flink-streaming-gnn/python')"
   ]
  },
  {
   "cell_type": "code",
   "execution_count": 3,
   "id": "f154c265-a3a4-421e-860d-6a0fd7eaf644",
   "metadata": {},
   "outputs": [],
   "source": [
    "import pandas as pd\n",
    "import numpy as np"
   ]
  },
  {
   "cell_type": "markdown",
   "id": "8f6bb928-8a6e-4304-b370-1b53db7fdd2b",
   "metadata": {
    "tags": []
   },
   "source": [
    "## Data Preprocessing\n"
   ]
  },
  {
   "cell_type": "code",
   "execution_count": 14,
   "id": "079ac596-5419-400b-8fd5-d9870b6282be",
   "metadata": {},
   "outputs": [],
   "source": [
    "edges = pd.read_csv(\"../datasets/cora/edges.csv\", header=None, names=[\"src\", \"dest\"] )\n",
    "vertices = pd.read_csv(\"../datasets/cora/group-edges.csv\", header=None, names=['vertex', \"label\"])"
   ]
  },
  {
   "cell_type": "code",
   "execution_count": 80,
   "id": "b0eaa5d7-2d76-40c8-bba6-39b4e0cca187",
   "metadata": {
    "tags": []
   },
   "outputs": [],
   "source": [
    "merged = pd.DataFrame(columns=[\"src\", \"dest\"])\n",
    "\n",
    "first_encounter = {}\n",
    "count = 0\n",
    "for i,row in edges.iterrows():\n",
    "    merged.loc[count] = row\n",
    "    count += 1\n",
    "    if row.src not in first_encounter:\n",
    "        value = vertices[vertices.vertex == row.src].label.values[0]\n",
    "        merged.loc[count] = [row.src, value]\n",
    "        count += 1 \n",
    "        first_encounter[row.src] = i\n",
    "    if row.dest not in first_encounter:\n",
    "        value = vertices[vertices.vertex == row.dest].label.values[0]\n",
    "        merged.loc[count] = [row.dest, value]\n",
    "        count += 1 \n",
    "        first_encounter[row.dest] = i\n"
   ]
  },
  {
   "cell_type": "code",
   "execution_count": 86,
   "id": "08cb29c6-3dca-4b99-b7de-2b53bcca985b",
   "metadata": {},
   "outputs": [],
   "source": [
    "merged.to_csv(\"../datasets/cora/merged.csv\", index=False, header=False)"
   ]
  },
  {
   "cell_type": "code",
   "execution_count": null,
   "id": "1cade487-44cc-4e18-9957-6e4438746bcd",
   "metadata": {},
   "outputs": [],
   "source": []
  }
 ],
 "metadata": {
  "kernelspec": {
   "display_name": "Python 3",
   "language": "python",
   "name": "python3"
  },
  "language_info": {
   "codemirror_mode": {
    "name": "ipython",
    "version": 3
   },
   "file_extension": ".py",
   "mimetype": "text/x-python",
   "name": "python",
   "nbconvert_exporter": "python",
   "pygments_lexer": "ipython3",
   "version": "3.8.12"
  }
 },
 "nbformat": 4,
 "nbformat_minor": 5
}
