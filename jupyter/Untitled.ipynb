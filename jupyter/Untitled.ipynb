{
 "cells": [
  {
   "cell_type": "code",
   "execution_count": 18,
   "id": "1a96c556-89a9-4369-a690-6229e4079407",
   "metadata": {},
   "outputs": [],
   "source": [
    "import dgl\n",
    "import torch\n",
    "import torch.nn as nn\n",
    "import torch.nn.functional as F\n",
    "import itertools\n",
    "import numpy as np\n",
    "import scipy.sparse as sp\n",
    "import pandas as pd"
   ]
  },
  {
   "cell_type": "code",
   "execution_count": 27,
   "id": "87c86c1c-03eb-4687-8ab4-1249a80ddc8b",
   "metadata": {},
   "outputs": [],
   "source": [
    "ratings = pd.read_csv(\"../datasets/movielens/sorted_ratings.csv\", header=None)"
   ]
  },
  {
   "cell_type": "code",
   "execution_count": 45,
   "id": "a986ff5a-4a84-437e-b158-4ea2517c23f2",
   "metadata": {},
   "outputs": [
    {
     "name": "stderr",
     "output_type": "stream",
     "text": [
      "/home/rustambaku13/miniconda3/envs/flink/lib/python3.8/site-packages/dgl/heterograph.py:72: DGLWarning: Recommend creating graphs by `dgl.graph(data)` instead of `dgl.DGLGraph(data)`.\n",
      "  dgl_warning('Recommend creating graphs by `dgl.graph(data)`'\n"
     ]
    }
   ],
   "source": [
    "mvGraph = dgl.DGLGraph()"
   ]
  },
  {
   "cell_type": "code",
   "execution_count": 52,
   "id": "ced70220-0a7e-4678-a99f-c6e24fcff961",
   "metadata": {},
   "outputs": [],
   "source": [
    "mvGraph.add_nodes(np.unique(np.concatenate([ratings[0].unique(), ratings[0].unique()])).size)"
   ]
  },
  {
   "cell_type": "code",
   "execution_count": 58,
   "id": "6037a8a0-b8bb-45a6-9cc4-721898adafd4",
   "metadata": {},
   "outputs": [],
   "source": [
    "mvGraph.add_edges(ratings[0].values, ratings[1].values)"
   ]
  },
  {
   "cell_type": "code",
   "execution_count": 67,
   "id": "8b4ca052-4111-43b3-8697-fce3814ac413",
   "metadata": {},
   "outputs": [],
   "source": [
    "mvGraph.ndata['x'] = torch.rand((mvGraph.num_nodes(), 7))"
   ]
  },
  {
   "cell_type": "code",
   "execution_count": 77,
   "id": "0c2956b3-8f3c-44f7-9295-df3bc1149fdd",
   "metadata": {},
   "outputs": [],
   "source": [
    "sageConv = dgl.nn.SAGEConv(7, 7, aggregator_type=\"mean\")"
   ]
  },
  {
   "cell_type": "code",
   "execution_count": 106,
   "id": "8bf7cc06-eff3-4d94-be4c-b473b44bb579",
   "metadata": {
    "collapsed": true,
    "jupyter": {
     "outputs_hidden": true
    },
    "tags": []
   },
   "outputs": [
    {
     "name": "stdout",
     "output_type": "stream",
     "text": [
      "SAGEConv(\n",
      "  (feat_drop): Dropout(p=0.0, inplace=False)\n",
      "  (fc_self): Linear(in_features=7, out_features=7, bias=False)\n",
      "  (fc_neigh): Linear(in_features=7, out_features=7, bias=False)\n",
      ")\n",
      "Parameter containing:\n",
      "tensor([0., 0., 0., 0., 0., 0., 0.], requires_grad=True) tensor([1., 1., 1., 1., 1., 1., 1.])\n",
      "Parameter containing:\n",
      "tensor([[ 0.6413, -0.2408, -0.8501, -0.4668, -0.5369,  0.3948, -0.7702],\n",
      "        [-0.7609,  0.5340, -0.1975, -0.5465,  0.1076,  0.3526,  0.6505],\n",
      "        [ 0.7870, -0.5753, -0.7760,  0.0852, -0.7697,  0.6718,  0.7048],\n",
      "        [ 0.8213,  0.5061, -0.8415,  0.8914,  0.7798,  0.6856, -0.5754],\n",
      "        [ 0.4530, -0.4652, -0.8454,  0.6100,  0.7065, -0.1291, -0.7999],\n",
      "        [ 0.7116, -0.0092, -0.5687, -0.7556,  0.3323, -0.3025, -0.1600],\n",
      "        [ 0.8966, -0.5762,  0.5154, -0.8767,  0.8520,  0.0593,  0.6400]],\n",
      "       requires_grad=True) tensor([[0.6045, 0.6315, 0.3701, 0.3258, 0.5585, 0.4917, 0.4233],\n",
      "        [0.6045, 0.6315, 0.3701, 0.3258, 0.5585, 0.4917, 0.4233],\n",
      "        [0.6045, 0.6315, 0.3701, 0.3258, 0.5585, 0.4917, 0.4233],\n",
      "        [0.6045, 0.6315, 0.3701, 0.3258, 0.5585, 0.4917, 0.4233],\n",
      "        [0.6045, 0.6315, 0.3701, 0.3258, 0.5585, 0.4917, 0.4233],\n",
      "        [0.6045, 0.6315, 0.3701, 0.3258, 0.5585, 0.4917, 0.4233],\n",
      "        [0.6045, 0.6315, 0.3701, 0.3258, 0.5585, 0.4917, 0.4233]])\n",
      "Parameter containing:\n",
      "tensor([[-0.0781,  0.3294, -0.2460, -0.4777,  0.7410, -0.5475,  0.7326],\n",
      "        [-0.4687,  0.7108, -0.4903, -0.1608,  0.8389,  0.1331, -0.7344],\n",
      "        [ 0.6802, -0.8214,  0.3880,  0.4871, -0.3535,  0.4710, -0.3358],\n",
      "        [ 0.1955,  0.5386, -0.2177,  0.2912,  0.5739, -0.5729,  0.5262],\n",
      "        [-0.3864,  0.8741,  0.3990, -0.0458, -0.5911, -0.3672,  0.7716],\n",
      "        [-0.7698, -0.6400, -0.7603,  0.2264, -0.0849, -0.3032,  0.5240],\n",
      "        [-0.8714,  0.1290,  0.7615, -0.2533, -0.6651, -0.1991,  0.0247]],\n",
      "       requires_grad=True) tensor([[0., 0., 0., 0., 0., 0., 0.],\n",
      "        [0., 0., 0., 0., 0., 0., 0.],\n",
      "        [0., 0., 0., 0., 0., 0., 0.],\n",
      "        [0., 0., 0., 0., 0., 0., 0.],\n",
      "        [0., 0., 0., 0., 0., 0., 0.],\n",
      "        [0., 0., 0., 0., 0., 0., 0.],\n",
      "        [0., 0., 0., 0., 0., 0., 0.]])\n",
      "Dropout(p=0.0, inplace=False)\n",
      "Linear(in_features=7, out_features=7, bias=False)\n",
      "Parameter containing:\n",
      "tensor([[ 0.6413, -0.2408, -0.8501, -0.4668, -0.5369,  0.3948, -0.7702],\n",
      "        [-0.7609,  0.5340, -0.1975, -0.5465,  0.1076,  0.3526,  0.6505],\n",
      "        [ 0.7870, -0.5753, -0.7760,  0.0852, -0.7697,  0.6718,  0.7048],\n",
      "        [ 0.8213,  0.5061, -0.8415,  0.8914,  0.7798,  0.6856, -0.5754],\n",
      "        [ 0.4530, -0.4652, -0.8454,  0.6100,  0.7065, -0.1291, -0.7999],\n",
      "        [ 0.7116, -0.0092, -0.5687, -0.7556,  0.3323, -0.3025, -0.1600],\n",
      "        [ 0.8966, -0.5762,  0.5154, -0.8767,  0.8520,  0.0593,  0.6400]],\n",
      "       requires_grad=True) tensor([[0.6045, 0.6315, 0.3701, 0.3258, 0.5585, 0.4917, 0.4233],\n",
      "        [0.6045, 0.6315, 0.3701, 0.3258, 0.5585, 0.4917, 0.4233],\n",
      "        [0.6045, 0.6315, 0.3701, 0.3258, 0.5585, 0.4917, 0.4233],\n",
      "        [0.6045, 0.6315, 0.3701, 0.3258, 0.5585, 0.4917, 0.4233],\n",
      "        [0.6045, 0.6315, 0.3701, 0.3258, 0.5585, 0.4917, 0.4233],\n",
      "        [0.6045, 0.6315, 0.3701, 0.3258, 0.5585, 0.4917, 0.4233],\n",
      "        [0.6045, 0.6315, 0.3701, 0.3258, 0.5585, 0.4917, 0.4233]])\n",
      "Linear(in_features=7, out_features=7, bias=False)\n",
      "Parameter containing:\n",
      "tensor([[-0.0781,  0.3294, -0.2460, -0.4777,  0.7410, -0.5475,  0.7326],\n",
      "        [-0.4687,  0.7108, -0.4903, -0.1608,  0.8389,  0.1331, -0.7344],\n",
      "        [ 0.6802, -0.8214,  0.3880,  0.4871, -0.3535,  0.4710, -0.3358],\n",
      "        [ 0.1955,  0.5386, -0.2177,  0.2912,  0.5739, -0.5729,  0.5262],\n",
      "        [-0.3864,  0.8741,  0.3990, -0.0458, -0.5911, -0.3672,  0.7716],\n",
      "        [-0.7698, -0.6400, -0.7603,  0.2264, -0.0849, -0.3032,  0.5240],\n",
      "        [-0.8714,  0.1290,  0.7615, -0.2533, -0.6651, -0.1991,  0.0247]],\n",
      "       requires_grad=True) tensor([[0., 0., 0., 0., 0., 0., 0.],\n",
      "        [0., 0., 0., 0., 0., 0., 0.],\n",
      "        [0., 0., 0., 0., 0., 0., 0.],\n",
      "        [0., 0., 0., 0., 0., 0., 0.],\n",
      "        [0., 0., 0., 0., 0., 0., 0.],\n",
      "        [0., 0., 0., 0., 0., 0., 0.],\n",
      "        [0., 0., 0., 0., 0., 0., 0.]])\n"
     ]
    }
   ],
   "source": [
    "for j in sageConv.modules():\n",
    "    print(j)\n",
    "    for i in j.parameters():\n",
    "        print(i, i.grad)"
   ]
  },
  {
   "cell_type": "code",
   "execution_count": 151,
   "id": "283fd180-c7df-4aac-a3eb-2c60c1162752",
   "metadata": {},
   "outputs": [],
   "source": [
    "embedding = sageConv(mvGraph, mvGraph.ndata['x'])"
   ]
  },
  {
   "cell_type": "code",
   "execution_count": 152,
   "id": "ff1f49a5-8546-4a03-9717-2e77eb6ea4aa",
   "metadata": {},
   "outputs": [],
   "source": [
    "gradients = torch.zeros((mvGraph.num_nodes(), 7))\n",
    "gradients[209169,:] = 1"
   ]
  },
  {
   "cell_type": "code",
   "execution_count": 159,
   "id": "c9f7ce39-ff2a-4804-86c8-fb8d2fc4c746",
   "metadata": {
    "collapsed": true,
    "jupyter": {
     "outputs_hidden": true
    },
    "tags": []
   },
   "outputs": [
    {
     "ename": "RuntimeError",
     "evalue": "Trying to backward through the graph a second time (or directly access saved tensors after they have already been freed). Saved intermediate values of the graph are freed when you call .backward() or autograd.grad(). Specify retain_graph=True if you need to backward through the graph a second time or if you need to access saved tensors after calling backward.",
     "output_type": "error",
     "traceback": [
      "\u001b[0;31m---------------------------------------------------------------------------\u001b[0m",
      "\u001b[0;31mRuntimeError\u001b[0m                              Traceback (most recent call last)",
      "\u001b[0;32m<ipython-input-159-5543c28fca57>\u001b[0m in \u001b[0;36m<module>\u001b[0;34m\u001b[0m\n\u001b[0;32m----> 1\u001b[0;31m \u001b[0membedding\u001b[0m\u001b[0;34m.\u001b[0m\u001b[0mbackward\u001b[0m\u001b[0;34m(\u001b[0m\u001b[0mgradients\u001b[0m\u001b[0;34m)\u001b[0m\u001b[0;34m\u001b[0m\u001b[0;34m\u001b[0m\u001b[0m\n\u001b[0m",
      "\u001b[0;32m~/miniconda3/envs/flink/lib/python3.8/site-packages/torch/_tensor.py\u001b[0m in \u001b[0;36mbackward\u001b[0;34m(self, gradient, retain_graph, create_graph, inputs)\u001b[0m\n\u001b[1;32m    305\u001b[0m                 \u001b[0mcreate_graph\u001b[0m\u001b[0;34m=\u001b[0m\u001b[0mcreate_graph\u001b[0m\u001b[0;34m,\u001b[0m\u001b[0;34m\u001b[0m\u001b[0;34m\u001b[0m\u001b[0m\n\u001b[1;32m    306\u001b[0m                 inputs=inputs)\n\u001b[0;32m--> 307\u001b[0;31m         \u001b[0mtorch\u001b[0m\u001b[0;34m.\u001b[0m\u001b[0mautograd\u001b[0m\u001b[0;34m.\u001b[0m\u001b[0mbackward\u001b[0m\u001b[0;34m(\u001b[0m\u001b[0mself\u001b[0m\u001b[0;34m,\u001b[0m \u001b[0mgradient\u001b[0m\u001b[0;34m,\u001b[0m \u001b[0mretain_graph\u001b[0m\u001b[0;34m,\u001b[0m \u001b[0mcreate_graph\u001b[0m\u001b[0;34m,\u001b[0m \u001b[0minputs\u001b[0m\u001b[0;34m=\u001b[0m\u001b[0minputs\u001b[0m\u001b[0;34m)\u001b[0m\u001b[0;34m\u001b[0m\u001b[0;34m\u001b[0m\u001b[0m\n\u001b[0m\u001b[1;32m    308\u001b[0m \u001b[0;34m\u001b[0m\u001b[0m\n\u001b[1;32m    309\u001b[0m     \u001b[0;32mdef\u001b[0m \u001b[0mregister_hook\u001b[0m\u001b[0;34m(\u001b[0m\u001b[0mself\u001b[0m\u001b[0;34m,\u001b[0m \u001b[0mhook\u001b[0m\u001b[0;34m)\u001b[0m\u001b[0;34m:\u001b[0m\u001b[0;34m\u001b[0m\u001b[0;34m\u001b[0m\u001b[0m\n",
      "\u001b[0;32m~/miniconda3/envs/flink/lib/python3.8/site-packages/torch/autograd/__init__.py\u001b[0m in \u001b[0;36mbackward\u001b[0;34m(tensors, grad_tensors, retain_graph, create_graph, grad_variables, inputs)\u001b[0m\n\u001b[1;32m    152\u001b[0m         \u001b[0mretain_graph\u001b[0m \u001b[0;34m=\u001b[0m \u001b[0mcreate_graph\u001b[0m\u001b[0;34m\u001b[0m\u001b[0;34m\u001b[0m\u001b[0m\n\u001b[1;32m    153\u001b[0m \u001b[0;34m\u001b[0m\u001b[0m\n\u001b[0;32m--> 154\u001b[0;31m     Variable._execution_engine.run_backward(\n\u001b[0m\u001b[1;32m    155\u001b[0m         \u001b[0mtensors\u001b[0m\u001b[0;34m,\u001b[0m \u001b[0mgrad_tensors_\u001b[0m\u001b[0;34m,\u001b[0m \u001b[0mretain_graph\u001b[0m\u001b[0;34m,\u001b[0m \u001b[0mcreate_graph\u001b[0m\u001b[0;34m,\u001b[0m \u001b[0minputs\u001b[0m\u001b[0;34m,\u001b[0m\u001b[0;34m\u001b[0m\u001b[0;34m\u001b[0m\u001b[0m\n\u001b[1;32m    156\u001b[0m         allow_unreachable=True, accumulate_grad=True)  # allow_unreachable flag\n",
      "\u001b[0;31mRuntimeError\u001b[0m: Trying to backward through the graph a second time (or directly access saved tensors after they have already been freed). Saved intermediate values of the graph are freed when you call .backward() or autograd.grad(). Specify retain_graph=True if you need to backward through the graph a second time or if you need to access saved tensors after calling backward."
     ]
    }
   ],
   "source": [
    "embedding.backward(gradients)"
   ]
  },
  {
   "cell_type": "code",
   "execution_count": 154,
   "id": "c0521164-5eaa-4182-90c2-eefb67955b47",
   "metadata": {
    "tags": []
   },
   "outputs": [
    {
     "name": "stdout",
     "output_type": "stream",
     "text": [
      "SAGEConv(\n",
      "  (feat_drop): Dropout(p=0.0, inplace=False)\n",
      "  (fc_self): Linear(in_features=7, out_features=7, bias=False)\n",
      "  (fc_neigh): Linear(in_features=7, out_features=7, bias=False)\n",
      ")\n",
      "Parameter containing:\n",
      "tensor([0., 0., 0., 0., 0., 0., 0.], requires_grad=True) tensor([2., 2., 2., 2., 2., 2., 2.])\n",
      "Parameter containing:\n",
      "tensor([[ 0.6413, -0.2408, -0.8501, -0.4668, -0.5369,  0.3948, -0.7702],\n",
      "        [-0.7609,  0.5340, -0.1975, -0.5465,  0.1076,  0.3526,  0.6505],\n",
      "        [ 0.7870, -0.5753, -0.7760,  0.0852, -0.7697,  0.6718,  0.7048],\n",
      "        [ 0.8213,  0.5061, -0.8415,  0.8914,  0.7798,  0.6856, -0.5754],\n",
      "        [ 0.4530, -0.4652, -0.8454,  0.6100,  0.7065, -0.1291, -0.7999],\n",
      "        [ 0.7116, -0.0092, -0.5687, -0.7556,  0.3323, -0.3025, -0.1600],\n",
      "        [ 0.8966, -0.5762,  0.5154, -0.8767,  0.8520,  0.0593,  0.6400]],\n",
      "       requires_grad=True) tensor([[0.6963, 0.2898, 0.6288, 0.0531, 0.9924, 0.6635, 0.5498],\n",
      "        [0.6963, 0.2898, 0.6288, 0.0531, 0.9924, 0.6635, 0.5498],\n",
      "        [0.6963, 0.2898, 0.6288, 0.0531, 0.9924, 0.6635, 0.5498],\n",
      "        [0.6963, 0.2898, 0.6288, 0.0531, 0.9924, 0.6635, 0.5498],\n",
      "        [0.6963, 0.2898, 0.6288, 0.0531, 0.9924, 0.6635, 0.5498],\n",
      "        [0.6963, 0.2898, 0.6288, 0.0531, 0.9924, 0.6635, 0.5498],\n",
      "        [0.6963, 0.2898, 0.6288, 0.0531, 0.9924, 0.6635, 0.5498]])\n",
      "Parameter containing:\n",
      "tensor([[-0.0781,  0.3294, -0.2460, -0.4777,  0.7410, -0.5475,  0.7326],\n",
      "        [-0.4687,  0.7108, -0.4903, -0.1608,  0.8389,  0.1331, -0.7344],\n",
      "        [ 0.6802, -0.8214,  0.3880,  0.4871, -0.3535,  0.4710, -0.3358],\n",
      "        [ 0.1955,  0.5386, -0.2177,  0.2912,  0.5739, -0.5729,  0.5262],\n",
      "        [-0.3864,  0.8741,  0.3990, -0.0458, -0.5911, -0.3672,  0.7716],\n",
      "        [-0.7698, -0.6400, -0.7603,  0.2264, -0.0849, -0.3032,  0.5240],\n",
      "        [-0.8714,  0.1290,  0.7615, -0.2533, -0.6651, -0.1991,  0.0247]],\n",
      "       requires_grad=True) tensor([[0.3913, 0.7469, 0.2441, 0.6800, 0.9161, 0.5714, 0.2518],\n",
      "        [0.3913, 0.7469, 0.2441, 0.6800, 0.9161, 0.5714, 0.2518],\n",
      "        [0.3913, 0.7469, 0.2441, 0.6800, 0.9161, 0.5714, 0.2518],\n",
      "        [0.3913, 0.7469, 0.2441, 0.6800, 0.9161, 0.5714, 0.2518],\n",
      "        [0.3913, 0.7469, 0.2441, 0.6800, 0.9161, 0.5714, 0.2518],\n",
      "        [0.3913, 0.7469, 0.2441, 0.6800, 0.9161, 0.5714, 0.2518],\n",
      "        [0.3913, 0.7469, 0.2441, 0.6800, 0.9161, 0.5714, 0.2518]])\n"
     ]
    }
   ],
   "source": [
    "print(sageConv)\n",
    "for i in sageConv.parameters():\n",
    "    print(i,i.grad)"
   ]
  },
  {
   "cell_type": "code",
   "execution_count": 147,
   "id": "e39aac05-d1a2-4b37-b135-dcc8169fe366",
   "metadata": {},
   "outputs": [],
   "source": [
    "sageConv.zero_grad()"
   ]
  },
  {
   "cell_type": "code",
   "execution_count": 158,
   "id": "aee93858-5c51-4f7d-a885-31660352eed7",
   "metadata": {},
   "outputs": [
    {
     "data": {
      "text/plain": [
       "{'x': tensor([[0.6045, 0.6315, 0.3701,  ..., 0.5585, 0.4917, 0.4233],\n",
       "        [0.1209, 0.0220, 0.9092,  ..., 0.5982, 0.9966, 0.7096],\n",
       "        [0.9955, 0.9801, 0.4451,  ..., 0.5891, 0.2126, 0.5948],\n",
       "        ...,\n",
       "        [0.6963, 0.2898, 0.6288,  ..., 0.9924, 0.6635, 0.5498],\n",
       "        [0.7448, 0.0271, 0.0137,  ..., 0.0751, 0.3804, 0.9385],\n",
       "        [0.8445, 0.3188, 0.8879,  ..., 0.4169, 0.9626, 0.2554]])}"
      ]
     },
     "execution_count": 158,
     "metadata": {},
     "output_type": "execute_result"
    }
   ],
   "source": [
    "mvGraph.sample_neighbors(209169, -1).ndata"
   ]
  },
  {
   "cell_type": "code",
   "execution_count": 144,
   "id": "783ad94d-d83c-4ade-a721-42cd6f3b1707",
   "metadata": {},
   "outputs": [
    {
     "data": {
      "text/plain": [
       "tensor([     0,      1,      2,  ..., 209169, 209170, 209171])"
      ]
     },
     "execution_count": 144,
     "metadata": {},
     "output_type": "execute_result"
    }
   ],
   "source": [
    "mvGraph.nodes()"
   ]
  },
  {
   "cell_type": "code",
   "execution_count": null,
   "id": "085d68f2-9dd9-44bf-9ac5-c192c89a2482",
   "metadata": {},
   "outputs": [],
   "source": []
  }
 ],
 "metadata": {
  "kernelspec": {
   "display_name": "Python 3",
   "language": "python",
   "name": "python3"
  },
  "language_info": {
   "codemirror_mode": {
    "name": "ipython",
    "version": 3
   },
   "file_extension": ".py",
   "mimetype": "text/x-python",
   "name": "python",
   "nbconvert_exporter": "python",
   "pygments_lexer": "ipython3",
   "version": "3.8.12"
  }
 },
 "nbformat": 4,
 "nbformat_minor": 5
}
